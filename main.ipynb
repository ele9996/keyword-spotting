{
  "nbformat": 4,
  "nbformat_minor": 0,
  "metadata": {
    "colab": {
      "name": "main.ipynb",
      "provenance": [],
      "toc_visible": true,
      "authorship_tag": "ABX9TyMGhD1b3JQzylRGs2p19pgX",
      "include_colab_link": true
    },
    "kernelspec": {
      "name": "python3",
      "display_name": "Python 3"
    }
  },
  "cells": [
    {
      "cell_type": "markdown",
      "metadata": {
        "id": "view-in-github",
        "colab_type": "text"
      },
      "source": [
        "<a href=\"https://colab.research.google.com/github/ele9996/keyword-spotting/blob/main/main.ipynb\" target=\"_parent\"><img src=\"https://colab.research.google.com/assets/colab-badge.svg\" alt=\"Open In Colab\"/></a>"
      ]
    },
    {
      "cell_type": "code",
      "metadata": {
        "id": "Q6TDZsVFohfw"
      },
      "source": [
        "import tensorflow as tf\n",
        "import numpy as np\n",
        "from tensorflow import keras\n",
        "import pandas as pd\n",
        "import matplotlib.pyplot as plt\n",
        "import os\n",
        "from zipfile import ZipFile"
      ],
      "execution_count": 28,
      "outputs": []
    },
    {
      "cell_type": "code",
      "metadata": {
        "colab": {
          "base_uri": "https://localhost:8080/"
        },
        "id": "0el4NzoV22tl",
        "outputId": "f8d06e3f-95b7-4477-c1a6-bffffb34399f"
      },
      "source": [
        "import pathlib\n",
        "pathlib.Path().absolute()"
      ],
      "execution_count": 29,
      "outputs": [
        {
          "output_type": "execute_result",
          "data": {
            "text/plain": [
              "PosixPath('/content')"
            ]
          },
          "metadata": {
            "tags": []
          },
          "execution_count": 29
        }
      ]
    },
    {
      "cell_type": "code",
      "metadata": {
        "id": "ZYKtkvY1zLsD"
      },
      "source": [
        "#parser = argparse.ArgumentParser()\n",
        "#parser.add_argument('--model', type=str, required=True, help='model name')\n",
        "#parser.add_argument('--mfcc', action='store_true', help='use MFCCs')\n",
        "#parser.add_argument('--silence', action='store_true', help='add silence')\n",
        "#args = parser.parse_args()\n",
        "\n",
        "mfcc=True\n",
        "silence=False"
      ],
      "execution_count": 30,
      "outputs": []
    },
    {
      "cell_type": "code",
      "metadata": {
        "id": "bpBqRw_Qo5Nd"
      },
      "source": [
        "seed = 42\n",
        "tf.random.set_seed(seed)\n",
        "np.random.seed(seed)"
      ],
      "execution_count": 31,
      "outputs": []
    },
    {
      "cell_type": "markdown",
      "metadata": {
        "id": "qyjQ3lWJyKiX"
      },
      "source": [
        "#Data extraction from file"
      ]
    },
    {
      "cell_type": "code",
      "metadata": {
        "id": "SugHF8ulpa1_"
      },
      "source": [
        "#if args.silence is True:\n",
        "if silence is True:\n",
        "    data_dir = os.path.join('.', 'data', 'mini_speech_commands_silence')\n",
        "else:\n",
        "    zip_path = tf.keras.utils.get_file(\n",
        "        origin=\"http://storage.googleapis.com/download.tensorflow.org/data/mini_speech_commands.zip\",\n",
        "        fname='mini_speech_commands.zip',\n",
        "        extract=True,\n",
        "        cache_dir='.', cache_subdir='data')\n",
        "\n",
        "    data_dir = os.path.join('.', 'data', 'mini_speech_commands')\n",
        "\n",
        "filenames = tf.io.gfile.glob(str(data_dir) + '/*/*')\n",
        "filenames = tf.random.shuffle(filenames)\n",
        "num_samples = len(filenames)\n",
        "\n",
        "#if args.silence is True:\n",
        "if silence is True:\n",
        "    total = 9000\n",
        "else:\n",
        "    total = 8000"
      ],
      "execution_count": 32,
      "outputs": []
    },
    {
      "cell_type": "markdown",
      "metadata": {
        "id": "hXHzqQ_7yXjG"
      },
      "source": [
        "#Training, Validation and Test dataset definition"
      ]
    },
    {
      "cell_type": "code",
      "metadata": {
        "id": "TMgg6XmzyjC3"
      },
      "source": [
        "train_files = filenames[:int(total*0.8)]\n",
        "val_files = filenames[int(total*0.8): int(total*0.9)]\n",
        "test_files = filenames[int(total*0.9):]"
      ],
      "execution_count": 33,
      "outputs": []
    },
    {
      "cell_type": "code",
      "metadata": {
        "id": "_k9_btuKynGg"
      },
      "source": [
        "LABELS = np.array(tf.io.gfile.listdir(str(data_dir)))\n",
        "LABELS = LABELS[LABELS != 'README.md']"
      ],
      "execution_count": 34,
      "outputs": []
    },
    {
      "cell_type": "markdown",
      "metadata": {
        "id": "rg_iP45xs-bi"
      },
      "source": [
        "#Data preparation and preprocessing steps"
      ]
    },
    {
      "cell_type": "code",
      "metadata": {
        "id": "W57hi_WDtHaK"
      },
      "source": [
        "class SignalGenerator:\n",
        "    def __init__(self, labels, sampling_rate, frame_length, frame_step,\n",
        "            num_mel_bins=None, lower_frequency=None, upper_frequency=None,\n",
        "            num_coefficients=None, mfcc=False):\n",
        "        self.labels = labels\n",
        "        self.sampling_rate = sampling_rate\n",
        "        self.frame_length = frame_length\n",
        "        self.frame_step = frame_step\n",
        "        self.num_mel_bins = num_mel_bins\n",
        "        self.lower_frequency = lower_frequency\n",
        "        self.upper_frequency = upper_frequency\n",
        "        self.num_coefficients = num_coefficients\n",
        "        num_spectrogram_bins = (frame_length) // 2 + 1\n",
        "\n",
        "        if mfcc is True:\n",
        "            self.linear_to_mel_weight_matrix = tf.signal.linear_to_mel_weight_matrix(\n",
        "                    self.num_mel_bins, num_spectrogram_bins, self.sampling_rate,\n",
        "                    self.lower_frequency, self.upper_frequency)\n",
        "            self.preprocess = self.preprocess_with_mfcc\n",
        "        else:\n",
        "            self.preprocess = self.preprocess_with_stft\n",
        "\n",
        "    def read(self, file_path):\n",
        "        parts = tf.strings.split(file_path, os.path.sep)\n",
        "        label = parts[-2]\n",
        "        label_id = tf.argmax(label == self.labels)\n",
        "        audio_binary = tf.io.read_file(file_path)\n",
        "        audio, _ = tf.audio.decode_wav(audio_binary)\n",
        "        audio = tf.squeeze(audio, axis=1)\n",
        "\n",
        "        return audio, label_id\n",
        "\n",
        "    def pad(self, audio):\n",
        "        zero_padding = tf.zeros([self.sampling_rate] - tf.shape(audio), dtype=tf.float32)\n",
        "        audio = tf.concat([audio, zero_padding], 0)\n",
        "        audio.set_shape([self.sampling_rate])\n",
        "\n",
        "        return audio\n",
        "\n",
        "    def get_spectrogram(self, audio):\n",
        "        stft = tf.signal.stft(audio, frame_length=self.frame_length,\n",
        "                frame_step=self.frame_step, fft_length=self.frame_length)\n",
        "        spectrogram = tf.abs(stft)\n",
        "\n",
        "        return spectrogram\n",
        "\n",
        "    def get_mfccs(self, spectrogram):\n",
        "        mel_spectrogram = tf.tensordot(spectrogram,\n",
        "                self.linear_to_mel_weight_matrix, 1)\n",
        "        log_mel_spectrogram = tf.math.log(mel_spectrogram + 1.e-6)\n",
        "        mfccs = tf.signal.mfccs_from_log_mel_spectrograms(log_mel_spectrogram)\n",
        "        mfccs = mfccs[..., :self.num_coefficients]\n",
        "\n",
        "        return mfccs\n",
        "\n",
        "    def preprocess_with_stft(self, file_path):\n",
        "        audio, label = self.read(file_path)\n",
        "        audio = self.pad(audio)\n",
        "        spectrogram = self.get_spectrogram(audio)\n",
        "        spectrogram = tf.expand_dims(spectrogram, -1)\n",
        "        spectrogram = tf.image.resize(spectrogram, [32, 32])\n",
        "\n",
        "        return spectrogram, label\n",
        "\n",
        "    def preprocess_with_mfcc(self, file_path):\n",
        "        audio, label = self.read(file_path)\n",
        "        audio = self.pad(audio)\n",
        "        spectrogram = self.get_spectrogram(audio)\n",
        "        mfccs = self.get_mfccs(spectrogram)\n",
        "        mfccs = tf.expand_dims(mfccs, -1)\n",
        "\n",
        "        return mfccs, label\n",
        "\n",
        "    def make_dataset(self, files, train):\n",
        "        ds = tf.data.Dataset.from_tensor_slices(files)\n",
        "        ds = ds.map(self.preprocess, num_parallel_calls=4)\n",
        "        ds = ds.batch(32)\n",
        "        ds = ds.cache()\n",
        "        if train is True:\n",
        "            ds = ds.shuffle(100, reshuffle_each_iteration=True)\n",
        "\n",
        "        return ds"
      ],
      "execution_count": 35,
      "outputs": []
    },
    {
      "cell_type": "code",
      "metadata": {
        "id": "AsVi-mJtytv8"
      },
      "source": [
        "STFT_OPTIONS = {'frame_length': 256, 'frame_step': 128, 'mfcc': False}\n",
        "MFCC_OPTIONS = {'frame_length': 640, 'frame_step': 320, 'mfcc': True,\n",
        "        'lower_frequency': 20, 'upper_frequency': 4000, 'num_mel_bins': 40,\n",
        "        'num_coefficients': 10}"
      ],
      "execution_count": 36,
      "outputs": []
    },
    {
      "cell_type": "code",
      "metadata": {
        "id": "j4NFUEWjy3-L"
      },
      "source": [
        "#if args.mfcc is True:\n",
        "if mfcc is True:\n",
        "    options = MFCC_OPTIONS\n",
        "    strides = [2, 1]\n",
        "else:\n",
        "    options = STFT_OPTIONS\n",
        "    strides = [2, 2]\n"
      ],
      "execution_count": 37,
      "outputs": []
    },
    {
      "cell_type": "code",
      "metadata": {
        "id": "SxA94-IXy48F"
      },
      "source": [
        "generator = SignalGenerator(LABELS, 16000, **options)\n",
        "train_ds = generator.make_dataset(train_files, True)\n",
        "val_ds = generator.make_dataset(val_files, False)\n",
        "test_ds = generator.make_dataset(test_files, False)\n",
        "\n",
        "#if args.silence is True:\n",
        "if silence is True:\n",
        "    units = 9\n",
        "else:\n",
        "    units = 8"
      ],
      "execution_count": 38,
      "outputs": []
    },
    {
      "cell_type": "markdown",
      "metadata": {
        "id": "18WKTI390-nk"
      },
      "source": [
        "#Model application"
      ]
    },
    {
      "cell_type": "markdown",
      "metadata": {
        "id": "HfcFBc8d1WpS"
      },
      "source": [
        "###MPL"
      ]
    },
    {
      "cell_type": "code",
      "metadata": {
        "id": "bfFtfBqBZ2lS"
      },
      "source": [
        "if (mfcc==True):\n",
        "  path= './callback_val_chkp/mfcc_mpl'\n",
        "else:\n",
        "  path= './callback_val_chkp/stft_mpl'\n",
        "  \n",
        "cp_callback = keras.callbacks.ModelCheckpoint(\n",
        "    filepath=path,\n",
        "    # './callback_test_chkp/chkp_best',\n",
        "    monitor='val_loss',\n",
        "    verbose=0, \n",
        "    save_best_only=True,\n",
        "    # save_best_only=True,\n",
        "    save_weights_only=False,\n",
        "    mode='auto',\n",
        "    save_freq='epoch'\n",
        ")\n",
        "\n"
      ],
      "execution_count": 39,
      "outputs": []
    },
    {
      "cell_type": "code",
      "metadata": {
        "id": "qCFKcDWf0-T3"
      },
      "source": [
        "#MLP Model definition\n",
        "mlp_model = keras.Sequential([\n",
        "    keras.layers.Flatten(),\n",
        "    keras.layers.Dense(units=256, activation='relu'),\n",
        "    keras.layers.Dense(units=256, activation='relu'),\n",
        "    keras.layers.Dense(units=256, activation='relu'),\n",
        "    keras.layers.Dense(units=8) \n",
        "])"
      ],
      "execution_count": 40,
      "outputs": []
    },
    {
      "cell_type": "code",
      "metadata": {
        "id": "3MYuCQH2seee",
        "colab": {
          "base_uri": "https://localhost:8080/"
        },
        "outputId": "aff94ced-2b41-45d5-f671-5ac0eb3896ed"
      },
      "source": [
        "#Training, evaluation and testing with mlp model\n",
        "\n",
        "\n",
        "mlp_model.compile(loss=tf.keras.losses.SparseCategoricalCrossentropy(from_logits=True) ,optimizer='adam', metrics=['accuracy'])\n",
        "mlp_model.fit(train_ds, epochs=20, validation_data=val_ds,callbacks=[cp_callback])\n",
        "\n"
      ],
      "execution_count": 41,
      "outputs": [
        {
          "output_type": "stream",
          "text": [
            "Epoch 1/20\n",
            "198/200 [============================>.] - ETA: 0s - loss: 1.7504 - accuracy: 0.4306INFO:tensorflow:Assets written to: ./callback_val_chkp/mfcc_mpl/assets\n",
            "200/200 [==============================] - 94s 471ms/step - loss: 1.7451 - accuracy: 0.4319 - val_loss: 1.2901 - val_accuracy: 0.5587\n",
            "Epoch 2/20\n",
            "190/200 [===========================>..] - ETA: 0s - loss: 0.9714 - accuracy: 0.6508INFO:tensorflow:Assets written to: ./callback_val_chkp/mfcc_mpl/assets\n",
            "200/200 [==============================] - 1s 7ms/step - loss: 0.9681 - accuracy: 0.6517 - val_loss: 1.0147 - val_accuracy: 0.6612\n",
            "Epoch 3/20\n",
            "186/200 [==========================>...] - ETA: 0s - loss: 0.7302 - accuracy: 0.7431INFO:tensorflow:Assets written to: ./callback_val_chkp/mfcc_mpl/assets\n",
            "200/200 [==============================] - 1s 7ms/step - loss: 0.7267 - accuracy: 0.7428 - val_loss: 0.9122 - val_accuracy: 0.7225\n",
            "Epoch 4/20\n",
            "200/200 [==============================] - ETA: 0s - loss: 0.5882 - accuracy: 0.7870INFO:tensorflow:Assets written to: ./callback_val_chkp/mfcc_mpl/assets\n",
            "200/200 [==============================] - 2s 8ms/step - loss: 0.5882 - accuracy: 0.7870 - val_loss: 0.7859 - val_accuracy: 0.7462\n",
            "Epoch 5/20\n",
            "198/200 [============================>.] - ETA: 0s - loss: 0.4854 - accuracy: 0.8259INFO:tensorflow:Assets written to: ./callback_val_chkp/mfcc_mpl/assets\n",
            "200/200 [==============================] - 1s 7ms/step - loss: 0.4868 - accuracy: 0.8252 - val_loss: 0.7353 - val_accuracy: 0.7550\n",
            "Epoch 6/20\n",
            "200/200 [==============================] - 1s 4ms/step - loss: 0.4137 - accuracy: 0.8520 - val_loss: 0.8291 - val_accuracy: 0.7400\n",
            "Epoch 7/20\n",
            "200/200 [==============================] - 1s 4ms/step - loss: 0.3335 - accuracy: 0.8761 - val_loss: 0.7515 - val_accuracy: 0.7738\n",
            "Epoch 8/20\n",
            "200/200 [==============================] - 1s 4ms/step - loss: 0.2853 - accuracy: 0.8981 - val_loss: 0.7954 - val_accuracy: 0.7862\n",
            "Epoch 9/20\n",
            "200/200 [==============================] - 1s 4ms/step - loss: 0.2781 - accuracy: 0.9003 - val_loss: 0.8020 - val_accuracy: 0.7788\n",
            "Epoch 10/20\n",
            "200/200 [==============================] - 1s 4ms/step - loss: 0.2430 - accuracy: 0.9172 - val_loss: 0.8528 - val_accuracy: 0.7688\n",
            "Epoch 11/20\n",
            "200/200 [==============================] - 1s 4ms/step - loss: 0.2399 - accuracy: 0.9191 - val_loss: 0.8824 - val_accuracy: 0.7713\n",
            "Epoch 12/20\n",
            "200/200 [==============================] - 1s 4ms/step - loss: 0.2302 - accuracy: 0.9192 - val_loss: 0.8744 - val_accuracy: 0.7788\n",
            "Epoch 13/20\n",
            "200/200 [==============================] - 1s 4ms/step - loss: 0.2329 - accuracy: 0.9219 - val_loss: 0.9127 - val_accuracy: 0.7663\n",
            "Epoch 14/20\n",
            "200/200 [==============================] - 1s 4ms/step - loss: 0.2095 - accuracy: 0.9341 - val_loss: 0.8523 - val_accuracy: 0.7925\n",
            "Epoch 15/20\n",
            "200/200 [==============================] - 1s 4ms/step - loss: 0.1848 - accuracy: 0.9397 - val_loss: 0.9427 - val_accuracy: 0.7650\n",
            "Epoch 16/20\n",
            "200/200 [==============================] - 1s 4ms/step - loss: 0.1632 - accuracy: 0.9453 - val_loss: 0.7697 - val_accuracy: 0.8025\n",
            "Epoch 17/20\n",
            "200/200 [==============================] - 1s 4ms/step - loss: 0.1735 - accuracy: 0.9423 - val_loss: 0.8629 - val_accuracy: 0.8000\n",
            "Epoch 18/20\n",
            "200/200 [==============================] - 1s 4ms/step - loss: 0.1740 - accuracy: 0.9447 - val_loss: 0.9762 - val_accuracy: 0.7788\n",
            "Epoch 19/20\n",
            "200/200 [==============================] - 1s 4ms/step - loss: 0.1265 - accuracy: 0.9563 - val_loss: 0.9092 - val_accuracy: 0.8012\n",
            "Epoch 20/20\n",
            "200/200 [==============================] - 1s 4ms/step - loss: 0.1133 - accuracy: 0.9614 - val_loss: 1.1353 - val_accuracy: 0.7825\n"
          ],
          "name": "stdout"
        },
        {
          "output_type": "execute_result",
          "data": {
            "text/plain": [
              "<tensorflow.python.keras.callbacks.History at 0x7fc508751b70>"
            ]
          },
          "metadata": {
            "tags": []
          },
          "execution_count": 41
        }
      ]
    },
    {
      "cell_type": "code",
      "metadata": {
        "id": "plSqfUSDxKJc",
        "colab": {
          "base_uri": "https://localhost:8080/"
        },
        "outputId": "e1f8ef8b-6420-4faf-cde4-6733617cd2e0"
      },
      "source": [
        "#model evaluation on validation set\n",
        "mlp_model.compile(loss=tf.keras.losses.SparseCategoricalCrossentropy(), optimizer='adam')\n",
        "val_loss= mlp_model.evaluate(val_ds)"
      ],
      "execution_count": 42,
      "outputs": [
        {
          "output_type": "stream",
          "text": [
            "25/25 [==============================] - 0s 1ms/step - loss: 1.7038\n"
          ],
          "name": "stdout"
        }
      ]
    },
    {
      "cell_type": "code",
      "metadata": {
        "id": "u75Wnow5xeHP",
        "colab": {
          "base_uri": "https://localhost:8080/"
        },
        "outputId": "597c6612-dbd4-4c7b-ad54-2bfb4bdd2c3c"
      },
      "source": [
        "test_loss= mlp_model.evaluate(test_ds)"
      ],
      "execution_count": 43,
      "outputs": [
        {
          "output_type": "stream",
          "text": [
            "25/25 [==============================] - 18s 714ms/step - loss: 1.5832\n"
          ],
          "name": "stdout"
        }
      ]
    },
    {
      "cell_type": "markdown",
      "metadata": {
        "id": "jkHNcNcx1aDB"
      },
      "source": [
        "###CNN"
      ]
    },
    {
      "cell_type": "code",
      "metadata": {
        "id": "x4wHWMWNLK3t"
      },
      "source": [
        "if (mfcc==True):\n",
        "  path= './callback_val_chkp/mfcc_cnn'\n",
        "else:\n",
        "  path= './callback_val_chkp/stft_cnn'\n",
        "\n",
        "cp_callback = keras.callbacks.ModelCheckpoint(\n",
        "    filepath=path,\n",
        "    # './callback_test_chkp/chkp_best',\n",
        "    monitor='val_loss',\n",
        "    verbose=0, \n",
        "    save_best_only=True,\n",
        "    # save_best_only=True,\n",
        "    save_weights_only=False,\n",
        "    mode='auto',\n",
        "    save_freq='epoch'\n",
        ")\n"
      ],
      "execution_count": 44,
      "outputs": []
    },
    {
      "cell_type": "code",
      "metadata": {
        "id": "suQKxBuD1j0v"
      },
      "source": [
        "#CNN_2D Model definition\n",
        "\n",
        "cnn_model = keras.Sequential([\n",
        "    keras.layers.Conv2D(filters=128,kernel_size=[3,3],strides=strides, use_bias=False),\n",
        "    keras.layers.BatchNormalization(momentum=0.1),\n",
        "    keras.layers.ReLU(),\n",
        "    keras.layers.Conv2D(filters=128,kernel_size=[3,3],strides=[1, 1], use_bias=False),\n",
        "    keras.layers.BatchNormalization(momentum=0.1),\n",
        "    keras.layers.ReLU(),\n",
        "    keras.layers.Conv2D(filters=128,kernel_size=[3,3],strides=[1,1], use_bias=False),\n",
        "    keras.layers.BatchNormalization(momentum=0.1),\n",
        "    keras.layers.ReLU(),\n",
        "    keras.layers.GlobalAveragePooling2D(),\n",
        "    keras.layers.Dense(units=8)\n",
        "])"
      ],
      "execution_count": 45,
      "outputs": []
    },
    {
      "cell_type": "code",
      "metadata": {
        "id": "ufA9mxR7yJKs",
        "colab": {
          "base_uri": "https://localhost:8080/"
        },
        "outputId": "c5dc4dcd-8790-42fd-a6e3-b9002ddd26ef"
      },
      "source": [
        "#Training, evaluation and testing with mlp model\n",
        "cnn_model.compile(loss=tf.keras.losses.SparseCategoricalCrossentropy(from_logits=True) ,optimizer='adam', metrics=['accuracy'])\n",
        "cnn_model.fit(train_ds, epochs=20, validation_data=val_ds,callbacks=[cp_callback])"
      ],
      "execution_count": 46,
      "outputs": [
        {
          "output_type": "stream",
          "text": [
            "Epoch 1/20\n",
            "200/200 [==============================] - ETA: 0s - loss: 1.2493 - accuracy: 0.6125INFO:tensorflow:Assets written to: ./callback_val_chkp/mfcc_cnn/assets\n",
            "200/200 [==============================] - 36s 178ms/step - loss: 1.2493 - accuracy: 0.6125 - val_loss: 0.7830 - val_accuracy: 0.7800\n",
            "Epoch 2/20\n",
            "200/200 [==============================] - ETA: 0s - loss: 0.6274 - accuracy: 0.8375INFO:tensorflow:Assets written to: ./callback_val_chkp/mfcc_cnn/assets\n",
            "200/200 [==============================] - 36s 181ms/step - loss: 0.6274 - accuracy: 0.8375 - val_loss: 0.5097 - val_accuracy: 0.8525\n",
            "Epoch 3/20\n",
            "200/200 [==============================] - ETA: 0s - loss: 0.4379 - accuracy: 0.8873INFO:tensorflow:Assets written to: ./callback_val_chkp/mfcc_cnn/assets\n",
            "200/200 [==============================] - 36s 181ms/step - loss: 0.4379 - accuracy: 0.8873 - val_loss: 0.3911 - val_accuracy: 0.8813\n",
            "Epoch 4/20\n",
            "200/200 [==============================] - ETA: 0s - loss: 0.3483 - accuracy: 0.9053INFO:tensorflow:Assets written to: ./callback_val_chkp/mfcc_cnn/assets\n",
            "200/200 [==============================] - 35s 177ms/step - loss: 0.3483 - accuracy: 0.9053 - val_loss: 0.3550 - val_accuracy: 0.8913\n",
            "Epoch 5/20\n",
            "200/200 [==============================] - ETA: 0s - loss: 0.2824 - accuracy: 0.9250INFO:tensorflow:Assets written to: ./callback_val_chkp/mfcc_cnn/assets\n",
            "200/200 [==============================] - 36s 179ms/step - loss: 0.2824 - accuracy: 0.9250 - val_loss: 0.2807 - val_accuracy: 0.9125\n",
            "Epoch 6/20\n",
            "200/200 [==============================] - 34s 168ms/step - loss: 0.2414 - accuracy: 0.9348 - val_loss: 0.3346 - val_accuracy: 0.8938\n",
            "Epoch 7/20\n",
            "200/200 [==============================] - ETA: 0s - loss: 0.2194 - accuracy: 0.9409INFO:tensorflow:Assets written to: ./callback_val_chkp/mfcc_cnn/assets\n",
            "200/200 [==============================] - 35s 175ms/step - loss: 0.2194 - accuracy: 0.9409 - val_loss: 0.2720 - val_accuracy: 0.9162\n",
            "Epoch 8/20\n",
            "200/200 [==============================] - ETA: 0s - loss: 0.1880 - accuracy: 0.9483INFO:tensorflow:Assets written to: ./callback_val_chkp/mfcc_cnn/assets\n",
            "200/200 [==============================] - 35s 177ms/step - loss: 0.1880 - accuracy: 0.9483 - val_loss: 0.2400 - val_accuracy: 0.9137\n",
            "Epoch 9/20\n",
            "200/200 [==============================] - ETA: 0s - loss: 0.1647 - accuracy: 0.9559INFO:tensorflow:Assets written to: ./callback_val_chkp/mfcc_cnn/assets\n",
            "200/200 [==============================] - 35s 175ms/step - loss: 0.1647 - accuracy: 0.9559 - val_loss: 0.2254 - val_accuracy: 0.9237\n",
            "Epoch 10/20\n",
            "200/200 [==============================] - 34s 169ms/step - loss: 0.1379 - accuracy: 0.9663 - val_loss: 0.2372 - val_accuracy: 0.9275\n",
            "Epoch 11/20\n",
            "200/200 [==============================] - ETA: 0s - loss: 0.1290 - accuracy: 0.9661INFO:tensorflow:Assets written to: ./callback_val_chkp/mfcc_cnn/assets\n",
            "200/200 [==============================] - 36s 178ms/step - loss: 0.1290 - accuracy: 0.9661 - val_loss: 0.2008 - val_accuracy: 0.9350\n",
            "Epoch 12/20\n",
            "200/200 [==============================] - ETA: 0s - loss: 0.1100 - accuracy: 0.9712INFO:tensorflow:Assets written to: ./callback_val_chkp/mfcc_cnn/assets\n",
            "200/200 [==============================] - 36s 179ms/step - loss: 0.1100 - accuracy: 0.9712 - val_loss: 0.1756 - val_accuracy: 0.9475\n",
            "Epoch 13/20\n",
            "200/200 [==============================] - 34s 170ms/step - loss: 0.0846 - accuracy: 0.9809 - val_loss: 0.2186 - val_accuracy: 0.9300\n",
            "Epoch 14/20\n",
            "200/200 [==============================] - 34s 169ms/step - loss: 0.0769 - accuracy: 0.9834 - val_loss: 0.1930 - val_accuracy: 0.9362\n",
            "Epoch 15/20\n",
            "200/200 [==============================] - 34s 169ms/step - loss: 0.0707 - accuracy: 0.9825 - val_loss: 0.2228 - val_accuracy: 0.9262\n",
            "Epoch 16/20\n",
            "200/200 [==============================] - 34s 169ms/step - loss: 0.0626 - accuracy: 0.9880 - val_loss: 0.2271 - val_accuracy: 0.9275\n",
            "Epoch 17/20\n",
            "200/200 [==============================] - 34s 169ms/step - loss: 0.0693 - accuracy: 0.9855 - val_loss: 0.2982 - val_accuracy: 0.8888\n",
            "Epoch 18/20\n",
            "200/200 [==============================] - 34s 169ms/step - loss: 0.0390 - accuracy: 0.9934 - val_loss: 0.1821 - val_accuracy: 0.9362\n",
            "Epoch 19/20\n",
            "200/200 [==============================] - 34s 170ms/step - loss: 0.0270 - accuracy: 0.9973 - val_loss: 0.1843 - val_accuracy: 0.9463\n",
            "Epoch 20/20\n",
            "200/200 [==============================] - 34s 171ms/step - loss: 0.0466 - accuracy: 0.9895 - val_loss: 0.5357 - val_accuracy: 0.8512\n"
          ],
          "name": "stdout"
        },
        {
          "output_type": "execute_result",
          "data": {
            "text/plain": [
              "<tensorflow.python.keras.callbacks.History at 0x7fc508902710>"
            ]
          },
          "metadata": {
            "tags": []
          },
          "execution_count": 46
        }
      ]
    },
    {
      "cell_type": "code",
      "metadata": {
        "id": "Vm5lUb1wyV0V",
        "colab": {
          "base_uri": "https://localhost:8080/"
        },
        "outputId": "d84133ae-1dab-4f99-c8e0-85a9bcbd774e"
      },
      "source": [
        "#model evaluation on validation set\n",
        "cnn_model.compile(loss=tf.keras.losses.SparseCategoricalCrossentropy(), optimizer='adam')\n",
        "val_loss= cnn_model.evaluate(val_ds)"
      ],
      "execution_count": 47,
      "outputs": [
        {
          "output_type": "stream",
          "text": [
            "25/25 [==============================] - 1s 37ms/step - loss: 1.1708\n"
          ],
          "name": "stdout"
        }
      ]
    },
    {
      "cell_type": "code",
      "metadata": {
        "id": "Hc7ebmYryZiA",
        "colab": {
          "base_uri": "https://localhost:8080/"
        },
        "outputId": "ba2eb1cf-1a8d-4027-f737-90ac4d9031e8"
      },
      "source": [
        "#model test on the test set\n",
        "test_loss= cnn_model.evaluate(test_ds)"
      ],
      "execution_count": 48,
      "outputs": [
        {
          "output_type": "stream",
          "text": [
            "25/25 [==============================] - 1s 37ms/step - loss: 1.2796\n"
          ],
          "name": "stdout"
        }
      ]
    },
    {
      "cell_type": "markdown",
      "metadata": {
        "id": "W0cBDG_W1gCZ"
      },
      "source": [
        "###DS-CNN"
      ]
    },
    {
      "cell_type": "code",
      "metadata": {
        "id": "63Ap06s0LNsi"
      },
      "source": [
        "if (mfcc==True):\n",
        "  path= './callback_val_chkp/mfcc_DS-CNN'\n",
        "else:\n",
        "  path= './callback_val_chkp/stft_DS-CNN'\n",
        "\n",
        "cp_callback = keras.callbacks.ModelCheckpoint(\n",
        "    filepath=path,\n",
        "    # './callback_test_chkp/chkp_best',\n",
        "    monitor='val_loss',\n",
        "    verbose=0, \n",
        "    save_best_only=True,\n",
        "    # save_best_only=True,\n",
        "    save_weights_only=False,\n",
        "    mode='auto',\n",
        "    save_freq='epoch'\n",
        ")\n"
      ],
      "execution_count": 49,
      "outputs": []
    },
    {
      "cell_type": "code",
      "metadata": {
        "id": "7ZS5R5pk1kb0"
      },
      "source": [
        "ds_cnn_model = keras.Sequential([\n",
        "    keras.layers.Conv2D(filters=256,kernel_size=[3,3],strides=strides, use_bias=False),\n",
        "    keras.layers.BatchNormalization(momentum=0.1),\n",
        "    keras.layers.ReLU(),\n",
        "    keras.layers.DepthwiseConv2D(kernel_size=[3,3],strides=[1, 1], use_bias=False),\n",
        "    keras.layers.Conv2D(filters=256,kernel_size=[1,1],strides=[1,1], use_bias=False),\n",
        "    keras.layers.BatchNormalization(momentum=0.1),\n",
        "    keras.layers.ReLU(),\n",
        "    keras.layers.DepthwiseConv2D(kernel_size=[3,3],strides=[1, 1], use_bias=False),\n",
        "    keras.layers.Conv2D(filters=256,kernel_size=[1,1],strides=[1,1], use_bias=False),\n",
        "    keras.layers.BatchNormalization(momentum=0.1),\n",
        "    keras.layers.ReLU(),\n",
        "    keras.layers.GlobalAveragePooling2D(),\n",
        "    keras.layers.Dense(units=8)\n",
        "])"
      ],
      "execution_count": 50,
      "outputs": []
    },
    {
      "cell_type": "code",
      "metadata": {
        "id": "Jrk7FmQQ0UtN",
        "colab": {
          "base_uri": "https://localhost:8080/"
        },
        "outputId": "bd0ef443-bd29-4b3e-fbfa-1b55d0d56d63"
      },
      "source": [
        "#Training, evaluation and testing with mlp model\n",
        "ds_cnn_model.compile(loss=tf.keras.losses.SparseCategoricalCrossentropy(from_logits=True) ,optimizer='adam', metrics=['accuracy'])\n",
        "ds_cnn_model.fit(train_ds, epochs=20, validation_data=val_ds,callbacks=[cp_callback])"
      ],
      "execution_count": 51,
      "outputs": [
        {
          "output_type": "stream",
          "text": [
            "Epoch 1/20\n",
            "200/200 [==============================] - ETA: 0s - loss: 1.2148 - accuracy: 0.6172INFO:tensorflow:Assets written to: ./callback_val_chkp/mfcc_DS-CNN/assets\n",
            "200/200 [==============================] - 29s 144ms/step - loss: 1.2148 - accuracy: 0.6172 - val_loss: 0.6894 - val_accuracy: 0.8075\n",
            "Epoch 2/20\n",
            "200/200 [==============================] - ETA: 0s - loss: 0.5894 - accuracy: 0.8384INFO:tensorflow:Assets written to: ./callback_val_chkp/mfcc_DS-CNN/assets\n",
            "200/200 [==============================] - 29s 143ms/step - loss: 0.5894 - accuracy: 0.8384 - val_loss: 0.5196 - val_accuracy: 0.8450\n",
            "Epoch 3/20\n",
            "200/200 [==============================] - ETA: 0s - loss: 0.3947 - accuracy: 0.8913INFO:tensorflow:Assets written to: ./callback_val_chkp/mfcc_DS-CNN/assets\n",
            "200/200 [==============================] - 28s 141ms/step - loss: 0.3947 - accuracy: 0.8913 - val_loss: 0.3887 - val_accuracy: 0.8850\n",
            "Epoch 4/20\n",
            "200/200 [==============================] - ETA: 0s - loss: 0.3245 - accuracy: 0.9069INFO:tensorflow:Assets written to: ./callback_val_chkp/mfcc_DS-CNN/assets\n",
            "200/200 [==============================] - 29s 143ms/step - loss: 0.3245 - accuracy: 0.9069 - val_loss: 0.3746 - val_accuracy: 0.8712\n",
            "Epoch 5/20\n",
            "200/200 [==============================] - ETA: 0s - loss: 0.2782 - accuracy: 0.9181INFO:tensorflow:Assets written to: ./callback_val_chkp/mfcc_DS-CNN/assets\n",
            "200/200 [==============================] - 29s 143ms/step - loss: 0.2782 - accuracy: 0.9181 - val_loss: 0.2997 - val_accuracy: 0.9175\n",
            "Epoch 6/20\n",
            "200/200 [==============================] - ETA: 0s - loss: 0.2318 - accuracy: 0.9331INFO:tensorflow:Assets written to: ./callback_val_chkp/mfcc_DS-CNN/assets\n",
            "200/200 [==============================] - 29s 143ms/step - loss: 0.2318 - accuracy: 0.9331 - val_loss: 0.2922 - val_accuracy: 0.9162\n",
            "Epoch 7/20\n",
            "200/200 [==============================] - ETA: 0s - loss: 0.2120 - accuracy: 0.9367INFO:tensorflow:Assets written to: ./callback_val_chkp/mfcc_DS-CNN/assets\n",
            "200/200 [==============================] - 29s 145ms/step - loss: 0.2120 - accuracy: 0.9367 - val_loss: 0.2542 - val_accuracy: 0.9250\n",
            "Epoch 8/20\n",
            "200/200 [==============================] - 27s 135ms/step - loss: 0.1769 - accuracy: 0.9486 - val_loss: 0.2847 - val_accuracy: 0.9125\n",
            "Epoch 9/20\n",
            "200/200 [==============================] - ETA: 0s - loss: 0.1645 - accuracy: 0.9539INFO:tensorflow:Assets written to: ./callback_val_chkp/mfcc_DS-CNN/assets\n",
            "200/200 [==============================] - 29s 144ms/step - loss: 0.1645 - accuracy: 0.9539 - val_loss: 0.2110 - val_accuracy: 0.9350\n",
            "Epoch 10/20\n",
            "200/200 [==============================] - 27s 137ms/step - loss: 0.1409 - accuracy: 0.9628 - val_loss: 0.2192 - val_accuracy: 0.9362\n",
            "Epoch 11/20\n",
            "200/200 [==============================] - 28s 138ms/step - loss: 0.1266 - accuracy: 0.9631 - val_loss: 0.2145 - val_accuracy: 0.9375\n",
            "Epoch 12/20\n",
            "200/200 [==============================] - ETA: 0s - loss: 0.1177 - accuracy: 0.9647INFO:tensorflow:Assets written to: ./callback_val_chkp/mfcc_DS-CNN/assets\n",
            "200/200 [==============================] - 29s 144ms/step - loss: 0.1177 - accuracy: 0.9647 - val_loss: 0.2108 - val_accuracy: 0.9425\n",
            "Epoch 13/20\n",
            "200/200 [==============================] - 27s 135ms/step - loss: 0.0957 - accuracy: 0.9747 - val_loss: 0.2306 - val_accuracy: 0.9225\n",
            "Epoch 14/20\n",
            "200/200 [==============================] - 27s 135ms/step - loss: 0.0865 - accuracy: 0.9773 - val_loss: 0.2187 - val_accuracy: 0.9362\n",
            "Epoch 15/20\n",
            "200/200 [==============================] - 27s 135ms/step - loss: 0.0705 - accuracy: 0.9842 - val_loss: 0.2422 - val_accuracy: 0.9225\n",
            "Epoch 16/20\n",
            "200/200 [==============================] - 27s 135ms/step - loss: 0.0673 - accuracy: 0.9825 - val_loss: 0.2456 - val_accuracy: 0.9312\n",
            "Epoch 17/20\n",
            "200/200 [==============================] - 27s 134ms/step - loss: 0.0784 - accuracy: 0.9803 - val_loss: 0.2527 - val_accuracy: 0.9200\n",
            "Epoch 18/20\n",
            "200/200 [==============================] - 27s 134ms/step - loss: 0.0577 - accuracy: 0.9859 - val_loss: 0.2408 - val_accuracy: 0.9187\n",
            "Epoch 19/20\n",
            "200/200 [==============================] - ETA: 0s - loss: 0.0397 - accuracy: 0.9930INFO:tensorflow:Assets written to: ./callback_val_chkp/mfcc_DS-CNN/assets\n",
            "200/200 [==============================] - 29s 144ms/step - loss: 0.0397 - accuracy: 0.9930 - val_loss: 0.1876 - val_accuracy: 0.9400\n",
            "Epoch 20/20\n",
            "200/200 [==============================] - 27s 135ms/step - loss: 0.0271 - accuracy: 0.9958 - val_loss: 0.2054 - val_accuracy: 0.9287\n"
          ],
          "name": "stdout"
        },
        {
          "output_type": "execute_result",
          "data": {
            "text/plain": [
              "<tensorflow.python.keras.callbacks.History at 0x7fc50cd08e10>"
            ]
          },
          "metadata": {
            "tags": []
          },
          "execution_count": 51
        }
      ]
    },
    {
      "cell_type": "code",
      "metadata": {
        "id": "awDK6mWX0bM_",
        "colab": {
          "base_uri": "https://localhost:8080/"
        },
        "outputId": "8721e5e1-02cf-41c5-c334-9a1a573202b1"
      },
      "source": [
        "#model evaluation on validation set\n",
        "ds_cnn_model.compile(loss=tf.keras.losses.SparseCategoricalCrossentropy(), optimizer='adam')\n",
        "val_loss= ds_cnn_model.evaluate(val_ds)"
      ],
      "execution_count": 52,
      "outputs": [
        {
          "output_type": "stream",
          "text": [
            "25/25 [==============================] - 1s 32ms/step - loss: 0.6302\n"
          ],
          "name": "stdout"
        }
      ]
    },
    {
      "cell_type": "code",
      "metadata": {
        "id": "oix_VKz70ynC",
        "colab": {
          "base_uri": "https://localhost:8080/"
        },
        "outputId": "a46cc5a2-e4d6-40be-ff15-cf1395a094fc"
      },
      "source": [
        "#model test on the test set\n",
        "test_loss= ds_cnn_model.evaluate(test_ds)"
      ],
      "execution_count": 53,
      "outputs": [
        {
          "output_type": "stream",
          "text": [
            "25/25 [==============================] - 1s 32ms/step - loss: 0.8149\n"
          ],
          "name": "stdout"
        }
      ]
    },
    {
      "cell_type": "code",
      "metadata": {
        "id": "feoE5F8DEJ3X",
        "outputId": "2512a7d3-3d6e-4700-8273-f8b5c7463d5a",
        "colab": {
          "base_uri": "https://localhost:8080/"
        }
      },
      "source": [
        "!zip -r model.zip {\"./callback_val_chkp\"}"
      ],
      "execution_count": 60,
      "outputs": [
        {
          "output_type": "stream",
          "text": [
            "  adding: callback_val_chkp/ (stored 0%)\n",
            "  adding: callback_val_chkp/stft_mpl/ (stored 0%)\n",
            "  adding: callback_val_chkp/stft_mpl/assets/ (stored 0%)\n",
            "  adding: callback_val_chkp/stft_mpl/saved_model.pb (deflated 89%)\n",
            "  adding: callback_val_chkp/stft_mpl/variables/ (stored 0%)\n",
            "  adding: callback_val_chkp/stft_mpl/variables/variables.index (deflated 66%)\n",
            "  adding: callback_val_chkp/stft_mpl/variables/variables.data-00000-of-00001 (deflated 7%)\n",
            "  adding: callback_val_chkp/stft_cnn/ (stored 0%)\n",
            "  adding: callback_val_chkp/stft_cnn/assets/ (stored 0%)\n",
            "  adding: callback_val_chkp/stft_cnn/saved_model.pb (deflated 91%)\n",
            "  adding: callback_val_chkp/stft_cnn/variables/ (stored 0%)\n",
            "  adding: callback_val_chkp/stft_cnn/variables/variables.index (deflated 69%)\n",
            "  adding: callback_val_chkp/stft_cnn/variables/variables.data-00000-of-00001 (deflated 8%)\n",
            "  adding: callback_val_chkp/mfcc_mpl/ (stored 0%)\n",
            "  adding: callback_val_chkp/mfcc_mpl/assets/ (stored 0%)\n",
            "  adding: callback_val_chkp/mfcc_mpl/saved_model.pb (deflated 89%)\n",
            "  adding: callback_val_chkp/mfcc_mpl/variables/ (stored 0%)\n",
            "  adding: callback_val_chkp/mfcc_mpl/variables/variables.index (deflated 65%)\n",
            "  adding: callback_val_chkp/mfcc_mpl/variables/variables.data-00000-of-00001 (deflated 7%)\n",
            "  adding: callback_val_chkp/stft_DS-CNN/ (stored 0%)\n",
            "  adding: callback_val_chkp/stft_DS-CNN/assets/ (stored 0%)\n",
            "  adding: callback_val_chkp/stft_DS-CNN/saved_model.pb (deflated 90%)\n",
            "  adding: callback_val_chkp/stft_DS-CNN/variables/ (stored 0%)\n",
            "  adding: callback_val_chkp/stft_DS-CNN/variables/variables.index (deflated 71%)\n",
            "  adding: callback_val_chkp/stft_DS-CNN/variables/variables.data-00000-of-00001 (deflated 8%)\n",
            "  adding: callback_val_chkp/mfcc_cnn/ (stored 0%)\n",
            "  adding: callback_val_chkp/mfcc_cnn/assets/ (stored 0%)\n",
            "  adding: callback_val_chkp/mfcc_cnn/saved_model.pb (deflated 91%)\n",
            "  adding: callback_val_chkp/mfcc_cnn/variables/ (stored 0%)\n",
            "  adding: callback_val_chkp/mfcc_cnn/variables/variables.index (deflated 69%)\n",
            "  adding: callback_val_chkp/mfcc_cnn/variables/variables.data-00000-of-00001 (deflated 8%)\n",
            "  adding: callback_val_chkp/mfcc_DS-CNN/ (stored 0%)\n",
            "  adding: callback_val_chkp/mfcc_DS-CNN/assets/ (stored 0%)\n",
            "  adding: callback_val_chkp/mfcc_DS-CNN/saved_model.pb (deflated 91%)\n",
            "  adding: callback_val_chkp/mfcc_DS-CNN/variables/ (stored 0%)\n",
            "  adding: callback_val_chkp/mfcc_DS-CNN/variables/variables.index (deflated 71%)\n",
            "  adding: callback_val_chkp/mfcc_DS-CNN/variables/variables.data-00000-of-00001 (deflated 8%)\n"
          ],
          "name": "stdout"
        }
      ]
    },
    {
      "cell_type": "code",
      "metadata": {
        "id": "BxnlahynELvR",
        "outputId": "e39f592a-bd7a-490b-eabc-f17d5b6cf7eb",
        "colab": {
          "base_uri": "https://localhost:8080/"
        }
      },
      "source": [
        "!ls"
      ],
      "execution_count": 61,
      "outputs": [
        {
          "output_type": "stream",
          "text": [
            "callback_val_chkp  data  model.zip  sample_data\n"
          ],
          "name": "stdout"
        }
      ]
    },
    {
      "cell_type": "code",
      "metadata": {
        "id": "m9-SxtBREPMQ",
        "outputId": "d5e98b80-b723-4e96-84b5-89e07e6623be",
        "colab": {
          "base_uri": "https://localhost:8080/",
          "height": 17
        }
      },
      "source": [
        "try:\n",
        "  from google.colab import files\n",
        "  files.download('./model.zip')\n",
        "except ImportError:\n",
        "  pass"
      ],
      "execution_count": 63,
      "outputs": [
        {
          "output_type": "display_data",
          "data": {
            "application/javascript": [
              "\n",
              "    async function download(id, filename, size) {\n",
              "      if (!google.colab.kernel.accessAllowed) {\n",
              "        return;\n",
              "      }\n",
              "      const div = document.createElement('div');\n",
              "      const label = document.createElement('label');\n",
              "      label.textContent = `Downloading \"${filename}\": `;\n",
              "      div.appendChild(label);\n",
              "      const progress = document.createElement('progress');\n",
              "      progress.max = size;\n",
              "      div.appendChild(progress);\n",
              "      document.body.appendChild(div);\n",
              "\n",
              "      const buffers = [];\n",
              "      let downloaded = 0;\n",
              "\n",
              "      const channel = await google.colab.kernel.comms.open(id);\n",
              "      // Send a message to notify the kernel that we're ready.\n",
              "      channel.send({})\n",
              "\n",
              "      for await (const message of channel.messages) {\n",
              "        // Send a message to notify the kernel that we're ready.\n",
              "        channel.send({})\n",
              "        if (message.buffers) {\n",
              "          for (const buffer of message.buffers) {\n",
              "            buffers.push(buffer);\n",
              "            downloaded += buffer.byteLength;\n",
              "            progress.value = downloaded;\n",
              "          }\n",
              "        }\n",
              "      }\n",
              "      const blob = new Blob(buffers, {type: 'application/binary'});\n",
              "      const a = document.createElement('a');\n",
              "      a.href = window.URL.createObjectURL(blob);\n",
              "      a.download = filename;\n",
              "      div.appendChild(a);\n",
              "      a.click();\n",
              "      div.remove();\n",
              "    }\n",
              "  "
            ],
            "text/plain": [
              "<IPython.core.display.Javascript object>"
            ]
          },
          "metadata": {
            "tags": []
          }
        },
        {
          "output_type": "display_data",
          "data": {
            "application/javascript": [
              "download(\"download_8b48faa6-f384-4247-a1b4-c9a81f13b3e2\", \"model.zip\", 17256732)"
            ],
            "text/plain": [
              "<IPython.core.display.Javascript object>"
            ]
          },
          "metadata": {
            "tags": []
          }
        }
      ]
    }
  ]
}