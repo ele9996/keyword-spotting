{
  "nbformat": 4,
  "nbformat_minor": 0,
  "metadata": {
    "colab": {
      "name": "main.ipynb",
      "provenance": [],
      "authorship_tag": "ABX9TyNT8teNllOpMFzfKl2Xduad",
      "include_colab_link": true
    },
    "kernelspec": {
      "name": "python3",
      "display_name": "Python 3"
    }
  },
  "cells": [
    {
      "cell_type": "markdown",
      "metadata": {
        "id": "view-in-github",
        "colab_type": "text"
      },
      "source": [
        "<a href=\"https://colab.research.google.com/github/ele9996/keyword-spotting/blob/main/main.ipynb\" target=\"_parent\"><img src=\"https://colab.research.google.com/assets/colab-badge.svg\" alt=\"Open In Colab\"/></a>"
      ]
    },
    {
      "cell_type": "code",
      "metadata": {
        "id": "Q6TDZsVFohfw"
      },
      "source": [
        "import tensorflow as tf\n",
        "import numpy as np\n",
        "from tensorflow import keras\n",
        "import pandas as pd\n",
        "import matplotlib.pyplot as plt\n",
        "import os\n",
        "from zipfile import ZipFile"
      ],
      "execution_count": 2,
      "outputs": []
    },
    {
      "cell_type": "code",
      "metadata": {
        "id": "ZYKtkvY1zLsD"
      },
      "source": [
        "#parser = argparse.ArgumentParser()\n",
        "#parser.add_argument('--model', type=str, required=True, help='model name')\n",
        "#parser.add_argument('--mfcc', action='store_true', help='use MFCCs')\n",
        "#parser.add_argument('--silence', action='store_true', help='add silence')\n",
        "#args = parser.parse_args()\n",
        "\n",
        "mfcc=True\n",
        "silence=False"
      ],
      "execution_count": 3,
      "outputs": []
    },
    {
      "cell_type": "code",
      "metadata": {
        "id": "bpBqRw_Qo5Nd"
      },
      "source": [
        "seed = 42\n",
        "tf.random.set_seed(seed)\n",
        "np.random.seed(seed)"
      ],
      "execution_count": 4,
      "outputs": []
    },
    {
      "cell_type": "markdown",
      "metadata": {
        "id": "qyjQ3lWJyKiX"
      },
      "source": [
        "#Data extraction from file"
      ]
    },
    {
      "cell_type": "code",
      "metadata": {
        "id": "SugHF8ulpa1_",
        "colab": {
          "base_uri": "https://localhost:8080/"
        },
        "outputId": "4877aa0a-4b59-4a0b-c5ab-84d2306b9284"
      },
      "source": [
        "#if args.silence is True:\n",
        "if silence is True:\n",
        "    data_dir = os.path.join('.', 'data', 'mini_speech_commands_silence')\n",
        "else:\n",
        "    zip_path = tf.keras.utils.get_file(\n",
        "        origin=\"http://storage.googleapis.com/download.tensorflow.org/data/mini_speech_commands.zip\",\n",
        "        fname='mini_speech_commands.zip',\n",
        "        extract=True,\n",
        "        cache_dir='.', cache_subdir='data')\n",
        "\n",
        "    data_dir = os.path.join('.', 'data', 'mini_speech_commands')\n",
        "\n",
        "filenames = tf.io.gfile.glob(str(data_dir) + '/*/*')\n",
        "filenames = tf.random.shuffle(filenames)\n",
        "num_samples = len(filenames)\n",
        "\n",
        "#if args.silence is True:\n",
        "if silence is True:\n",
        "    total = 9000\n",
        "else:\n",
        "    total = 8000"
      ],
      "execution_count": 5,
      "outputs": [
        {
          "output_type": "stream",
          "text": [
            "Downloading data from http://storage.googleapis.com/download.tensorflow.org/data/mini_speech_commands.zip\n",
            "182083584/182082353 [==============================] - 1s 0us/step\n"
          ],
          "name": "stdout"
        }
      ]
    },
    {
      "cell_type": "markdown",
      "metadata": {
        "id": "hXHzqQ_7yXjG"
      },
      "source": [
        "#Training, Validation and Test dataset definition"
      ]
    },
    {
      "cell_type": "code",
      "metadata": {
        "id": "TMgg6XmzyjC3"
      },
      "source": [
        "train_files = filenames[:int(total*0.8)]\n",
        "val_files = filenames[int(total*0.8): int(total*0.9)]\n",
        "test_files = filenames[int(total*0.9):]"
      ],
      "execution_count": 6,
      "outputs": []
    },
    {
      "cell_type": "code",
      "metadata": {
        "id": "_k9_btuKynGg"
      },
      "source": [
        "LABELS = np.array(tf.io.gfile.listdir(str(data_dir)))\n",
        "LABELS = LABELS[LABELS != 'README.md']"
      ],
      "execution_count": 7,
      "outputs": []
    },
    {
      "cell_type": "markdown",
      "metadata": {
        "id": "rg_iP45xs-bi"
      },
      "source": [
        "#Data preparation and preprocessing steps"
      ]
    },
    {
      "cell_type": "code",
      "metadata": {
        "id": "W57hi_WDtHaK"
      },
      "source": [
        "class SignalGenerator:\n",
        "    def __init__(self, labels, sampling_rate, frame_length, frame_step,\n",
        "            num_mel_bins=None, lower_frequency=None, upper_frequency=None,\n",
        "            num_coefficients=None, mfcc=False):\n",
        "        self.labels = labels\n",
        "        self.sampling_rate = sampling_rate\n",
        "        self.frame_length = frame_length\n",
        "        self.frame_step = frame_step\n",
        "        self.num_mel_bins = num_mel_bins\n",
        "        self.lower_frequency = lower_frequency\n",
        "        self.upper_frequency = upper_frequency\n",
        "        self.num_coefficients = num_coefficients\n",
        "        num_spectrogram_bins = (frame_length) // 2 + 1\n",
        "\n",
        "        if mfcc is True:\n",
        "            self.linear_to_mel_weight_matrix = tf.signal.linear_to_mel_weight_matrix(\n",
        "                    self.num_mel_bins, num_spectrogram_bins, self.sampling_rate,\n",
        "                    self.lower_frequency, self.upper_frequency)\n",
        "            self.preprocess = self.preprocess_with_mfcc\n",
        "        else:\n",
        "            self.preprocess = self.preprocess_with_stft\n",
        "\n",
        "    def read(self, file_path):\n",
        "        parts = tf.strings.split(file_path, os.path.sep)\n",
        "        label = parts[-2]\n",
        "        label_id = tf.argmax(label == self.labels)\n",
        "        audio_binary = tf.io.read_file(file_path)\n",
        "        audio, _ = tf.audio.decode_wav(audio_binary)\n",
        "        audio = tf.squeeze(audio, axis=1)\n",
        "\n",
        "        return audio, label_id\n",
        "\n",
        "    def pad(self, audio):\n",
        "        zero_padding = tf.zeros([self.sampling_rate] - tf.shape(audio), dtype=tf.float32)\n",
        "        audio = tf.concat([audio, zero_padding], 0)\n",
        "        audio.set_shape([self.sampling_rate])\n",
        "\n",
        "        return audio\n",
        "\n",
        "    def get_spectrogram(self, audio):\n",
        "        stft = tf.signal.stft(audio, frame_length=self.frame_length,\n",
        "                frame_step=self.frame_step, fft_length=self.frame_length)\n",
        "        spectrogram = tf.abs(stft)\n",
        "\n",
        "        return spectrogram\n",
        "\n",
        "    def get_mfccs(self, spectrogram):\n",
        "        mel_spectrogram = tf.tensordot(spectrogram,\n",
        "                self.linear_to_mel_weight_matrix, 1)\n",
        "        log_mel_spectrogram = tf.math.log(mel_spectrogram + 1.e-6)\n",
        "        mfccs = tf.signal.mfccs_from_log_mel_spectrograms(log_mel_spectrogram)\n",
        "        mfccs = mfccs[..., :self.num_coefficients]\n",
        "\n",
        "        return mfccs\n",
        "\n",
        "    def preprocess_with_stft(self, file_path):\n",
        "        audio, label = self.read(file_path)\n",
        "        audio = self.pad(audio)\n",
        "        spectrogram = self.get_spectrogram(audio)\n",
        "        spectrogram = tf.expand_dims(spectrogram, -1)\n",
        "        spectrogram = tf.image.resize(spectrogram, [32, 32])\n",
        "\n",
        "        return spectrogram, label\n",
        "\n",
        "    def preprocess_with_mfcc(self, file_path):\n",
        "        audio, label = self.read(file_path)\n",
        "        audio = self.pad(audio)\n",
        "        spectrogram = self.get_spectrogram(audio)\n",
        "        mfccs = self.get_mfccs(spectrogram)\n",
        "        mfccs = tf.expand_dims(mfccs, -1)\n",
        "\n",
        "        return mfccs, label\n",
        "\n",
        "    def make_dataset(self, files, train):\n",
        "        ds = tf.data.Dataset.from_tensor_slices(files)\n",
        "        ds = ds.map(self.preprocess, num_parallel_calls=4)\n",
        "        ds = ds.batch(32)\n",
        "        ds = ds.cache()\n",
        "        if train is True:\n",
        "            ds = ds.shuffle(100, reshuffle_each_iteration=True)\n",
        "\n",
        "        return ds"
      ],
      "execution_count": 8,
      "outputs": []
    },
    {
      "cell_type": "code",
      "metadata": {
        "id": "AsVi-mJtytv8"
      },
      "source": [
        "STFT_OPTIONS = {'frame_length': 256, 'frame_step': 8, 'mfcc': False}\n",
        "MFCC_OPTIONS = {'frame_length': 640, 'frame_step': 320, 'mfcc': True,\n",
        "        'lower_frequency': 20, 'upper_frequency': 4000, 'num_mel_bins': 40,\n",
        "        'num_coefficients': 10}"
      ],
      "execution_count": 9,
      "outputs": []
    },
    {
      "cell_type": "code",
      "metadata": {
        "id": "j4NFUEWjy3-L"
      },
      "source": [
        "#if args.mfcc is True:\n",
        "if mfcc is True:\n",
        "    options = MFCC_OPTIONS\n",
        "    strides = [2, 1]\n",
        "else:\n",
        "    options = STFT_OPTIONS\n",
        "    strides = [2, 2]\n"
      ],
      "execution_count": 10,
      "outputs": []
    },
    {
      "cell_type": "code",
      "metadata": {
        "id": "SxA94-IXy48F"
      },
      "source": [
        "generator = SignalGenerator(LABELS, 16000, **options)\n",
        "train_ds = generator.make_dataset(train_files, True)\n",
        "val_ds = generator.make_dataset(val_files, False)\n",
        "test_ds = generator.make_dataset(test_files, False)\n",
        "\n",
        "#if args.silence is True:\n",
        "if silence is True:\n",
        "    units = 9\n",
        "else:\n",
        "    units = 8"
      ],
      "execution_count": 11,
      "outputs": []
    },
    {
      "cell_type": "markdown",
      "metadata": {
        "id": "18WKTI390-nk"
      },
      "source": [
        "#Model application"
      ]
    },
    {
      "cell_type": "markdown",
      "metadata": {
        "id": "XQcj7oo4ZnoA"
      },
      "source": [
        "###Callback definition"
      ]
    },
    {
      "cell_type": "code",
      "metadata": {
        "id": "bfFtfBqBZ2lS"
      },
      "source": [
        "cp_callback = keras.callbacks.ModelCheckpoint(\n",
        "    './callback_test_chkp/chkp_{epoch:02d}',\n",
        "    # './callback_test_chkp/chkp_best',\n",
        "    monitor='val_loss',\n",
        "    verbose=0, \n",
        "    save_best_only=True,\n",
        "    # save_best_only=True,\n",
        "    save_weights_only=False,\n",
        "    mode='auto',\n",
        "    save_freq='epoch'\n",
        ")\n",
        "\n"
      ],
      "execution_count": 12,
      "outputs": []
    },
    {
      "cell_type": "markdown",
      "metadata": {
        "id": "HfcFBc8d1WpS"
      },
      "source": [
        "###MPL"
      ]
    },
    {
      "cell_type": "code",
      "metadata": {
        "id": "qCFKcDWf0-T3"
      },
      "source": [
        "#MLP Model definition\n",
        "mlp_model = keras.Sequential([\n",
        "    keras.layers.Flatten(),\n",
        "    keras.layers.Dense(units=256, activation='relu'),\n",
        "    keras.layers.Dense(units=256, activation='relu'),\n",
        "    keras.layers.Dense(units=256, activation='relu'),\n",
        "    keras.layers.Dense(units=8) \n",
        "])"
      ],
      "execution_count": 13,
      "outputs": []
    },
    {
      "cell_type": "code",
      "metadata": {
        "id": "3MYuCQH2seee",
        "colab": {
          "base_uri": "https://localhost:8080/"
        },
        "outputId": "416058d9-23f3-4076-84c6-97bfc59c74f4"
      },
      "source": [
        "#Training, evaluation and testing with mlp model\n",
        "\n",
        "\n",
        "mlp_model.compile(loss=tf.keras.losses.SparseCategoricalCrossentropy(from_logits=True) ,optimizer='adam', metrics=['accuracy'])\n",
        "mlp_model.fit(train_ds, epochs=20)"
      ],
      "execution_count": 14,
      "outputs": [
        {
          "output_type": "stream",
          "text": [
            "Epoch 1/20\n",
            "200/200 [==============================] - 75s 375ms/step - loss: 1.7451 - accuracy: 0.4319\n",
            "Epoch 2/20\n",
            "200/200 [==============================] - 1s 4ms/step - loss: 0.9681 - accuracy: 0.6517\n",
            "Epoch 3/20\n",
            "200/200 [==============================] - 1s 4ms/step - loss: 0.7267 - accuracy: 0.7428\n",
            "Epoch 4/20\n",
            "200/200 [==============================] - 1s 4ms/step - loss: 0.5882 - accuracy: 0.7870\n",
            "Epoch 5/20\n",
            "200/200 [==============================] - 1s 4ms/step - loss: 0.4868 - accuracy: 0.8252\n",
            "Epoch 6/20\n",
            "200/200 [==============================] - 1s 4ms/step - loss: 0.4137 - accuracy: 0.8520\n",
            "Epoch 7/20\n",
            "200/200 [==============================] - 1s 3ms/step - loss: 0.3335 - accuracy: 0.8761\n",
            "Epoch 8/20\n",
            "200/200 [==============================] - 1s 4ms/step - loss: 0.2853 - accuracy: 0.8981\n",
            "Epoch 9/20\n",
            "200/200 [==============================] - 1s 3ms/step - loss: 0.2781 - accuracy: 0.9003\n",
            "Epoch 10/20\n",
            "200/200 [==============================] - 1s 3ms/step - loss: 0.2430 - accuracy: 0.9172\n",
            "Epoch 11/20\n",
            "200/200 [==============================] - 1s 4ms/step - loss: 0.2399 - accuracy: 0.9191\n",
            "Epoch 12/20\n",
            "200/200 [==============================] - 1s 4ms/step - loss: 0.2302 - accuracy: 0.9192\n",
            "Epoch 13/20\n",
            "200/200 [==============================] - 1s 4ms/step - loss: 0.2329 - accuracy: 0.9219\n",
            "Epoch 14/20\n",
            "200/200 [==============================] - 1s 4ms/step - loss: 0.2095 - accuracy: 0.9341\n",
            "Epoch 15/20\n",
            "200/200 [==============================] - 1s 4ms/step - loss: 0.1848 - accuracy: 0.9397\n",
            "Epoch 16/20\n",
            "200/200 [==============================] - 1s 4ms/step - loss: 0.1632 - accuracy: 0.9453\n",
            "Epoch 17/20\n",
            "200/200 [==============================] - 1s 4ms/step - loss: 0.1735 - accuracy: 0.9423\n",
            "Epoch 18/20\n",
            "200/200 [==============================] - 1s 4ms/step - loss: 0.1740 - accuracy: 0.9447\n",
            "Epoch 19/20\n",
            "200/200 [==============================] - 1s 4ms/step - loss: 0.1265 - accuracy: 0.9563\n",
            "Epoch 20/20\n",
            "200/200 [==============================] - 1s 4ms/step - loss: 0.1133 - accuracy: 0.9614\n"
          ],
          "name": "stdout"
        },
        {
          "output_type": "execute_result",
          "data": {
            "text/plain": [
              "<tensorflow.python.keras.callbacks.History at 0x7f9704018e48>"
            ]
          },
          "metadata": {
            "tags": []
          },
          "execution_count": 14
        }
      ]
    },
    {
      "cell_type": "code",
      "metadata": {
        "id": "plSqfUSDxKJc",
        "colab": {
          "base_uri": "https://localhost:8080/"
        },
        "outputId": "6fb8ce54-9f09-46eb-c378-a36bf58542ff"
      },
      "source": [
        "#model evaluation on validation set\n",
        "mlp_model.compile(loss=tf.keras.losses.SparseCategoricalCrossentropy(), optimizer='adam')\n",
        "val_loss= mlp_model.evaluate(val_ds,callbacks=[cp_callback])"
      ],
      "execution_count": 15,
      "outputs": [
        {
          "output_type": "stream",
          "text": [
            "25/25 [==============================] - 18s 714ms/step - loss: 1.7038\n"
          ],
          "name": "stdout"
        }
      ]
    },
    {
      "cell_type": "code",
      "metadata": {
        "id": "u75Wnow5xeHP",
        "colab": {
          "base_uri": "https://localhost:8080/"
        },
        "outputId": "fb897dc8-2499-4721-887f-d4a2e333204a"
      },
      "source": [
        "test_loss= mlp_model.evaluate(test_ds)"
      ],
      "execution_count": 16,
      "outputs": [
        {
          "output_type": "stream",
          "text": [
            "25/25 [==============================] - 18s 714ms/step - loss: 1.5832\n"
          ],
          "name": "stdout"
        }
      ]
    },
    {
      "cell_type": "markdown",
      "metadata": {
        "id": "jkHNcNcx1aDB"
      },
      "source": [
        "###CNN"
      ]
    },
    {
      "cell_type": "code",
      "metadata": {
        "id": "suQKxBuD1j0v"
      },
      "source": [
        "#CNN_2D Model definition\n",
        "\n",
        "cnn_2d_model = keras.Sequential([\n",
        "    keras.layers.Conv2D(filters=128,kernel_size=[3,3],strides=strides, use_bias=False),\n",
        "    keras.layers.BatchNormalization(momentum=0.1),\n",
        "    keras.layers.ReLU(),\n",
        "    keras.layers.Conv2D(filters=128,kernel_size=[3,3],strides=[1, 1], use_bias=False),\n",
        "    keras.layers.BatchNormalization(momentum=0.1),\n",
        "    keras.layers.ReLU(),\n",
        "    keras.layers.Conv2D(filters=128,kernel_size=[3,3],strides=[1,1], use_bias=False),\n",
        "    keras.layers.BatchNormalization(momentum=0.1),\n",
        "    keras.layers.ReLU(),\n",
        "    keras.layers.GlobalAveragePooling2D(),\n",
        "    keras.layers.Dense(units=8)\n",
        "])"
      ],
      "execution_count": 17,
      "outputs": []
    },
    {
      "cell_type": "code",
      "metadata": {
        "id": "ufA9mxR7yJKs",
        "colab": {
          "base_uri": "https://localhost:8080/"
        },
        "outputId": "e5b0065f-b73f-4ac1-f54c-0e4cc595cfae"
      },
      "source": [
        "#Training, evaluation and testing with mlp model\n",
        "cnn_2d_model.compile(loss=tf.keras.losses.SparseCategoricalCrossentropy(from_logits=True) ,optimizer='adam', metrics=['accuracy'])\n",
        "cnn_2d_model.fit(train_ds, epochs=20)"
      ],
      "execution_count": null,
      "outputs": [
        {
          "output_type": "stream",
          "text": [
            "Epoch 1/20\n",
            "200/200 [==============================] - ETA: 0s - loss: 1.2493 - accuracy: 0.6125WARNING:tensorflow:Can save best model only with val_loss available, skipping.\n",
            "200/200 [==============================] - 34s 169ms/step - loss: 1.2493 - accuracy: 0.6125\n",
            "Epoch 2/20\n",
            "200/200 [==============================] - ETA: 0s - loss: 0.6274 - accuracy: 0.8375WARNING:tensorflow:Can save best model only with val_loss available, skipping.\n",
            "200/200 [==============================] - 38s 190ms/step - loss: 0.6274 - accuracy: 0.8375\n",
            "Epoch 3/20\n",
            "200/200 [==============================] - ETA: 0s - loss: 0.4379 - accuracy: 0.8873WARNING:tensorflow:Can save best model only with val_loss available, skipping.\n",
            "200/200 [==============================] - 33s 164ms/step - loss: 0.4379 - accuracy: 0.8873\n",
            "Epoch 4/20\n",
            "200/200 [==============================] - ETA: 0s - loss: 0.3483 - accuracy: 0.9053WARNING:tensorflow:Can save best model only with val_loss available, skipping.\n",
            "200/200 [==============================] - 33s 167ms/step - loss: 0.3483 - accuracy: 0.9053\n",
            "Epoch 5/20\n",
            "200/200 [==============================] - ETA: 0s - loss: 0.2824 - accuracy: 0.9250WARNING:tensorflow:Can save best model only with val_loss available, skipping.\n",
            "200/200 [==============================] - 33s 166ms/step - loss: 0.2824 - accuracy: 0.9250\n",
            "Epoch 6/20\n",
            "200/200 [==============================] - ETA: 0s - loss: 0.2414 - accuracy: 0.9348WARNING:tensorflow:Can save best model only with val_loss available, skipping.\n",
            "200/200 [==============================] - 34s 170ms/step - loss: 0.2414 - accuracy: 0.9348\n",
            "Epoch 7/20\n",
            "200/200 [==============================] - ETA: 0s - loss: 0.2194 - accuracy: 0.9409WARNING:tensorflow:Can save best model only with val_loss available, skipping.\n",
            "200/200 [==============================] - 33s 166ms/step - loss: 0.2194 - accuracy: 0.9409\n",
            "Epoch 8/20\n",
            "200/200 [==============================] - ETA: 0s - loss: 0.1880 - accuracy: 0.9483WARNING:tensorflow:Can save best model only with val_loss available, skipping.\n",
            "200/200 [==============================] - 33s 165ms/step - loss: 0.1880 - accuracy: 0.9483\n",
            "Epoch 9/20\n",
            "200/200 [==============================] - ETA: 0s - loss: 0.1647 - accuracy: 0.9559WARNING:tensorflow:Can save best model only with val_loss available, skipping.\n",
            "200/200 [==============================] - 33s 166ms/step - loss: 0.1647 - accuracy: 0.9559\n",
            "Epoch 10/20\n",
            "200/200 [==============================] - ETA: 0s - loss: 0.1379 - accuracy: 0.9663WARNING:tensorflow:Can save best model only with val_loss available, skipping.\n",
            "200/200 [==============================] - 33s 167ms/step - loss: 0.1379 - accuracy: 0.9663\n",
            "Epoch 11/20\n",
            "200/200 [==============================] - ETA: 0s - loss: 0.1290 - accuracy: 0.9661WARNING:tensorflow:Can save best model only with val_loss available, skipping.\n",
            "200/200 [==============================] - 33s 165ms/step - loss: 0.1290 - accuracy: 0.9661\n",
            "Epoch 12/20\n",
            "125/200 [=================>............] - ETA: 12s - loss: 0.1098 - accuracy: 0.9712"
          ],
          "name": "stdout"
        }
      ]
    },
    {
      "cell_type": "code",
      "metadata": {
        "id": "Vm5lUb1wyV0V"
      },
      "source": [
        "#model evaluation on validation set\n",
        "cnn_2d_model.compile(loss=tf.keras.losses.SparseCategoricalCrossentropy(), optimizer='adam')\n",
        "val_loss= cnn_2d_model.evaluate(val_ds,callbacks=[cp_callback])"
      ],
      "execution_count": null,
      "outputs": []
    },
    {
      "cell_type": "code",
      "metadata": {
        "id": "Hc7ebmYryZiA"
      },
      "source": [
        "#model test on the test set\n",
        "test_loss= cnn_2d_model.evaluate(test_ds)"
      ],
      "execution_count": null,
      "outputs": []
    },
    {
      "cell_type": "markdown",
      "metadata": {
        "id": "W0cBDG_W1gCZ"
      },
      "source": [
        "###DS-CNN"
      ]
    },
    {
      "cell_type": "code",
      "metadata": {
        "id": "7ZS5R5pk1kb0"
      },
      "source": [
        "ds_cnn_model = keras.Sequential([\n",
        "    keras.layers.Conv2D(filters=256,kernel_size=[3,3],strides=strides, use_bias=False),\n",
        "    keras.layers.BatchNormalization(momentum=0.1),\n",
        "    keras.layers.ReLU(),\n",
        "    keras.layers.DepthwiseConv2D(kernel_size=[3,3],strides=[1, 1], use_bias=False),\n",
        "    keras.layers.Conv2D(filters=256,kernel_size=[1,1],strides=[1,1], use_bias=False),\n",
        "    keras.layers.BatchNormalization(momentum=0.1),\n",
        "    keras.layers.ReLU(),\n",
        "    keras.layers.DepthwiseConv2D(kernel_size=[3,3],strides=[1, 1], use_bias=False),\n",
        "    keras.layers.Conv2D(filters=256,kernel_size=[1,1],strides=[1,1], use_bias=False),\n",
        "    keras.layers.BatchNormalization(momentum=0.1),\n",
        "    keras.layers.ReLU(),\n",
        "    keras.layers.GlobalAveragePooling2D(),\n",
        "    keras.layers.Dense(units=8)\n",
        "])"
      ],
      "execution_count": null,
      "outputs": []
    },
    {
      "cell_type": "code",
      "metadata": {
        "id": "Jrk7FmQQ0UtN"
      },
      "source": [
        "#Training, evaluation and testing with mlp model\n",
        "ds_cnn_model.compile(loss=tf.keras.losses.SparseCategoricalCrossentropy(from_logits=True) ,optimizer='adam', metrics=['accuracy'])\n",
        "ds_cnn_model.fit(train_ds, epochs=20)"
      ],
      "execution_count": null,
      "outputs": []
    },
    {
      "cell_type": "code",
      "metadata": {
        "id": "awDK6mWX0bM_"
      },
      "source": [
        "#model evaluation on validation set\n",
        "ds_cnn_model.compile(loss=tf.keras.losses.SparseCategoricalCrossentropy(), optimizer='adam')\n",
        "val_loss= ds_cnn_model.evaluate(val_ds,callbacks=[cp_callback])"
      ],
      "execution_count": null,
      "outputs": []
    },
    {
      "cell_type": "code",
      "metadata": {
        "id": "oix_VKz70ynC"
      },
      "source": [
        "#model test on the test set\n",
        "test_loss= ds_cnn_model.evaluate(test_ds)"
      ],
      "execution_count": null,
      "outputs": []
    },
    {
      "cell_type": "code",
      "metadata": {
        "id": "ca23yP_pWP1E"
      },
      "source": [
        ""
      ],
      "execution_count": null,
      "outputs": []
    }
  ]
}