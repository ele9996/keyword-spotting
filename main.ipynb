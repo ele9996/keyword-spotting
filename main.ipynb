{
  "nbformat": 4,
  "nbformat_minor": 0,
  "metadata": {
    "colab": {
      "name": "main.ipynb",
      "provenance": [],
      "toc_visible": true,
      "authorship_tag": "ABX9TyNaTB1ZOVtDepIzNHV0NfnY",
      "include_colab_link": true
    },
    "kernelspec": {
      "name": "python3",
      "display_name": "Python 3"
    }
  },
  "cells": [
    {
      "cell_type": "markdown",
      "metadata": {
        "id": "view-in-github",
        "colab_type": "text"
      },
      "source": [
        "<a href=\"https://colab.research.google.com/github/ele9996/keyword-spotting/blob/main/main.ipynb\" target=\"_parent\"><img src=\"https://colab.research.google.com/assets/colab-badge.svg\" alt=\"Open In Colab\"/></a>"
      ]
    },
    {
      "cell_type": "code",
      "metadata": {
        "id": "Q6TDZsVFohfw"
      },
      "source": [
        "import tensorflow as tf\n",
        "import numpy as np\n",
        "from tensorflow import keras\n",
        "import pandas as pd\n",
        "import matplotlib.pyplot as plt\n",
        "import os\n",
        "from zipfile import ZipFile"
      ],
      "execution_count": 27,
      "outputs": []
    },
    {
      "cell_type": "code",
      "metadata": {
        "id": "0el4NzoV22tl",
        "outputId": "c69ab609-98f0-4d08-fb57-04f91187e4f8",
        "colab": {
          "base_uri": "https://localhost:8080/"
        }
      },
      "source": [
        "import pathlib\n",
        "pathlib.Path().absolute()"
      ],
      "execution_count": 28,
      "outputs": [
        {
          "output_type": "execute_result",
          "data": {
            "text/plain": [
              "PosixPath('/content')"
            ]
          },
          "metadata": {
            "tags": []
          },
          "execution_count": 28
        }
      ]
    },
    {
      "cell_type": "code",
      "metadata": {
        "id": "ZYKtkvY1zLsD"
      },
      "source": [
        "#parser = argparse.ArgumentParser()\n",
        "#parser.add_argument('--model', type=str, required=True, help='model name')\n",
        "#parser.add_argument('--mfcc', action='store_true', help='use MFCCs')\n",
        "#parser.add_argument('--silence', action='store_true', help='add silence')\n",
        "#args = parser.parse_args()\n",
        "\n",
        "mfcc=False\n",
        "silence=False"
      ],
      "execution_count": 29,
      "outputs": []
    },
    {
      "cell_type": "code",
      "metadata": {
        "id": "bpBqRw_Qo5Nd"
      },
      "source": [
        "seed = 42\n",
        "tf.random.set_seed(seed)\n",
        "np.random.seed(seed)"
      ],
      "execution_count": 30,
      "outputs": []
    },
    {
      "cell_type": "markdown",
      "metadata": {
        "id": "qyjQ3lWJyKiX"
      },
      "source": [
        "#Data extraction from file"
      ]
    },
    {
      "cell_type": "code",
      "metadata": {
        "id": "SugHF8ulpa1_"
      },
      "source": [
        "#if args.silence is True:\n",
        "if silence is True:\n",
        "    data_dir = os.path.join('.', 'data', 'mini_speech_commands_silence')\n",
        "else:\n",
        "    zip_path = tf.keras.utils.get_file(\n",
        "        origin=\"http://storage.googleapis.com/download.tensorflow.org/data/mini_speech_commands.zip\",\n",
        "        fname='mini_speech_commands.zip',\n",
        "        extract=True,\n",
        "        cache_dir='.', cache_subdir='data')\n",
        "\n",
        "    data_dir = os.path.join('.', 'data', 'mini_speech_commands')\n",
        "\n",
        "filenames = tf.io.gfile.glob(str(data_dir) + '/*/*')\n",
        "filenames = tf.random.shuffle(filenames)\n",
        "num_samples = len(filenames)\n",
        "\n",
        "#if args.silence is True:\n",
        "if silence is True:\n",
        "    total = 9000\n",
        "else:\n",
        "    total = 8000"
      ],
      "execution_count": 31,
      "outputs": []
    },
    {
      "cell_type": "markdown",
      "metadata": {
        "id": "hXHzqQ_7yXjG"
      },
      "source": [
        "#Training, Validation and Test dataset definition"
      ]
    },
    {
      "cell_type": "code",
      "metadata": {
        "id": "TMgg6XmzyjC3"
      },
      "source": [
        "train_files = filenames[:int(total*0.8)]\n",
        "val_files = filenames[int(total*0.8): int(total*0.9)]\n",
        "test_files = filenames[int(total*0.9):]"
      ],
      "execution_count": 32,
      "outputs": []
    },
    {
      "cell_type": "code",
      "metadata": {
        "id": "_k9_btuKynGg"
      },
      "source": [
        "LABELS = np.array(tf.io.gfile.listdir(str(data_dir)))\n",
        "LABELS = LABELS[LABELS != 'README.md']"
      ],
      "execution_count": 33,
      "outputs": []
    },
    {
      "cell_type": "markdown",
      "metadata": {
        "id": "rg_iP45xs-bi"
      },
      "source": [
        "#Data preparation and preprocessing steps"
      ]
    },
    {
      "cell_type": "code",
      "metadata": {
        "id": "W57hi_WDtHaK"
      },
      "source": [
        "class SignalGenerator:\n",
        "    def __init__(self, labels, sampling_rate, frame_length, frame_step,\n",
        "            num_mel_bins=None, lower_frequency=None, upper_frequency=None,\n",
        "            num_coefficients=None, mfcc=False):\n",
        "        self.labels = labels\n",
        "        self.sampling_rate = sampling_rate\n",
        "        self.frame_length = frame_length\n",
        "        self.frame_step = frame_step\n",
        "        self.num_mel_bins = num_mel_bins\n",
        "        self.lower_frequency = lower_frequency\n",
        "        self.upper_frequency = upper_frequency\n",
        "        self.num_coefficients = num_coefficients\n",
        "        num_spectrogram_bins = (frame_length) // 2 + 1\n",
        "\n",
        "        if mfcc is True:\n",
        "            self.linear_to_mel_weight_matrix = tf.signal.linear_to_mel_weight_matrix(\n",
        "                    self.num_mel_bins, num_spectrogram_bins, self.sampling_rate,\n",
        "                    self.lower_frequency, self.upper_frequency)\n",
        "            self.preprocess = self.preprocess_with_mfcc\n",
        "        else:\n",
        "            self.preprocess = self.preprocess_with_stft\n",
        "\n",
        "    def read(self, file_path):\n",
        "        parts = tf.strings.split(file_path, os.path.sep)\n",
        "        label = parts[-2]\n",
        "        label_id = tf.argmax(label == self.labels)\n",
        "        audio_binary = tf.io.read_file(file_path)\n",
        "        audio, _ = tf.audio.decode_wav(audio_binary)\n",
        "        audio = tf.squeeze(audio, axis=1)\n",
        "\n",
        "        return audio, label_id\n",
        "\n",
        "    def pad(self, audio):\n",
        "        zero_padding = tf.zeros([self.sampling_rate] - tf.shape(audio), dtype=tf.float32)\n",
        "        audio = tf.concat([audio, zero_padding], 0)\n",
        "        audio.set_shape([self.sampling_rate])\n",
        "\n",
        "        return audio\n",
        "\n",
        "    def get_spectrogram(self, audio):\n",
        "        stft = tf.signal.stft(audio, frame_length=self.frame_length,\n",
        "                frame_step=self.frame_step, fft_length=self.frame_length)\n",
        "        spectrogram = tf.abs(stft)\n",
        "\n",
        "        return spectrogram\n",
        "\n",
        "    def get_mfccs(self, spectrogram):\n",
        "        mel_spectrogram = tf.tensordot(spectrogram,\n",
        "                self.linear_to_mel_weight_matrix, 1)\n",
        "        log_mel_spectrogram = tf.math.log(mel_spectrogram + 1.e-6)\n",
        "        mfccs = tf.signal.mfccs_from_log_mel_spectrograms(log_mel_spectrogram)\n",
        "        mfccs = mfccs[..., :self.num_coefficients]\n",
        "\n",
        "        return mfccs\n",
        "\n",
        "    def preprocess_with_stft(self, file_path):\n",
        "        audio, label = self.read(file_path)\n",
        "        audio = self.pad(audio)\n",
        "        spectrogram = self.get_spectrogram(audio)\n",
        "        spectrogram = tf.expand_dims(spectrogram, -1)\n",
        "        spectrogram = tf.image.resize(spectrogram, [32, 32])\n",
        "\n",
        "        return spectrogram, label\n",
        "\n",
        "    def preprocess_with_mfcc(self, file_path):\n",
        "        audio, label = self.read(file_path)\n",
        "        audio = self.pad(audio)\n",
        "        spectrogram = self.get_spectrogram(audio)\n",
        "        mfccs = self.get_mfccs(spectrogram)\n",
        "        mfccs = tf.expand_dims(mfccs, -1)\n",
        "\n",
        "        return mfccs, label\n",
        "\n",
        "    def make_dataset(self, files, train):\n",
        "        ds = tf.data.Dataset.from_tensor_slices(files)\n",
        "        ds = ds.map(self.preprocess, num_parallel_calls=4)\n",
        "        ds = ds.batch(32)\n",
        "        ds = ds.cache()\n",
        "        if train is True:\n",
        "            ds = ds.shuffle(100, reshuffle_each_iteration=True)\n",
        "\n",
        "        return ds"
      ],
      "execution_count": 34,
      "outputs": []
    },
    {
      "cell_type": "code",
      "metadata": {
        "id": "AsVi-mJtytv8"
      },
      "source": [
        "STFT_OPTIONS = {'frame_length': 256, 'frame_step': 128, 'mfcc': False}\n",
        "MFCC_OPTIONS = {'frame_length': 640, 'frame_step': 320, 'mfcc': True,\n",
        "        'lower_frequency': 20, 'upper_frequency': 4000, 'num_mel_bins': 40,\n",
        "        'num_coefficients': 10}"
      ],
      "execution_count": 35,
      "outputs": []
    },
    {
      "cell_type": "code",
      "metadata": {
        "id": "j4NFUEWjy3-L"
      },
      "source": [
        "#if args.mfcc is True:\n",
        "if mfcc is True:\n",
        "    options = MFCC_OPTIONS\n",
        "    strides = [2, 1]\n",
        "else:\n",
        "    options = STFT_OPTIONS\n",
        "    strides = [2, 2]\n"
      ],
      "execution_count": 36,
      "outputs": []
    },
    {
      "cell_type": "code",
      "metadata": {
        "id": "SxA94-IXy48F"
      },
      "source": [
        "generator = SignalGenerator(LABELS, 16000, **options)\n",
        "train_ds = generator.make_dataset(train_files, True)\n",
        "val_ds = generator.make_dataset(val_files, False)\n",
        "test_ds = generator.make_dataset(test_files, False)\n",
        "\n",
        "#if args.silence is True:\n",
        "if silence is True:\n",
        "    units = 9\n",
        "else:\n",
        "    units = 8"
      ],
      "execution_count": 37,
      "outputs": []
    },
    {
      "cell_type": "markdown",
      "metadata": {
        "id": "18WKTI390-nk"
      },
      "source": [
        "#Model application"
      ]
    },
    {
      "cell_type": "markdown",
      "metadata": {
        "id": "HfcFBc8d1WpS"
      },
      "source": [
        "###MPL"
      ]
    },
    {
      "cell_type": "code",
      "metadata": {
        "id": "bfFtfBqBZ2lS"
      },
      "source": [
        "cp_callback = keras.callbacks.ModelCheckpoint(\n",
        "    filepath='./callback_val_chkp/stft_mpl',\n",
        "    # './callback_test_chkp/chkp_best',\n",
        "    monitor='val_loss',\n",
        "    verbose=0, \n",
        "    save_best_only=True,\n",
        "    # save_best_only=True,\n",
        "    save_weights_only=False,\n",
        "    mode='auto',\n",
        "    save_freq='epoch'\n",
        ")\n",
        "\n"
      ],
      "execution_count": 38,
      "outputs": []
    },
    {
      "cell_type": "code",
      "metadata": {
        "id": "qCFKcDWf0-T3"
      },
      "source": [
        "#MLP Model definition\n",
        "mlp_model = keras.Sequential([\n",
        "    keras.layers.Flatten(),\n",
        "    keras.layers.Dense(units=256, activation='relu'),\n",
        "    keras.layers.Dense(units=256, activation='relu'),\n",
        "    keras.layers.Dense(units=256, activation='relu'),\n",
        "    keras.layers.Dense(units=8) \n",
        "])"
      ],
      "execution_count": 39,
      "outputs": []
    },
    {
      "cell_type": "code",
      "metadata": {
        "id": "3MYuCQH2seee",
        "colab": {
          "base_uri": "https://localhost:8080/"
        },
        "outputId": "a081a0ea-cfe3-400d-a330-7af400d9672c"
      },
      "source": [
        "#Training, evaluation and testing with mlp model\n",
        "\n",
        "\n",
        "mlp_model.compile(loss=tf.keras.losses.SparseCategoricalCrossentropy(from_logits=True) ,optimizer='adam', metrics=['accuracy'])\n",
        "mlp_model.fit(train_ds, epochs=20, validation_data=val_ds,callbacks=[cp_callback])\n",
        "\n"
      ],
      "execution_count": 40,
      "outputs": [
        {
          "output_type": "stream",
          "text": [
            "Epoch 1/20\n",
            "191/200 [===========================>..] - ETA: 0s - loss: 1.6068 - accuracy: 0.4440INFO:tensorflow:Assets written to: ./callback_val_chkp/stft_mpl/assets\n",
            "200/200 [==============================] - 10s 52ms/step - loss: 1.5958 - accuracy: 0.4484 - val_loss: 1.2762 - val_accuracy: 0.5275\n",
            "Epoch 2/20\n",
            "191/200 [===========================>..] - ETA: 0s - loss: 1.0570 - accuracy: 0.6314INFO:tensorflow:Assets written to: ./callback_val_chkp/stft_mpl/assets\n",
            "200/200 [==============================] - 1s 7ms/step - loss: 1.0502 - accuracy: 0.6336 - val_loss: 1.0135 - val_accuracy: 0.6750\n",
            "Epoch 3/20\n",
            "189/200 [===========================>..] - ETA: 0s - loss: 0.8171 - accuracy: 0.7035INFO:tensorflow:Assets written to: ./callback_val_chkp/stft_mpl/assets\n",
            "200/200 [==============================] - 1s 7ms/step - loss: 0.8173 - accuracy: 0.7048 - val_loss: 0.9494 - val_accuracy: 0.7063\n",
            "Epoch 4/20\n",
            "194/200 [============================>.] - ETA: 0s - loss: 0.6528 - accuracy: 0.7701INFO:tensorflow:Assets written to: ./callback_val_chkp/stft_mpl/assets\n",
            "200/200 [==============================] - 2s 9ms/step - loss: 0.6481 - accuracy: 0.7714 - val_loss: 0.8825 - val_accuracy: 0.7063\n",
            "Epoch 5/20\n",
            "200/200 [==============================] - 1s 4ms/step - loss: 0.5165 - accuracy: 0.8186 - val_loss: 0.9148 - val_accuracy: 0.7513\n",
            "Epoch 6/20\n",
            "187/200 [===========================>..] - ETA: 0s - loss: 0.4484 - accuracy: 0.8399INFO:tensorflow:Assets written to: ./callback_val_chkp/stft_mpl/assets\n",
            "200/200 [==============================] - 1s 7ms/step - loss: 0.4507 - accuracy: 0.8381 - val_loss: 0.8632 - val_accuracy: 0.7387\n",
            "Epoch 7/20\n",
            "193/200 [===========================>..] - ETA: 0s - loss: 0.3884 - accuracy: 0.8620INFO:tensorflow:Assets written to: ./callback_val_chkp/stft_mpl/assets\n",
            "200/200 [==============================] - 1s 7ms/step - loss: 0.3900 - accuracy: 0.8608 - val_loss: 0.8631 - val_accuracy: 0.7350\n",
            "Epoch 8/20\n",
            "195/200 [============================>.] - ETA: 0s - loss: 0.3408 - accuracy: 0.8795INFO:tensorflow:Assets written to: ./callback_val_chkp/stft_mpl/assets\n",
            "200/200 [==============================] - 1s 7ms/step - loss: 0.3410 - accuracy: 0.8795 - val_loss: 0.8614 - val_accuracy: 0.7688\n",
            "Epoch 9/20\n",
            "200/200 [==============================] - 1s 4ms/step - loss: 0.2705 - accuracy: 0.9077 - val_loss: 1.0735 - val_accuracy: 0.7462\n",
            "Epoch 10/20\n",
            "200/200 [==============================] - 1s 4ms/step - loss: 0.2928 - accuracy: 0.9031 - val_loss: 1.2687 - val_accuracy: 0.7525\n",
            "Epoch 11/20\n",
            "200/200 [==============================] - 1s 4ms/step - loss: 0.2807 - accuracy: 0.9084 - val_loss: 0.8913 - val_accuracy: 0.7575\n",
            "Epoch 12/20\n",
            "200/200 [==============================] - 1s 4ms/step - loss: 0.2155 - accuracy: 0.9306 - val_loss: 0.8758 - val_accuracy: 0.7900\n",
            "Epoch 13/20\n",
            "200/200 [==============================] - 1s 5ms/step - loss: 0.1743 - accuracy: 0.9453 - val_loss: 1.2297 - val_accuracy: 0.7450\n",
            "Epoch 14/20\n",
            "200/200 [==============================] - 1s 5ms/step - loss: 0.1675 - accuracy: 0.9433 - val_loss: 1.0454 - val_accuracy: 0.7850\n",
            "Epoch 15/20\n",
            "200/200 [==============================] - 1s 4ms/step - loss: 0.1251 - accuracy: 0.9625 - val_loss: 1.0616 - val_accuracy: 0.7788\n",
            "Epoch 16/20\n",
            "200/200 [==============================] - 1s 5ms/step - loss: 0.1306 - accuracy: 0.9589 - val_loss: 1.2228 - val_accuracy: 0.7613\n",
            "Epoch 17/20\n",
            "200/200 [==============================] - 1s 5ms/step - loss: 0.2151 - accuracy: 0.9341 - val_loss: 1.1000 - val_accuracy: 0.7700\n",
            "Epoch 18/20\n",
            "200/200 [==============================] - 1s 5ms/step - loss: 0.1545 - accuracy: 0.9545 - val_loss: 1.0692 - val_accuracy: 0.7862\n",
            "Epoch 19/20\n",
            "200/200 [==============================] - 1s 4ms/step - loss: 0.1208 - accuracy: 0.9656 - val_loss: 1.0788 - val_accuracy: 0.7763\n",
            "Epoch 20/20\n",
            "200/200 [==============================] - 1s 5ms/step - loss: 0.1005 - accuracy: 0.9681 - val_loss: 1.1599 - val_accuracy: 0.7713\n"
          ],
          "name": "stdout"
        },
        {
          "output_type": "execute_result",
          "data": {
            "text/plain": [
              "<tensorflow.python.keras.callbacks.History at 0x7feb3faddeb8>"
            ]
          },
          "metadata": {
            "tags": []
          },
          "execution_count": 40
        }
      ]
    },
    {
      "cell_type": "code",
      "metadata": {
        "id": "plSqfUSDxKJc",
        "colab": {
          "base_uri": "https://localhost:8080/"
        },
        "outputId": "a505f47e-cb9d-4ff8-dd35-e438a9d903ff"
      },
      "source": [
        "#model evaluation on validation set\n",
        "mlp_model.compile(loss=tf.keras.losses.SparseCategoricalCrossentropy(), optimizer='adam')\n",
        "val_loss= mlp_model.evaluate(val_ds)"
      ],
      "execution_count": 41,
      "outputs": [
        {
          "output_type": "stream",
          "text": [
            "25/25 [==============================] - 0s 2ms/step - loss: 1.6752\n"
          ],
          "name": "stdout"
        }
      ]
    },
    {
      "cell_type": "code",
      "metadata": {
        "id": "u75Wnow5xeHP",
        "colab": {
          "base_uri": "https://localhost:8080/"
        },
        "outputId": "33a118f8-edeb-4a22-ddc2-597530d4a94b"
      },
      "source": [
        "test_loss= mlp_model.evaluate(test_ds)"
      ],
      "execution_count": 42,
      "outputs": [
        {
          "output_type": "stream",
          "text": [
            "25/25 [==============================] - 2s 72ms/step - loss: 1.6573\n"
          ],
          "name": "stdout"
        }
      ]
    },
    {
      "cell_type": "markdown",
      "metadata": {
        "id": "jkHNcNcx1aDB"
      },
      "source": [
        "###CNN"
      ]
    },
    {
      "cell_type": "code",
      "metadata": {
        "id": "x4wHWMWNLK3t"
      },
      "source": [
        "cp_callback = keras.callbacks.ModelCheckpoint(\n",
        "    filepath='./callback_val_chkp/stft_cnn',\n",
        "    # './callback_test_chkp/chkp_best',\n",
        "    monitor='val_loss',\n",
        "    verbose=0, \n",
        "    save_best_only=True,\n",
        "    # save_best_only=True,\n",
        "    save_weights_only=False,\n",
        "    mode='auto',\n",
        "    save_freq='epoch'\n",
        ")\n"
      ],
      "execution_count": 43,
      "outputs": []
    },
    {
      "cell_type": "code",
      "metadata": {
        "id": "suQKxBuD1j0v"
      },
      "source": [
        "#CNN_2D Model definition\n",
        "\n",
        "cnn_model = keras.Sequential([\n",
        "    keras.layers.Conv2D(filters=128,kernel_size=[3,3],strides=strides, use_bias=False),\n",
        "    keras.layers.BatchNormalization(momentum=0.1),\n",
        "    keras.layers.ReLU(),\n",
        "    keras.layers.Conv2D(filters=128,kernel_size=[3,3],strides=[1, 1], use_bias=False),\n",
        "    keras.layers.BatchNormalization(momentum=0.1),\n",
        "    keras.layers.ReLU(),\n",
        "    keras.layers.Conv2D(filters=128,kernel_size=[3,3],strides=[1,1], use_bias=False),\n",
        "    keras.layers.BatchNormalization(momentum=0.1),\n",
        "    keras.layers.ReLU(),\n",
        "    keras.layers.GlobalAveragePooling2D(),\n",
        "    keras.layers.Dense(units=8)\n",
        "])"
      ],
      "execution_count": 44,
      "outputs": []
    },
    {
      "cell_type": "code",
      "metadata": {
        "id": "ufA9mxR7yJKs",
        "colab": {
          "base_uri": "https://localhost:8080/"
        },
        "outputId": "73332cb2-1c6d-4950-8387-cb32f452f0c1"
      },
      "source": [
        "#Training, evaluation and testing with mlp model\n",
        "cnn_model.compile(loss=tf.keras.losses.SparseCategoricalCrossentropy(from_logits=True) ,optimizer='adam', metrics=['accuracy'])\n",
        "cnn_model.fit(train_ds, epochs=20, validation_data=val_ds,callbacks=[cp_callback])"
      ],
      "execution_count": 45,
      "outputs": [
        {
          "output_type": "stream",
          "text": [
            "Epoch 1/20\n",
            "200/200 [==============================] - ETA: 0s - loss: 1.6011 - accuracy: 0.4469INFO:tensorflow:Assets written to: ./callback_val_chkp/stft_cnn/assets\n",
            "200/200 [==============================] - 44s 219ms/step - loss: 1.6011 - accuracy: 0.4469 - val_loss: 1.2167 - val_accuracy: 0.6288\n",
            "Epoch 2/20\n",
            "200/200 [==============================] - ETA: 0s - loss: 1.0479 - accuracy: 0.6775INFO:tensorflow:Assets written to: ./callback_val_chkp/stft_cnn/assets\n",
            "200/200 [==============================] - 44s 218ms/step - loss: 1.0479 - accuracy: 0.6775 - val_loss: 0.8772 - val_accuracy: 0.7262\n",
            "Epoch 3/20\n",
            "200/200 [==============================] - ETA: 0s - loss: 0.8270 - accuracy: 0.7470INFO:tensorflow:Assets written to: ./callback_val_chkp/stft_cnn/assets\n",
            "200/200 [==============================] - 44s 219ms/step - loss: 0.8270 - accuracy: 0.7470 - val_loss: 0.7617 - val_accuracy: 0.7650\n",
            "Epoch 4/20\n",
            "200/200 [==============================] - ETA: 0s - loss: 0.6800 - accuracy: 0.7984INFO:tensorflow:Assets written to: ./callback_val_chkp/stft_cnn/assets\n",
            "200/200 [==============================] - 44s 220ms/step - loss: 0.6800 - accuracy: 0.7984 - val_loss: 0.7511 - val_accuracy: 0.7675\n",
            "Epoch 5/20\n",
            "200/200 [==============================] - ETA: 0s - loss: 0.5776 - accuracy: 0.8341INFO:tensorflow:Assets written to: ./callback_val_chkp/stft_cnn/assets\n",
            "200/200 [==============================] - 44s 219ms/step - loss: 0.5776 - accuracy: 0.8341 - val_loss: 0.6014 - val_accuracy: 0.8125\n",
            "Epoch 6/20\n",
            "200/200 [==============================] - 43s 213ms/step - loss: 0.4993 - accuracy: 0.8536 - val_loss: 0.6104 - val_accuracy: 0.8037\n",
            "Epoch 7/20\n",
            "200/200 [==============================] - ETA: 0s - loss: 0.4392 - accuracy: 0.8736INFO:tensorflow:Assets written to: ./callback_val_chkp/stft_cnn/assets\n",
            "200/200 [==============================] - 44s 219ms/step - loss: 0.4392 - accuracy: 0.8736 - val_loss: 0.5323 - val_accuracy: 0.8313\n",
            "Epoch 8/20\n",
            "200/200 [==============================] - ETA: 0s - loss: 0.3799 - accuracy: 0.8927INFO:tensorflow:Assets written to: ./callback_val_chkp/stft_cnn/assets\n",
            "200/200 [==============================] - 44s 220ms/step - loss: 0.3799 - accuracy: 0.8927 - val_loss: 0.4570 - val_accuracy: 0.8625\n",
            "Epoch 9/20\n",
            "200/200 [==============================] - ETA: 0s - loss: 0.3372 - accuracy: 0.9077INFO:tensorflow:Assets written to: ./callback_val_chkp/stft_cnn/assets\n",
            "200/200 [==============================] - 44s 218ms/step - loss: 0.3372 - accuracy: 0.9077 - val_loss: 0.4496 - val_accuracy: 0.8612\n",
            "Epoch 10/20\n",
            "200/200 [==============================] - 42s 212ms/step - loss: 0.3121 - accuracy: 0.9141 - val_loss: 0.4964 - val_accuracy: 0.8288\n",
            "Epoch 11/20\n",
            "200/200 [==============================] - 42s 212ms/step - loss: 0.2821 - accuracy: 0.9200 - val_loss: 0.4758 - val_accuracy: 0.8562\n",
            "Epoch 12/20\n",
            "200/200 [==============================] - ETA: 0s - loss: 0.2426 - accuracy: 0.9342INFO:tensorflow:Assets written to: ./callback_val_chkp/stft_cnn/assets\n",
            "200/200 [==============================] - 44s 220ms/step - loss: 0.2426 - accuracy: 0.9342 - val_loss: 0.3890 - val_accuracy: 0.8763\n",
            "Epoch 13/20\n",
            "200/200 [==============================] - 43s 213ms/step - loss: 0.2225 - accuracy: 0.9417 - val_loss: 0.3974 - val_accuracy: 0.8700\n",
            "Epoch 14/20\n",
            "200/200 [==============================] - 42s 212ms/step - loss: 0.1968 - accuracy: 0.9463 - val_loss: 0.4587 - val_accuracy: 0.8438\n",
            "Epoch 15/20\n",
            "200/200 [==============================] - 42s 212ms/step - loss: 0.1953 - accuracy: 0.9484 - val_loss: 0.4515 - val_accuracy: 0.8550\n",
            "Epoch 16/20\n",
            "200/200 [==============================] - 43s 213ms/step - loss: 0.1784 - accuracy: 0.9520 - val_loss: 0.4275 - val_accuracy: 0.8500\n",
            "Epoch 17/20\n",
            "200/200 [==============================] - ETA: 0s - loss: 0.1513 - accuracy: 0.9597INFO:tensorflow:Assets written to: ./callback_val_chkp/stft_cnn/assets\n",
            "200/200 [==============================] - 44s 221ms/step - loss: 0.1513 - accuracy: 0.9597 - val_loss: 0.3496 - val_accuracy: 0.8950\n",
            "Epoch 18/20\n",
            "200/200 [==============================] - 43s 214ms/step - loss: 0.1448 - accuracy: 0.9608 - val_loss: 0.4008 - val_accuracy: 0.8775\n",
            "Epoch 19/20\n",
            "200/200 [==============================] - ETA: 0s - loss: 0.1813 - accuracy: 0.9511INFO:tensorflow:Assets written to: ./callback_val_chkp/stft_cnn/assets\n",
            "200/200 [==============================] - 44s 221ms/step - loss: 0.1813 - accuracy: 0.9511 - val_loss: 0.3032 - val_accuracy: 0.9062\n",
            "Epoch 20/20\n",
            "200/200 [==============================] - 43s 215ms/step - loss: 0.1351 - accuracy: 0.9636 - val_loss: 0.3597 - val_accuracy: 0.8838\n"
          ],
          "name": "stdout"
        },
        {
          "output_type": "execute_result",
          "data": {
            "text/plain": [
              "<tensorflow.python.keras.callbacks.History at 0x7feb3f942828>"
            ]
          },
          "metadata": {
            "tags": []
          },
          "execution_count": 45
        }
      ]
    },
    {
      "cell_type": "code",
      "metadata": {
        "id": "Vm5lUb1wyV0V",
        "outputId": "830a71f0-6ebe-461d-923b-e350c7532add",
        "colab": {
          "base_uri": "https://localhost:8080/"
        }
      },
      "source": [
        "#model evaluation on validation set\n",
        "cnn_model.compile(loss=tf.keras.losses.SparseCategoricalCrossentropy(), optimizer='adam')\n",
        "val_loss= cnn_model.evaluate(val_ds)"
      ],
      "execution_count": 46,
      "outputs": [
        {
          "output_type": "stream",
          "text": [
            "25/25 [==============================] - 1s 49ms/step - loss: 0.9144\n"
          ],
          "name": "stdout"
        }
      ]
    },
    {
      "cell_type": "code",
      "metadata": {
        "id": "Hc7ebmYryZiA",
        "outputId": "19aa8da2-8abf-431d-9c6a-a3f2638971fe",
        "colab": {
          "base_uri": "https://localhost:8080/"
        }
      },
      "source": [
        "#model test on the test set\n",
        "test_loss= cnn_model.evaluate(test_ds)"
      ],
      "execution_count": 47,
      "outputs": [
        {
          "output_type": "stream",
          "text": [
            "25/25 [==============================] - 1s 50ms/step - loss: 1.0850\n"
          ],
          "name": "stdout"
        }
      ]
    },
    {
      "cell_type": "markdown",
      "metadata": {
        "id": "W0cBDG_W1gCZ"
      },
      "source": [
        "###DS-CNN"
      ]
    },
    {
      "cell_type": "code",
      "metadata": {
        "id": "63Ap06s0LNsi"
      },
      "source": [
        "cp_callback = keras.callbacks.ModelCheckpoint(\n",
        "    filepath='./callback_val_chkp/stft_DS-CNN',\n",
        "    # './callback_test_chkp/chkp_best',\n",
        "    monitor='val_loss',\n",
        "    verbose=0, \n",
        "    save_best_only=True,\n",
        "    # save_best_only=True,\n",
        "    save_weights_only=False,\n",
        "    mode='auto',\n",
        "    save_freq='epoch'\n",
        ")\n"
      ],
      "execution_count": 48,
      "outputs": []
    },
    {
      "cell_type": "code",
      "metadata": {
        "id": "7ZS5R5pk1kb0"
      },
      "source": [
        "ds_cnn_model = keras.Sequential([\n",
        "    keras.layers.Conv2D(filters=256,kernel_size=[3,3],strides=strides, use_bias=False),\n",
        "    keras.layers.BatchNormalization(momentum=0.1),\n",
        "    keras.layers.ReLU(),\n",
        "    keras.layers.DepthwiseConv2D(kernel_size=[3,3],strides=[1, 1], use_bias=False),\n",
        "    keras.layers.Conv2D(filters=256,kernel_size=[1,1],strides=[1,1], use_bias=False),\n",
        "    keras.layers.BatchNormalization(momentum=0.1),\n",
        "    keras.layers.ReLU(),\n",
        "    keras.layers.DepthwiseConv2D(kernel_size=[3,3],strides=[1, 1], use_bias=False),\n",
        "    keras.layers.Conv2D(filters=256,kernel_size=[1,1],strides=[1,1], use_bias=False),\n",
        "    keras.layers.BatchNormalization(momentum=0.1),\n",
        "    keras.layers.ReLU(),\n",
        "    keras.layers.GlobalAveragePooling2D(),\n",
        "    keras.layers.Dense(units=8)\n",
        "])"
      ],
      "execution_count": 49,
      "outputs": []
    },
    {
      "cell_type": "code",
      "metadata": {
        "id": "Jrk7FmQQ0UtN",
        "outputId": "f6e4ecfd-b8a7-463a-d61a-15b26526f2cc",
        "colab": {
          "base_uri": "https://localhost:8080/"
        }
      },
      "source": [
        "#Training, evaluation and testing with mlp model\n",
        "ds_cnn_model.compile(loss=tf.keras.losses.SparseCategoricalCrossentropy(from_logits=True) ,optimizer='adam', metrics=['accuracy'])\n",
        "ds_cnn_model.fit(train_ds, epochs=20, validation_data=val_ds,callbacks=[cp_callback])"
      ],
      "execution_count": 50,
      "outputs": [
        {
          "output_type": "stream",
          "text": [
            "Epoch 1/20\n",
            "200/200 [==============================] - ETA: 0s - loss: 1.5476 - accuracy: 0.4667INFO:tensorflow:Assets written to: ./callback_val_chkp/stft_DS-CNN/assets\n",
            "200/200 [==============================] - 35s 177ms/step - loss: 1.5476 - accuracy: 0.4667 - val_loss: 1.1940 - val_accuracy: 0.6438\n",
            "Epoch 2/20\n",
            "200/200 [==============================] - ETA: 0s - loss: 0.9959 - accuracy: 0.6883INFO:tensorflow:Assets written to: ./callback_val_chkp/stft_DS-CNN/assets\n",
            "200/200 [==============================] - 35s 176ms/step - loss: 0.9959 - accuracy: 0.6883 - val_loss: 0.9016 - val_accuracy: 0.7225\n",
            "Epoch 3/20\n",
            "200/200 [==============================] - ETA: 0s - loss: 0.7663 - accuracy: 0.7666INFO:tensorflow:Assets written to: ./callback_val_chkp/stft_DS-CNN/assets\n",
            "200/200 [==============================] - 35s 176ms/step - loss: 0.7663 - accuracy: 0.7666 - val_loss: 0.8139 - val_accuracy: 0.7287\n",
            "Epoch 4/20\n",
            "200/200 [==============================] - ETA: 0s - loss: 0.6274 - accuracy: 0.8119INFO:tensorflow:Assets written to: ./callback_val_chkp/stft_DS-CNN/assets\n",
            "200/200 [==============================] - 35s 175ms/step - loss: 0.6274 - accuracy: 0.8119 - val_loss: 0.5489 - val_accuracy: 0.8300\n",
            "Epoch 5/20\n",
            "200/200 [==============================] - ETA: 0s - loss: 0.5284 - accuracy: 0.8417INFO:tensorflow:Assets written to: ./callback_val_chkp/stft_DS-CNN/assets\n",
            "200/200 [==============================] - 35s 177ms/step - loss: 0.5284 - accuracy: 0.8417 - val_loss: 0.5262 - val_accuracy: 0.8562\n",
            "Epoch 6/20\n",
            "200/200 [==============================] - ETA: 0s - loss: 0.4523 - accuracy: 0.8662INFO:tensorflow:Assets written to: ./callback_val_chkp/stft_DS-CNN/assets\n",
            "200/200 [==============================] - 35s 175ms/step - loss: 0.4523 - accuracy: 0.8662 - val_loss: 0.4541 - val_accuracy: 0.8775\n",
            "Epoch 7/20\n",
            "200/200 [==============================] - ETA: 0s - loss: 0.4039 - accuracy: 0.8797INFO:tensorflow:Assets written to: ./callback_val_chkp/stft_DS-CNN/assets\n",
            "200/200 [==============================] - 35s 177ms/step - loss: 0.4039 - accuracy: 0.8797 - val_loss: 0.4424 - val_accuracy: 0.8825\n",
            "Epoch 8/20\n",
            "200/200 [==============================] - ETA: 0s - loss: 0.3532 - accuracy: 0.8986INFO:tensorflow:Assets written to: ./callback_val_chkp/stft_DS-CNN/assets\n",
            "200/200 [==============================] - 35s 176ms/step - loss: 0.3532 - accuracy: 0.8986 - val_loss: 0.3809 - val_accuracy: 0.9000\n",
            "Epoch 9/20\n",
            "200/200 [==============================] - ETA: 0s - loss: 0.3174 - accuracy: 0.9111INFO:tensorflow:Assets written to: ./callback_val_chkp/stft_DS-CNN/assets\n",
            "200/200 [==============================] - 35s 177ms/step - loss: 0.3174 - accuracy: 0.9111 - val_loss: 0.3623 - val_accuracy: 0.8888\n",
            "Epoch 10/20\n",
            "200/200 [==============================] - 33s 167ms/step - loss: 0.2821 - accuracy: 0.9153 - val_loss: 0.4102 - val_accuracy: 0.8587\n",
            "Epoch 11/20\n",
            "200/200 [==============================] - 33s 167ms/step - loss: 0.2676 - accuracy: 0.9197 - val_loss: 0.3835 - val_accuracy: 0.8913\n",
            "Epoch 12/20\n",
            "200/200 [==============================] - ETA: 0s - loss: 0.2418 - accuracy: 0.9273INFO:tensorflow:Assets written to: ./callback_val_chkp/stft_DS-CNN/assets\n",
            "200/200 [==============================] - 35s 176ms/step - loss: 0.2418 - accuracy: 0.9273 - val_loss: 0.3361 - val_accuracy: 0.9013\n",
            "Epoch 13/20\n",
            "200/200 [==============================] - 33s 167ms/step - loss: 0.2069 - accuracy: 0.9417 - val_loss: 0.3619 - val_accuracy: 0.8975\n",
            "Epoch 14/20\n",
            "200/200 [==============================] - 34s 168ms/step - loss: 0.2024 - accuracy: 0.9427 - val_loss: 0.3510 - val_accuracy: 0.8975\n",
            "Epoch 15/20\n",
            "200/200 [==============================] - 33s 167ms/step - loss: 0.1819 - accuracy: 0.9503 - val_loss: 0.4611 - val_accuracy: 0.8725\n",
            "Epoch 16/20\n",
            "200/200 [==============================] - 34s 168ms/step - loss: 0.1976 - accuracy: 0.9406 - val_loss: 0.3836 - val_accuracy: 0.8888\n",
            "Epoch 17/20\n",
            "200/200 [==============================] - ETA: 0s - loss: 0.1580 - accuracy: 0.9534INFO:tensorflow:Assets written to: ./callback_val_chkp/stft_DS-CNN/assets\n",
            "200/200 [==============================] - 35s 174ms/step - loss: 0.1580 - accuracy: 0.9534 - val_loss: 0.3263 - val_accuracy: 0.9075\n",
            "Epoch 18/20\n",
            "200/200 [==============================] - 35s 173ms/step - loss: 0.1477 - accuracy: 0.9586 - val_loss: 0.3342 - val_accuracy: 0.9025\n",
            "Epoch 19/20\n",
            "200/200 [==============================] - ETA: 0s - loss: 0.1410 - accuracy: 0.9611INFO:tensorflow:Assets written to: ./callback_val_chkp/stft_DS-CNN/assets\n",
            "200/200 [==============================] - 35s 176ms/step - loss: 0.1410 - accuracy: 0.9611 - val_loss: 0.3022 - val_accuracy: 0.9125\n",
            "Epoch 20/20\n",
            "200/200 [==============================] - 34s 170ms/step - loss: 0.1162 - accuracy: 0.9681 - val_loss: 0.3527 - val_accuracy: 0.9013\n"
          ],
          "name": "stdout"
        },
        {
          "output_type": "execute_result",
          "data": {
            "text/plain": [
              "<tensorflow.python.keras.callbacks.History at 0x7feb42d891d0>"
            ]
          },
          "metadata": {
            "tags": []
          },
          "execution_count": 50
        }
      ]
    },
    {
      "cell_type": "code",
      "metadata": {
        "id": "awDK6mWX0bM_",
        "outputId": "6ef1f6d9-a954-470f-da8b-642c85646626",
        "colab": {
          "base_uri": "https://localhost:8080/"
        }
      },
      "source": [
        "#model evaluation on validation set\n",
        "ds_cnn_model.compile(loss=tf.keras.losses.SparseCategoricalCrossentropy(), optimizer='adam')\n",
        "val_loss= ds_cnn_model.evaluate(val_ds)"
      ],
      "execution_count": 51,
      "outputs": [
        {
          "output_type": "stream",
          "text": [
            "25/25 [==============================] - 1s 41ms/step - loss: 1.0274\n"
          ],
          "name": "stdout"
        }
      ]
    },
    {
      "cell_type": "code",
      "metadata": {
        "id": "oix_VKz70ynC",
        "outputId": "3ca4a60c-6bea-42be-b234-7a9bde7a208c",
        "colab": {
          "base_uri": "https://localhost:8080/"
        }
      },
      "source": [
        "#model test on the test set\n",
        "test_loss= ds_cnn_model.evaluate(test_ds)"
      ],
      "execution_count": 52,
      "outputs": [
        {
          "output_type": "stream",
          "text": [
            "25/25 [==============================] - 1s 41ms/step - loss: 1.1198\n"
          ],
          "name": "stdout"
        }
      ]
    },
    {
      "cell_type": "code",
      "metadata": {
        "id": "ca23yP_pWP1E"
      },
      "source": [
        ""
      ],
      "execution_count": 52,
      "outputs": []
    }
  ]
}