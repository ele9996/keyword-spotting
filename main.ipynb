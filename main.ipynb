{
  "nbformat": 4,
  "nbformat_minor": 0,
  "metadata": {
    "colab": {
      "name": "main.ipynb",
      "provenance": [],
      "authorship_tag": "ABX9TyNxtG0m4qk0/KgiA9b+Oggs",
      "include_colab_link": true
    },
    "kernelspec": {
      "name": "python3",
      "display_name": "Python 3"
    }
  },
  "cells": [
    {
      "cell_type": "markdown",
      "metadata": {
        "id": "view-in-github",
        "colab_type": "text"
      },
      "source": [
        "<a href=\"https://colab.research.google.com/github/ele9996/keyword-spotting/blob/main/main.ipynb\" target=\"_parent\"><img src=\"https://colab.research.google.com/assets/colab-badge.svg\" alt=\"Open In Colab\"/></a>"
      ]
    },
    {
      "cell_type": "code",
      "metadata": {
        "id": "Q6TDZsVFohfw"
      },
      "source": [
        "import tensorflow as tf\n",
        "import numpy as np\n",
        "from tensorflow import keras\n",
        "import pandas as pd\n",
        "import matplotlib.pyplot as plt\n",
        "import os\n",
        "from zipfile import ZipFile"
      ],
      "execution_count": 42,
      "outputs": []
    },
    {
      "cell_type": "code",
      "metadata": {
        "id": "0el4NzoV22tl"
      },
      "source": [
        ""
      ],
      "execution_count": 42,
      "outputs": []
    },
    {
      "cell_type": "code",
      "metadata": {
        "id": "ZYKtkvY1zLsD"
      },
      "source": [
        "#parser = argparse.ArgumentParser()\n",
        "#parser.add_argument('--model', type=str, required=True, help='model name')\n",
        "#parser.add_argument('--mfcc', action='store_true', help='use MFCCs')\n",
        "#parser.add_argument('--silence', action='store_true', help='add silence')\n",
        "#args = parser.parse_args()\n",
        "\n",
        "mfcc=True\n",
        "silence=True"
      ],
      "execution_count": 43,
      "outputs": []
    },
    {
      "cell_type": "code",
      "metadata": {
        "id": "bpBqRw_Qo5Nd"
      },
      "source": [
        "seed = 42\n",
        "tf.random.set_seed(seed)\n",
        "np.random.seed(seed)"
      ],
      "execution_count": 44,
      "outputs": []
    },
    {
      "cell_type": "markdown",
      "metadata": {
        "id": "qyjQ3lWJyKiX"
      },
      "source": [
        "#Data extraction from file"
      ]
    },
    {
      "cell_type": "code",
      "metadata": {
        "id": "SugHF8ulpa1_"
      },
      "source": [
        "zip_path = tf.keras.utils.get_file(\n",
        "        origin=\"http://storage.googleapis.com/download.tensorflow.org/data/mini_speech_commands.zip\",\n",
        "        fname='mini_speech_commands.zip',\n",
        "        extract=True,\n",
        "        cache_dir='.', cache_subdir='data')\n",
        "\n",
        "\n",
        "\n",
        "#if args.silence is True:\n",
        "if silence is True:\n",
        "  zip_path_silence = tf.keras.utils.get_file(\n",
        "        origin=\"https://github.com/ele9996/keyword-spotting/raw/main/silence.zip\",\n",
        "        fname='silence.zip',\n",
        "        extract=True,\n",
        "        cache_dir='./data', cache_subdir='mini_speech_commands')\n",
        "\n",
        "\n",
        "data_dir = os.path.join('.', 'data', 'mini_speech_commands')\n",
        "filenames = tf.io.gfile.glob(str(data_dir) + '/*/*')\n",
        "filenames = tf.random.shuffle(filenames)\n",
        "num_samples = len(filenames)\n",
        "\n",
        "#if args.silence is True:\n",
        "if silence is True:\n",
        "    total = 9000\n",
        "else:\n",
        "    total = 8000"
      ],
      "execution_count": 45,
      "outputs": []
    },
    {
      "cell_type": "markdown",
      "metadata": {
        "id": "hXHzqQ_7yXjG"
      },
      "source": [
        "#Training, Validation and Test dataset definition"
      ]
    },
    {
      "cell_type": "code",
      "metadata": {
        "id": "TMgg6XmzyjC3"
      },
      "source": [
        "train_files = filenames[:int(total*0.8)]\n",
        "val_files = filenames[int(total*0.8): int(total*0.9)]\n",
        "test_files = filenames[int(total*0.9):]"
      ],
      "execution_count": 46,
      "outputs": []
    },
    {
      "cell_type": "code",
      "metadata": {
        "id": "_k9_btuKynGg"
      },
      "source": [
        "LABELS = np.array(tf.io.gfile.listdir(str(data_dir)))\n",
        "LABELS = LABELS[LABELS != 'README.md']"
      ],
      "execution_count": 47,
      "outputs": []
    },
    {
      "cell_type": "markdown",
      "metadata": {
        "id": "rg_iP45xs-bi"
      },
      "source": [
        "#Data preparation and preprocessing steps"
      ]
    },
    {
      "cell_type": "code",
      "metadata": {
        "id": "W57hi_WDtHaK"
      },
      "source": [
        "class SignalGenerator:\n",
        "    def __init__(self, labels, sampling_rate, frame_length, frame_step,\n",
        "            num_mel_bins=None, lower_frequency=None, upper_frequency=None,\n",
        "            num_coefficients=None, mfcc=False):\n",
        "        self.labels = labels\n",
        "        self.sampling_rate = sampling_rate\n",
        "        self.frame_length = frame_length\n",
        "        self.frame_step = frame_step\n",
        "        self.num_mel_bins = num_mel_bins\n",
        "        self.lower_frequency = lower_frequency\n",
        "        self.upper_frequency = upper_frequency\n",
        "        self.num_coefficients = num_coefficients\n",
        "        num_spectrogram_bins = (frame_length) // 2 + 1\n",
        "\n",
        "        if mfcc is True:\n",
        "            self.linear_to_mel_weight_matrix = tf.signal.linear_to_mel_weight_matrix(\n",
        "                    self.num_mel_bins, num_spectrogram_bins, self.sampling_rate,\n",
        "                    self.lower_frequency, self.upper_frequency)\n",
        "            self.preprocess = self.preprocess_with_mfcc\n",
        "        else:\n",
        "            self.preprocess = self.preprocess_with_stft\n",
        "\n",
        "    def read(self, file_path):\n",
        "        parts = tf.strings.split(file_path, os.path.sep)\n",
        "        label = parts[-2]\n",
        "        label_id = tf.argmax(label == self.labels)\n",
        "        audio_binary = tf.io.read_file(file_path)\n",
        "        audio, _ = tf.audio.decode_wav(audio_binary)\n",
        "        audio = tf.squeeze(audio, axis=1)\n",
        "\n",
        "        return audio, label_id\n",
        "\n",
        "    def pad(self, audio):\n",
        "        zero_padding = tf.zeros([self.sampling_rate] - tf.shape(audio), dtype=tf.float32)\n",
        "        audio = tf.concat([audio, zero_padding], 0)\n",
        "        audio.set_shape([self.sampling_rate])\n",
        "\n",
        "        return audio\n",
        "\n",
        "    def get_spectrogram(self, audio):\n",
        "        stft = tf.signal.stft(audio, frame_length=self.frame_length,\n",
        "                frame_step=self.frame_step, fft_length=self.frame_length)\n",
        "        spectrogram = tf.abs(stft)\n",
        "\n",
        "        return spectrogram\n",
        "\n",
        "    def get_mfccs(self, spectrogram):\n",
        "        mel_spectrogram = tf.tensordot(spectrogram,\n",
        "                self.linear_to_mel_weight_matrix, 1)\n",
        "        log_mel_spectrogram = tf.math.log(mel_spectrogram + 1.e-6)\n",
        "        mfccs = tf.signal.mfccs_from_log_mel_spectrograms(log_mel_spectrogram)\n",
        "        mfccs = mfccs[..., :self.num_coefficients]\n",
        "\n",
        "        return mfccs\n",
        "\n",
        "    def preprocess_with_stft(self, file_path):\n",
        "        audio, label = self.read(file_path)\n",
        "        audio = self.pad(audio)\n",
        "        spectrogram = self.get_spectrogram(audio)\n",
        "        spectrogram = tf.expand_dims(spectrogram, -1)\n",
        "        spectrogram = tf.image.resize(spectrogram, [32, 32])\n",
        "\n",
        "        return spectrogram, label\n",
        "\n",
        "    def preprocess_with_mfcc(self, file_path):\n",
        "        audio, label = self.read(file_path)\n",
        "        audio = self.pad(audio)\n",
        "        spectrogram = self.get_spectrogram(audio)\n",
        "        mfccs = self.get_mfccs(spectrogram)\n",
        "        mfccs = tf.expand_dims(mfccs, -1)\n",
        "\n",
        "        return mfccs, label\n",
        "\n",
        "    def make_dataset(self, files, train):\n",
        "        ds = tf.data.Dataset.from_tensor_slices(files)\n",
        "        ds = ds.map(self.preprocess, num_parallel_calls=4)\n",
        "        ds = ds.batch(32)\n",
        "        ds = ds.cache()\n",
        "        if train is True:\n",
        "            ds = ds.shuffle(100, reshuffle_each_iteration=True)\n",
        "\n",
        "        return ds"
      ],
      "execution_count": 48,
      "outputs": []
    },
    {
      "cell_type": "code",
      "metadata": {
        "id": "AsVi-mJtytv8"
      },
      "source": [
        "STFT_OPTIONS = {'frame_length': 256, 'frame_step': 128, 'mfcc': False}\n",
        "MFCC_OPTIONS = {'frame_length': 640, 'frame_step': 320, 'mfcc': True,\n",
        "        'lower_frequency': 20, 'upper_frequency': 4000, 'num_mel_bins': 40,\n",
        "        'num_coefficients': 10}"
      ],
      "execution_count": 49,
      "outputs": []
    },
    {
      "cell_type": "code",
      "metadata": {
        "id": "j4NFUEWjy3-L"
      },
      "source": [
        "#if args.mfcc is True:\n",
        "if mfcc is True:\n",
        "    options = MFCC_OPTIONS\n",
        "    strides = [2, 1]\n",
        "else:\n",
        "    options = STFT_OPTIONS\n",
        "    strides = [2, 2]\n"
      ],
      "execution_count": 50,
      "outputs": []
    },
    {
      "cell_type": "code",
      "metadata": {
        "id": "SxA94-IXy48F"
      },
      "source": [
        "generator = SignalGenerator(LABELS, 16000, **options)\n",
        "train_ds = generator.make_dataset(train_files, True)\n",
        "val_ds = generator.make_dataset(val_files, False)\n",
        "test_ds = generator.make_dataset(test_files, False)\n",
        "\n",
        "#if args.silence is True:\n",
        "if silence is True:\n",
        "    units = 9\n",
        "else:\n",
        "    units = 8"
      ],
      "execution_count": 51,
      "outputs": []
    },
    {
      "cell_type": "markdown",
      "metadata": {
        "id": "18WKTI390-nk"
      },
      "source": [
        "#Model application"
      ]
    },
    {
      "cell_type": "markdown",
      "metadata": {
        "id": "HfcFBc8d1WpS"
      },
      "source": [
        "###MPL"
      ]
    },
    {
      "cell_type": "code",
      "metadata": {
        "id": "bfFtfBqBZ2lS"
      },
      "source": [
        "if (mfcc==True):\n",
        "  path= './callback_val_chkp/mfcc_mpl'\n",
        "else:\n",
        "  path= './callback_val_chkp/stft_mpl'\n",
        "  \n",
        "cp_callback = keras.callbacks.ModelCheckpoint(\n",
        "    filepath=path,\n",
        "    # './callback_test_chkp/chkp_best',\n",
        "    monitor='val_loss',\n",
        "    verbose=0, \n",
        "    save_best_only=True,\n",
        "    # save_best_only=True,\n",
        "    save_weights_only=False,\n",
        "    mode='auto',\n",
        "    save_freq='epoch'\n",
        ")\n",
        "\n"
      ],
      "execution_count": 52,
      "outputs": []
    },
    {
      "cell_type": "code",
      "metadata": {
        "id": "qCFKcDWf0-T3"
      },
      "source": [
        "#MLP Model definition\n",
        "mlp_model = keras.Sequential([\n",
        "    keras.layers.Flatten(),\n",
        "    keras.layers.Dense(units=256, activation='relu'),\n",
        "    keras.layers.Dense(units=256, activation='relu'),\n",
        "    keras.layers.Dense(units=256, activation='relu'),\n",
        "    keras.layers.Dense(units=10) #if silence 10\n",
        "])"
      ],
      "execution_count": 53,
      "outputs": []
    },
    {
      "cell_type": "code",
      "metadata": {
        "id": "3MYuCQH2seee",
        "colab": {
          "base_uri": "https://localhost:8080/"
        },
        "outputId": "fe898e28-fc0d-41ee-a6f2-075e0c9b8bfa"
      },
      "source": [
        "#Training, evaluation and testing with mlp model\n",
        "\n",
        "\n",
        "mlp_model.compile(loss=tf.keras.losses.SparseCategoricalCrossentropy(from_logits=True) ,optimizer='adam', metrics=['accuracy'])\n",
        "mlp_model.fit(train_ds, epochs=20, validation_data=val_ds,callbacks=[cp_callback])\n",
        "\n"
      ],
      "execution_count": 54,
      "outputs": [
        {
          "output_type": "stream",
          "text": [
            "Epoch 1/20\n",
            "214/225 [===========================>..] - ETA: 4s - loss: 1.5894 - accuracy: 0.4917 INFO:tensorflow:Assets written to: ./callback_val_chkp/mfcc_mpl/assets\n",
            "225/225 [==============================] - 116s 515ms/step - loss: 1.5658 - accuracy: 0.4961 - val_loss: 1.0272 - val_accuracy: 0.6567\n",
            "Epoch 2/20\n",
            "224/225 [============================>.] - ETA: 0s - loss: 0.8460 - accuracy: 0.7010INFO:tensorflow:Assets written to: ./callback_val_chkp/mfcc_mpl/assets\n",
            "225/225 [==============================] - 1s 7ms/step - loss: 0.8455 - accuracy: 0.7013 - val_loss: 0.7838 - val_accuracy: 0.7222\n",
            "Epoch 3/20\n",
            "225/225 [==============================] - 1s 4ms/step - loss: 0.6284 - accuracy: 0.7799 - val_loss: 0.7847 - val_accuracy: 0.7256\n",
            "Epoch 4/20\n",
            "218/225 [============================>.] - ETA: 0s - loss: 0.5294 - accuracy: 0.8135INFO:tensorflow:Assets written to: ./callback_val_chkp/mfcc_mpl/assets\n",
            "225/225 [==============================] - 1s 7ms/step - loss: 0.5289 - accuracy: 0.8136 - val_loss: 0.7719 - val_accuracy: 0.7433\n",
            "Epoch 5/20\n",
            "217/225 [===========================>..] - ETA: 0s - loss: 0.4217 - accuracy: 0.8486INFO:tensorflow:Assets written to: ./callback_val_chkp/mfcc_mpl/assets\n",
            "225/225 [==============================] - 2s 8ms/step - loss: 0.4239 - accuracy: 0.8486 - val_loss: 0.7100 - val_accuracy: 0.7600\n",
            "Epoch 6/20\n",
            "225/225 [==============================] - 1s 4ms/step - loss: 0.3534 - accuracy: 0.8769 - val_loss: 0.7503 - val_accuracy: 0.7678\n",
            "Epoch 7/20\n",
            "215/225 [===========================>..] - ETA: 0s - loss: 0.3320 - accuracy: 0.8842INFO:tensorflow:Assets written to: ./callback_val_chkp/mfcc_mpl/assets\n",
            "225/225 [==============================] - 1s 6ms/step - loss: 0.3346 - accuracy: 0.8835 - val_loss: 0.7055 - val_accuracy: 0.7622\n",
            "Epoch 8/20\n",
            "225/225 [==============================] - 1s 4ms/step - loss: 0.2680 - accuracy: 0.9035 - val_loss: 0.7596 - val_accuracy: 0.7822\n",
            "Epoch 9/20\n",
            "225/225 [==============================] - 1s 4ms/step - loss: 0.2586 - accuracy: 0.9133 - val_loss: 0.7171 - val_accuracy: 0.7822\n",
            "Epoch 10/20\n",
            "225/225 [==============================] - 1s 4ms/step - loss: 0.2463 - accuracy: 0.9147 - val_loss: 0.7897 - val_accuracy: 0.7844\n",
            "Epoch 11/20\n",
            "225/225 [==============================] - 1s 4ms/step - loss: 0.2349 - accuracy: 0.9224 - val_loss: 0.9121 - val_accuracy: 0.7567\n",
            "Epoch 12/20\n",
            "225/225 [==============================] - 1s 4ms/step - loss: 0.1977 - accuracy: 0.9357 - val_loss: 0.9042 - val_accuracy: 0.7711\n",
            "Epoch 13/20\n",
            "225/225 [==============================] - 1s 4ms/step - loss: 0.1985 - accuracy: 0.9332 - val_loss: 0.8812 - val_accuracy: 0.7767\n",
            "Epoch 14/20\n",
            "225/225 [==============================] - 1s 4ms/step - loss: 0.1746 - accuracy: 0.9397 - val_loss: 0.8222 - val_accuracy: 0.7856\n",
            "Epoch 15/20\n",
            "225/225 [==============================] - 1s 4ms/step - loss: 0.1355 - accuracy: 0.9546 - val_loss: 0.9171 - val_accuracy: 0.7700\n",
            "Epoch 16/20\n",
            "225/225 [==============================] - 1s 4ms/step - loss: 0.1567 - accuracy: 0.9442 - val_loss: 1.0116 - val_accuracy: 0.7656\n",
            "Epoch 17/20\n",
            "225/225 [==============================] - 1s 4ms/step - loss: 0.1379 - accuracy: 0.9556 - val_loss: 0.9033 - val_accuracy: 0.7978\n",
            "Epoch 18/20\n",
            "225/225 [==============================] - 1s 4ms/step - loss: 0.1425 - accuracy: 0.9533 - val_loss: 0.9240 - val_accuracy: 0.7967\n",
            "Epoch 19/20\n",
            "225/225 [==============================] - 1s 4ms/step - loss: 0.1357 - accuracy: 0.9553 - val_loss: 1.0225 - val_accuracy: 0.7944\n",
            "Epoch 20/20\n",
            "225/225 [==============================] - 1s 4ms/step - loss: 0.1080 - accuracy: 0.9656 - val_loss: 0.8475 - val_accuracy: 0.8089\n"
          ],
          "name": "stdout"
        },
        {
          "output_type": "execute_result",
          "data": {
            "text/plain": [
              "<tensorflow.python.keras.callbacks.History at 0x7fb21b132208>"
            ]
          },
          "metadata": {
            "tags": []
          },
          "execution_count": 54
        }
      ]
    },
    {
      "cell_type": "code",
      "metadata": {
        "id": "plSqfUSDxKJc",
        "colab": {
          "base_uri": "https://localhost:8080/"
        },
        "outputId": "fcc32e53-7092-415f-e94f-acca23eb9b29"
      },
      "source": [
        "#model evaluation on validation set\n",
        "mlp_model.compile(loss=tf.keras.losses.SparseCategoricalCrossentropy(), optimizer='adam')\n",
        "val_loss= mlp_model.evaluate(val_ds)"
      ],
      "execution_count": 55,
      "outputs": [
        {
          "output_type": "stream",
          "text": [
            "29/29 [==============================] - 0s 1ms/step - loss: 1.5380\n"
          ],
          "name": "stdout"
        }
      ]
    },
    {
      "cell_type": "code",
      "metadata": {
        "id": "u75Wnow5xeHP",
        "colab": {
          "base_uri": "https://localhost:8080/"
        },
        "outputId": "687a553d-bec8-41c4-8280-9d4eac9b0948"
      },
      "source": [
        "test_loss= mlp_model.evaluate(test_ds)"
      ],
      "execution_count": 56,
      "outputs": [
        {
          "output_type": "stream",
          "text": [
            "29/29 [==============================] - 20s 695ms/step - loss: 1.6096\n"
          ],
          "name": "stdout"
        }
      ]
    },
    {
      "cell_type": "markdown",
      "metadata": {
        "id": "jkHNcNcx1aDB"
      },
      "source": [
        "###CNN"
      ]
    },
    {
      "cell_type": "code",
      "metadata": {
        "id": "x4wHWMWNLK3t"
      },
      "source": [
        "if (mfcc==True):\n",
        "  path= './callback_val_chkp/mfcc_cnn'\n",
        "else:\n",
        "  path= './callback_val_chkp/stft_cnn'\n",
        "\n",
        "cp_callback = keras.callbacks.ModelCheckpoint(\n",
        "    filepath=path,\n",
        "    # './callback_test_chkp/chkp_best',\n",
        "    monitor='val_loss',\n",
        "    verbose=0, \n",
        "    save_best_only=True,\n",
        "    # save_best_only=True,\n",
        "    save_weights_only=False,\n",
        "    mode='auto',\n",
        "    save_freq='epoch'\n",
        ")\n"
      ],
      "execution_count": 57,
      "outputs": []
    },
    {
      "cell_type": "code",
      "metadata": {
        "id": "suQKxBuD1j0v"
      },
      "source": [
        "#CNN_2D Model definition\n",
        "\n",
        "cnn_model = keras.Sequential([\n",
        "    keras.layers.Conv2D(filters=128,kernel_size=[3,3],strides=strides, use_bias=False),\n",
        "    keras.layers.BatchNormalization(momentum=0.1),\n",
        "    keras.layers.ReLU(),\n",
        "    keras.layers.Conv2D(filters=128,kernel_size=[3,3],strides=[1, 1], use_bias=False),\n",
        "    keras.layers.BatchNormalization(momentum=0.1),\n",
        "    keras.layers.ReLU(),\n",
        "    keras.layers.Conv2D(filters=128,kernel_size=[3,3],strides=[1,1], use_bias=False),\n",
        "    keras.layers.BatchNormalization(momentum=0.1),\n",
        "    keras.layers.ReLU(),\n",
        "    keras.layers.GlobalAveragePooling2D(),\n",
        "    keras.layers.Dense(units=10) #10 if silence\n",
        "])"
      ],
      "execution_count": 58,
      "outputs": []
    },
    {
      "cell_type": "code",
      "metadata": {
        "id": "ufA9mxR7yJKs",
        "colab": {
          "base_uri": "https://localhost:8080/"
        },
        "outputId": "00ff5193-fa32-4592-b08d-252e966872c2"
      },
      "source": [
        "#Training, evaluation and testing with mlp model\n",
        "cnn_model.compile(loss=tf.keras.losses.SparseCategoricalCrossentropy(from_logits=True) ,optimizer='adam', metrics=['accuracy'])\n",
        "cnn_model.fit(train_ds, epochs=20, validation_data=val_ds,callbacks=[cp_callback])"
      ],
      "execution_count": 59,
      "outputs": [
        {
          "output_type": "stream",
          "text": [
            "Epoch 1/20\n",
            "225/225 [==============================] - ETA: 0s - loss: 1.1533 - accuracy: 0.6503INFO:tensorflow:Assets written to: ./callback_val_chkp/mfcc_cnn/assets\n",
            "225/225 [==============================] - 34s 153ms/step - loss: 1.1533 - accuracy: 0.6503 - val_loss: 0.7114 - val_accuracy: 0.7967\n",
            "Epoch 2/20\n",
            "225/225 [==============================] - ETA: 0s - loss: 0.5800 - accuracy: 0.8517INFO:tensorflow:Assets written to: ./callback_val_chkp/mfcc_cnn/assets\n",
            "225/225 [==============================] - 35s 154ms/step - loss: 0.5800 - accuracy: 0.8517 - val_loss: 0.4783 - val_accuracy: 0.8644\n",
            "Epoch 3/20\n",
            "225/225 [==============================] - ETA: 0s - loss: 0.4034 - accuracy: 0.8994INFO:tensorflow:Assets written to: ./callback_val_chkp/mfcc_cnn/assets\n",
            "225/225 [==============================] - 35s 154ms/step - loss: 0.4034 - accuracy: 0.8994 - val_loss: 0.3715 - val_accuracy: 0.8978\n",
            "Epoch 4/20\n",
            "225/225 [==============================] - ETA: 0s - loss: 0.3161 - accuracy: 0.9175INFO:tensorflow:Assets written to: ./callback_val_chkp/mfcc_cnn/assets\n",
            "225/225 [==============================] - 34s 153ms/step - loss: 0.3161 - accuracy: 0.9175 - val_loss: 0.2821 - val_accuracy: 0.9167\n",
            "Epoch 5/20\n",
            "225/225 [==============================] - 33s 147ms/step - loss: 0.2717 - accuracy: 0.9265 - val_loss: 0.2992 - val_accuracy: 0.9089\n",
            "Epoch 6/20\n",
            "225/225 [==============================] - ETA: 0s - loss: 0.2252 - accuracy: 0.9394INFO:tensorflow:Assets written to: ./callback_val_chkp/mfcc_cnn/assets\n",
            "225/225 [==============================] - 34s 153ms/step - loss: 0.2252 - accuracy: 0.9394 - val_loss: 0.2449 - val_accuracy: 0.9244\n",
            "Epoch 7/20\n",
            "225/225 [==============================] - 33s 145ms/step - loss: 0.1957 - accuracy: 0.9447 - val_loss: 0.2610 - val_accuracy: 0.9233\n",
            "Epoch 8/20\n",
            "225/225 [==============================] - ETA: 0s - loss: 0.1647 - accuracy: 0.9563INFO:tensorflow:Assets written to: ./callback_val_chkp/mfcc_cnn/assets\n",
            "225/225 [==============================] - 35s 154ms/step - loss: 0.1647 - accuracy: 0.9563 - val_loss: 0.2328 - val_accuracy: 0.9244\n",
            "Epoch 9/20\n",
            "225/225 [==============================] - ETA: 0s - loss: 0.1471 - accuracy: 0.9607INFO:tensorflow:Assets written to: ./callback_val_chkp/mfcc_cnn/assets\n",
            "225/225 [==============================] - 34s 152ms/step - loss: 0.1471 - accuracy: 0.9607 - val_loss: 0.2108 - val_accuracy: 0.9411\n",
            "Epoch 10/20\n",
            "225/225 [==============================] - 33s 146ms/step - loss: 0.1220 - accuracy: 0.9706 - val_loss: 0.2494 - val_accuracy: 0.9244\n",
            "Epoch 11/20\n",
            "225/225 [==============================] - 33s 145ms/step - loss: 0.1085 - accuracy: 0.9708 - val_loss: 0.2233 - val_accuracy: 0.9300\n",
            "Epoch 12/20\n",
            "225/225 [==============================] - 33s 145ms/step - loss: 0.0937 - accuracy: 0.9772 - val_loss: 0.2282 - val_accuracy: 0.9222\n",
            "Epoch 13/20\n",
            "225/225 [==============================] - 33s 146ms/step - loss: 0.0748 - accuracy: 0.9840 - val_loss: 0.2445 - val_accuracy: 0.9167\n",
            "Epoch 14/20\n",
            "225/225 [==============================] - 33s 146ms/step - loss: 0.0883 - accuracy: 0.9771 - val_loss: 0.2289 - val_accuracy: 0.9278\n",
            "Epoch 15/20\n",
            "225/225 [==============================] - 33s 146ms/step - loss: 0.0671 - accuracy: 0.9843 - val_loss: 0.2792 - val_accuracy: 0.9122\n",
            "Epoch 16/20\n",
            "225/225 [==============================] - ETA: 0s - loss: 0.0519 - accuracy: 0.9899INFO:tensorflow:Assets written to: ./callback_val_chkp/mfcc_cnn/assets\n",
            "225/225 [==============================] - 34s 153ms/step - loss: 0.0519 - accuracy: 0.9899 - val_loss: 0.2108 - val_accuracy: 0.9344\n",
            "Epoch 17/20\n",
            "225/225 [==============================] - 33s 148ms/step - loss: 0.0373 - accuracy: 0.9939 - val_loss: 0.2130 - val_accuracy: 0.9344\n",
            "Epoch 18/20\n",
            "225/225 [==============================] - 33s 146ms/step - loss: 0.0355 - accuracy: 0.9940 - val_loss: 0.2139 - val_accuracy: 0.9389\n",
            "Epoch 19/20\n",
            "225/225 [==============================] - 33s 146ms/step - loss: 0.0314 - accuracy: 0.9950 - val_loss: 0.2426 - val_accuracy: 0.9300\n",
            "Epoch 20/20\n",
            "225/225 [==============================] - 33s 146ms/step - loss: 0.0438 - accuracy: 0.9901 - val_loss: 0.2434 - val_accuracy: 0.9267\n"
          ],
          "name": "stdout"
        },
        {
          "output_type": "execute_result",
          "data": {
            "text/plain": [
              "<tensorflow.python.keras.callbacks.History at 0x7fb22255b3c8>"
            ]
          },
          "metadata": {
            "tags": []
          },
          "execution_count": 59
        }
      ]
    },
    {
      "cell_type": "code",
      "metadata": {
        "id": "Vm5lUb1wyV0V",
        "colab": {
          "base_uri": "https://localhost:8080/"
        },
        "outputId": "dfb80dc3-e044-4886-9ca2-6a333b2dd2ba"
      },
      "source": [
        "#model evaluation on validation set\n",
        "cnn_model.compile(loss=tf.keras.losses.SparseCategoricalCrossentropy(), optimizer='adam')\n",
        "val_loss= cnn_model.evaluate(val_ds)"
      ],
      "execution_count": 60,
      "outputs": [
        {
          "output_type": "stream",
          "text": [
            "29/29 [==============================] - 1s 27ms/step - loss: 0.9264\n"
          ],
          "name": "stdout"
        }
      ]
    },
    {
      "cell_type": "code",
      "metadata": {
        "id": "Hc7ebmYryZiA",
        "colab": {
          "base_uri": "https://localhost:8080/"
        },
        "outputId": "307ab071-6d54-4ed0-acb2-45698b78738e"
      },
      "source": [
        "#model test on the test set\n",
        "test_loss= cnn_model.evaluate(test_ds)"
      ],
      "execution_count": 61,
      "outputs": [
        {
          "output_type": "stream",
          "text": [
            "29/29 [==============================] - 1s 26ms/step - loss: 0.8861\n"
          ],
          "name": "stdout"
        }
      ]
    },
    {
      "cell_type": "markdown",
      "metadata": {
        "id": "W0cBDG_W1gCZ"
      },
      "source": [
        "###DS-CNN"
      ]
    },
    {
      "cell_type": "code",
      "metadata": {
        "id": "63Ap06s0LNsi"
      },
      "source": [
        "if (mfcc==True):\n",
        "  path= './callback_val_chkp/mfcc_DS-CNN'\n",
        "else:\n",
        "  path= './callback_val_chkp/stft_DS-CNN'\n",
        "\n",
        "cp_callback = keras.callbacks.ModelCheckpoint(\n",
        "    filepath=path,\n",
        "    # './callback_test_chkp/chkp_best',\n",
        "    monitor='val_loss',\n",
        "    verbose=0, \n",
        "    save_best_only=True,\n",
        "    # save_best_only=True,\n",
        "    save_weights_only=False,\n",
        "    mode='auto',\n",
        "    save_freq='epoch'\n",
        ")\n"
      ],
      "execution_count": 62,
      "outputs": []
    },
    {
      "cell_type": "code",
      "metadata": {
        "id": "7ZS5R5pk1kb0"
      },
      "source": [
        "ds_cnn_model = keras.Sequential([\n",
        "    keras.layers.Conv2D(filters=256,kernel_size=[3,3],strides=strides, use_bias=False),\n",
        "    keras.layers.BatchNormalization(momentum=0.1),\n",
        "    keras.layers.ReLU(),\n",
        "    keras.layers.DepthwiseConv2D(kernel_size=[3,3],strides=[1, 1], use_bias=False),\n",
        "    keras.layers.Conv2D(filters=256,kernel_size=[1,1],strides=[1,1], use_bias=False),\n",
        "    keras.layers.BatchNormalization(momentum=0.1),\n",
        "    keras.layers.ReLU(),\n",
        "    keras.layers.DepthwiseConv2D(kernel_size=[3,3],strides=[1, 1], use_bias=False),\n",
        "    keras.layers.Conv2D(filters=256,kernel_size=[1,1],strides=[1,1], use_bias=False),\n",
        "    keras.layers.BatchNormalization(momentum=0.1),\n",
        "    keras.layers.ReLU(),\n",
        "    keras.layers.GlobalAveragePooling2D(),\n",
        "    keras.layers.Dense(units=10) #10 if silence\n",
        "])"
      ],
      "execution_count": 63,
      "outputs": []
    },
    {
      "cell_type": "code",
      "metadata": {
        "id": "Jrk7FmQQ0UtN",
        "colab": {
          "base_uri": "https://localhost:8080/"
        },
        "outputId": "91a2f51a-73bb-4918-d3f9-49864ff4927e"
      },
      "source": [
        "#Training, evaluation and testing with mlp model\n",
        "ds_cnn_model.compile(loss=tf.keras.losses.SparseCategoricalCrossentropy(from_logits=True) ,optimizer='adam', metrics=['accuracy'])\n",
        "ds_cnn_model.fit(train_ds, epochs=20, validation_data=val_ds,callbacks=[cp_callback])"
      ],
      "execution_count": 64,
      "outputs": [
        {
          "output_type": "stream",
          "text": [
            "Epoch 1/20\n",
            "225/225 [==============================] - ETA: 0s - loss: 1.1212 - accuracy: 0.6535INFO:tensorflow:Assets written to: ./callback_val_chkp/mfcc_DS-CNN/assets\n",
            "225/225 [==============================] - 29s 130ms/step - loss: 1.1212 - accuracy: 0.6535 - val_loss: 0.6597 - val_accuracy: 0.8189\n",
            "Epoch 2/20\n",
            "225/225 [==============================] - ETA: 0s - loss: 0.5511 - accuracy: 0.8464INFO:tensorflow:Assets written to: ./callback_val_chkp/mfcc_DS-CNN/assets\n",
            "225/225 [==============================] - 29s 131ms/step - loss: 0.5511 - accuracy: 0.8464 - val_loss: 0.4320 - val_accuracy: 0.8856\n",
            "Epoch 3/20\n",
            "225/225 [==============================] - ETA: 0s - loss: 0.3874 - accuracy: 0.8938INFO:tensorflow:Assets written to: ./callback_val_chkp/mfcc_DS-CNN/assets\n",
            "225/225 [==============================] - 29s 130ms/step - loss: 0.3874 - accuracy: 0.8938 - val_loss: 0.3091 - val_accuracy: 0.9233\n",
            "Epoch 4/20\n",
            "225/225 [==============================] - ETA: 0s - loss: 0.3099 - accuracy: 0.9131INFO:tensorflow:Assets written to: ./callback_val_chkp/mfcc_DS-CNN/assets\n",
            "225/225 [==============================] - 29s 129ms/step - loss: 0.3099 - accuracy: 0.9131 - val_loss: 0.2610 - val_accuracy: 0.9289\n",
            "Epoch 5/20\n",
            "225/225 [==============================] - ETA: 0s - loss: 0.2519 - accuracy: 0.9285INFO:tensorflow:Assets written to: ./callback_val_chkp/mfcc_DS-CNN/assets\n",
            "225/225 [==============================] - 29s 131ms/step - loss: 0.2519 - accuracy: 0.9285 - val_loss: 0.2592 - val_accuracy: 0.9278\n",
            "Epoch 6/20\n",
            "225/225 [==============================] - 28s 122ms/step - loss: 0.2226 - accuracy: 0.9336 - val_loss: 0.2602 - val_accuracy: 0.9178\n",
            "Epoch 7/20\n",
            "225/225 [==============================] - ETA: 0s - loss: 0.1933 - accuracy: 0.9439INFO:tensorflow:Assets written to: ./callback_val_chkp/mfcc_DS-CNN/assets\n",
            "225/225 [==============================] - 29s 131ms/step - loss: 0.1933 - accuracy: 0.9439 - val_loss: 0.2306 - val_accuracy: 0.9400\n",
            "Epoch 8/20\n",
            "225/225 [==============================] - ETA: 0s - loss: 0.1670 - accuracy: 0.9510INFO:tensorflow:Assets written to: ./callback_val_chkp/mfcc_DS-CNN/assets\n",
            "225/225 [==============================] - 29s 131ms/step - loss: 0.1670 - accuracy: 0.9510 - val_loss: 0.2196 - val_accuracy: 0.9322\n",
            "Epoch 9/20\n",
            "225/225 [==============================] - 28s 122ms/step - loss: 0.1481 - accuracy: 0.9576 - val_loss: 0.2333 - val_accuracy: 0.9211\n",
            "Epoch 10/20\n",
            "225/225 [==============================] - 28s 123ms/step - loss: 0.1372 - accuracy: 0.9603 - val_loss: 0.2370 - val_accuracy: 0.9278\n",
            "Epoch 11/20\n",
            "225/225 [==============================] - ETA: 0s - loss: 0.1116 - accuracy: 0.9704INFO:tensorflow:Assets written to: ./callback_val_chkp/mfcc_DS-CNN/assets\n",
            "225/225 [==============================] - 29s 129ms/step - loss: 0.1116 - accuracy: 0.9704 - val_loss: 0.2194 - val_accuracy: 0.9400\n",
            "Epoch 12/20\n",
            "225/225 [==============================] - 28s 124ms/step - loss: 0.1029 - accuracy: 0.9731 - val_loss: 0.2554 - val_accuracy: 0.9178\n",
            "Epoch 13/20\n",
            "225/225 [==============================] - 28s 122ms/step - loss: 0.0929 - accuracy: 0.9725 - val_loss: 0.2497 - val_accuracy: 0.9167\n",
            "Epoch 14/20\n",
            "225/225 [==============================] - ETA: 0s - loss: 0.0803 - accuracy: 0.9775INFO:tensorflow:Assets written to: ./callback_val_chkp/mfcc_DS-CNN/assets\n",
            "225/225 [==============================] - 29s 130ms/step - loss: 0.0803 - accuracy: 0.9775 - val_loss: 0.1982 - val_accuracy: 0.9344\n",
            "Epoch 15/20\n",
            "225/225 [==============================] - 28s 123ms/step - loss: 0.0679 - accuracy: 0.9812 - val_loss: 0.2662 - val_accuracy: 0.9122\n",
            "Epoch 16/20\n",
            "225/225 [==============================] - 28s 122ms/step - loss: 0.0532 - accuracy: 0.9899 - val_loss: 0.2260 - val_accuracy: 0.9211\n",
            "Epoch 17/20\n",
            "225/225 [==============================] - 28s 123ms/step - loss: 0.0429 - accuracy: 0.9911 - val_loss: 0.2209 - val_accuracy: 0.9278\n",
            "Epoch 18/20\n",
            "225/225 [==============================] - 28s 123ms/step - loss: 0.0491 - accuracy: 0.9872 - val_loss: 0.3213 - val_accuracy: 0.9133\n",
            "Epoch 19/20\n",
            "225/225 [==============================] - 28s 123ms/step - loss: 0.0834 - accuracy: 0.9740 - val_loss: 0.2029 - val_accuracy: 0.9367\n",
            "Epoch 20/20\n",
            "225/225 [==============================] - 28s 123ms/step - loss: 0.0478 - accuracy: 0.9881 - val_loss: 0.2462 - val_accuracy: 0.9156\n"
          ],
          "name": "stdout"
        },
        {
          "output_type": "execute_result",
          "data": {
            "text/plain": [
              "<tensorflow.python.keras.callbacks.History at 0x7fb221922f28>"
            ]
          },
          "metadata": {
            "tags": []
          },
          "execution_count": 64
        }
      ]
    },
    {
      "cell_type": "code",
      "metadata": {
        "id": "awDK6mWX0bM_",
        "colab": {
          "base_uri": "https://localhost:8080/"
        },
        "outputId": "72c767be-1b53-4092-a0e3-28a5fc1efe5b"
      },
      "source": [
        "#model evaluation on validation set\n",
        "ds_cnn_model.compile(loss=tf.keras.losses.SparseCategoricalCrossentropy(), optimizer='adam')\n",
        "val_loss= ds_cnn_model.evaluate(val_ds)"
      ],
      "execution_count": 65,
      "outputs": [
        {
          "output_type": "stream",
          "text": [
            "29/29 [==============================] - 1s 26ms/step - loss: 0.8695\n"
          ],
          "name": "stdout"
        }
      ]
    },
    {
      "cell_type": "code",
      "metadata": {
        "id": "oix_VKz70ynC",
        "colab": {
          "base_uri": "https://localhost:8080/"
        },
        "outputId": "0f1f3697-7e92-4563-c15d-ca028a506c97"
      },
      "source": [
        "#model test on the test set\n",
        "test_loss= ds_cnn_model.evaluate(test_ds)"
      ],
      "execution_count": 66,
      "outputs": [
        {
          "output_type": "stream",
          "text": [
            "29/29 [==============================] - 1s 26ms/step - loss: 0.8204\n"
          ],
          "name": "stdout"
        }
      ]
    },
    {
      "cell_type": "code",
      "metadata": {
        "colab": {
          "base_uri": "https://localhost:8080/"
        },
        "id": "feoE5F8DEJ3X",
        "outputId": "96dbd03d-9746-4d0c-f6d0-9879470a780a"
      },
      "source": [
        "!zip -r silence_model.zip {\"./callback_val_chkp\"}"
      ],
      "execution_count": 67,
      "outputs": [
        {
          "output_type": "stream",
          "text": [
            "  adding: callback_val_chkp/ (stored 0%)\n",
            "  adding: callback_val_chkp/stft_mpl/ (stored 0%)\n",
            "  adding: callback_val_chkp/stft_mpl/assets/ (stored 0%)\n",
            "  adding: callback_val_chkp/stft_mpl/saved_model.pb (deflated 89%)\n",
            "  adding: callback_val_chkp/stft_mpl/variables/ (stored 0%)\n",
            "  adding: callback_val_chkp/stft_mpl/variables/variables.index (deflated 66%)\n",
            "  adding: callback_val_chkp/stft_mpl/variables/variables.data-00000-of-00001 (deflated 7%)\n",
            "  adding: callback_val_chkp/stft_cnn/ (stored 0%)\n",
            "  adding: callback_val_chkp/stft_cnn/assets/ (stored 0%)\n",
            "  adding: callback_val_chkp/stft_cnn/saved_model.pb (deflated 91%)\n",
            "  adding: callback_val_chkp/stft_cnn/variables/ (stored 0%)\n",
            "  adding: callback_val_chkp/stft_cnn/variables/variables.index (deflated 69%)\n",
            "  adding: callback_val_chkp/stft_cnn/variables/variables.data-00000-of-00001 (deflated 8%)\n",
            "  adding: callback_val_chkp/mfcc_mpl/ (stored 0%)\n",
            "  adding: callback_val_chkp/mfcc_mpl/assets/ (stored 0%)\n",
            "  adding: callback_val_chkp/mfcc_mpl/saved_model.pb (deflated 89%)\n",
            "  adding: callback_val_chkp/mfcc_mpl/variables/ (stored 0%)\n",
            "  adding: callback_val_chkp/mfcc_mpl/variables/variables.index (deflated 65%)\n",
            "  adding: callback_val_chkp/mfcc_mpl/variables/variables.data-00000-of-00001 (deflated 7%)\n",
            "  adding: callback_val_chkp/stft_DS-CNN/ (stored 0%)\n",
            "  adding: callback_val_chkp/stft_DS-CNN/assets/ (stored 0%)\n",
            "  adding: callback_val_chkp/stft_DS-CNN/saved_model.pb (deflated 91%)\n",
            "  adding: callback_val_chkp/stft_DS-CNN/variables/ (stored 0%)\n",
            "  adding: callback_val_chkp/stft_DS-CNN/variables/variables.index (deflated 71%)\n",
            "  adding: callback_val_chkp/stft_DS-CNN/variables/variables.data-00000-of-00001 (deflated 8%)\n",
            "  adding: callback_val_chkp/mfcc_cnn/ (stored 0%)\n",
            "  adding: callback_val_chkp/mfcc_cnn/assets/ (stored 0%)\n",
            "  adding: callback_val_chkp/mfcc_cnn/saved_model.pb (deflated 91%)\n",
            "  adding: callback_val_chkp/mfcc_cnn/variables/ (stored 0%)\n",
            "  adding: callback_val_chkp/mfcc_cnn/variables/variables.index (deflated 69%)\n",
            "  adding: callback_val_chkp/mfcc_cnn/variables/variables.data-00000-of-00001 (deflated 8%)\n",
            "  adding: callback_val_chkp/mfcc_DS-CNN/ (stored 0%)\n",
            "  adding: callback_val_chkp/mfcc_DS-CNN/assets/ (stored 0%)\n",
            "  adding: callback_val_chkp/mfcc_DS-CNN/saved_model.pb (deflated 91%)\n",
            "  adding: callback_val_chkp/mfcc_DS-CNN/variables/ (stored 0%)\n",
            "  adding: callback_val_chkp/mfcc_DS-CNN/variables/variables.index (deflated 71%)\n",
            "  adding: callback_val_chkp/mfcc_DS-CNN/variables/variables.data-00000-of-00001 (deflated 8%)\n"
          ],
          "name": "stdout"
        }
      ]
    },
    {
      "cell_type": "code",
      "metadata": {
        "colab": {
          "base_uri": "https://localhost:8080/"
        },
        "id": "BxnlahynELvR",
        "outputId": "b37b50c2-4c58-47c3-9b51-ee9fbf48710c"
      },
      "source": [
        "!ls"
      ],
      "execution_count": 68,
      "outputs": [
        {
          "output_type": "stream",
          "text": [
            "callback_val_chkp  data  sample_data  silence_model.zip\n"
          ],
          "name": "stdout"
        }
      ]
    },
    {
      "cell_type": "code",
      "metadata": {
        "colab": {
          "base_uri": "https://localhost:8080/",
          "height": 17
        },
        "id": "m9-SxtBREPMQ",
        "outputId": "ce2338a4-6818-4768-e8f3-b6dc979e9c57"
      },
      "source": [
        "try:\n",
        "  from google.colab import files\n",
        "  files.download('./silence_model.zip')\n",
        "except ImportError:\n",
        "  pass"
      ],
      "execution_count": 69,
      "outputs": [
        {
          "output_type": "display_data",
          "data": {
            "application/javascript": [
              "\n",
              "    async function download(id, filename, size) {\n",
              "      if (!google.colab.kernel.accessAllowed) {\n",
              "        return;\n",
              "      }\n",
              "      const div = document.createElement('div');\n",
              "      const label = document.createElement('label');\n",
              "      label.textContent = `Downloading \"${filename}\": `;\n",
              "      div.appendChild(label);\n",
              "      const progress = document.createElement('progress');\n",
              "      progress.max = size;\n",
              "      div.appendChild(progress);\n",
              "      document.body.appendChild(div);\n",
              "\n",
              "      const buffers = [];\n",
              "      let downloaded = 0;\n",
              "\n",
              "      const channel = await google.colab.kernel.comms.open(id);\n",
              "      // Send a message to notify the kernel that we're ready.\n",
              "      channel.send({})\n",
              "\n",
              "      for await (const message of channel.messages) {\n",
              "        // Send a message to notify the kernel that we're ready.\n",
              "        channel.send({})\n",
              "        if (message.buffers) {\n",
              "          for (const buffer of message.buffers) {\n",
              "            buffers.push(buffer);\n",
              "            downloaded += buffer.byteLength;\n",
              "            progress.value = downloaded;\n",
              "          }\n",
              "        }\n",
              "      }\n",
              "      const blob = new Blob(buffers, {type: 'application/binary'});\n",
              "      const a = document.createElement('a');\n",
              "      a.href = window.URL.createObjectURL(blob);\n",
              "      a.download = filename;\n",
              "      div.appendChild(a);\n",
              "      a.click();\n",
              "      div.remove();\n",
              "    }\n",
              "  "
            ],
            "text/plain": [
              "<IPython.core.display.Javascript object>"
            ]
          },
          "metadata": {
            "tags": []
          }
        },
        {
          "output_type": "display_data",
          "data": {
            "application/javascript": [
              "download(\"download_c2b422e8-c642-421a-b808-f1a321372c95\", \"silence_model.zip\", 17283148)"
            ],
            "text/plain": [
              "<IPython.core.display.Javascript object>"
            ]
          },
          "metadata": {
            "tags": []
          }
        }
      ]
    }
  ]
}