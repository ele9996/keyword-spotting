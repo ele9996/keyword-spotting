{
  "nbformat": 4,
  "nbformat_minor": 0,
  "metadata": {
    "colab": {
      "name": "main.ipynb",
      "provenance": [],
      "authorship_tag": "ABX9TyPBJ7QHHcTbelGTQuW+cYEA",
      "include_colab_link": true
    },
    "kernelspec": {
      "name": "python3",
      "display_name": "Python 3"
    }
  },
  "cells": [
    {
      "cell_type": "markdown",
      "metadata": {
        "id": "view-in-github",
        "colab_type": "text"
      },
      "source": [
        "<a href=\"https://colab.research.google.com/github/ele9996/keyword-spotting/blob/main/main.ipynb\" target=\"_parent\"><img src=\"https://colab.research.google.com/assets/colab-badge.svg\" alt=\"Open In Colab\"/></a>"
      ]
    },
    {
      "cell_type": "code",
      "metadata": {
        "id": "Q6TDZsVFohfw"
      },
      "source": [
        "import tensorflow as tf\n",
        "import numpy as np\n",
        "from tensorflow import keras\n",
        "import pandas as pd\n",
        "import matplotlib.pyplot as plt\n",
        "import os\n",
        "from zipfile import ZipFile"
      ],
      "execution_count": 1,
      "outputs": []
    },
    {
      "cell_type": "code",
      "metadata": {
        "id": "ZYKtkvY1zLsD"
      },
      "source": [
        "#parser = argparse.ArgumentParser()\n",
        "#parser.add_argument('--model', type=str, required=True, help='model name')\n",
        "#parser.add_argument('--mfcc', action='store_true', help='use MFCCs')\n",
        "#parser.add_argument('--silence', action='store_true', help='add silence')\n",
        "#args = parser.parse_args()\n",
        "\n",
        "mfcc=True\n",
        "silence=False"
      ],
      "execution_count": 2,
      "outputs": []
    },
    {
      "cell_type": "code",
      "metadata": {
        "id": "bpBqRw_Qo5Nd"
      },
      "source": [
        "seed = 42\n",
        "tf.random.set_seed(seed)\n",
        "np.random.seed(seed)"
      ],
      "execution_count": 3,
      "outputs": []
    },
    {
      "cell_type": "markdown",
      "metadata": {
        "id": "qyjQ3lWJyKiX"
      },
      "source": [
        "#Data extraction from file"
      ]
    },
    {
      "cell_type": "code",
      "metadata": {
        "id": "SugHF8ulpa1_",
        "colab": {
          "base_uri": "https://localhost:8080/"
        },
        "outputId": "33b4981b-3aae-4319-f49b-677dfce979c1"
      },
      "source": [
        "#if args.silence is True:\n",
        "if silence is True:\n",
        "    data_dir = os.path.join('.', 'data', 'mini_speech_commands_silence')\n",
        "else:\n",
        "    zip_path = tf.keras.utils.get_file(\n",
        "        origin=\"http://storage.googleapis.com/download.tensorflow.org/data/mini_speech_commands.zip\",\n",
        "        fname='mini_speech_commands.zip',\n",
        "        extract=True,\n",
        "        cache_dir='.', cache_subdir='data')\n",
        "\n",
        "    data_dir = os.path.join('.', 'data', 'mini_speech_commands')\n",
        "\n",
        "filenames = tf.io.gfile.glob(str(data_dir) + '/*/*')\n",
        "filenames = tf.random.shuffle(filenames)\n",
        "num_samples = len(filenames)\n",
        "\n",
        "#if args.silence is True:\n",
        "if silence is True:\n",
        "    total = 9000\n",
        "else:\n",
        "    total = 8000"
      ],
      "execution_count": 4,
      "outputs": [
        {
          "output_type": "stream",
          "text": [
            "Downloading data from http://storage.googleapis.com/download.tensorflow.org/data/mini_speech_commands.zip\n",
            "182083584/182082353 [==============================] - 8s 0us/step\n"
          ],
          "name": "stdout"
        }
      ]
    },
    {
      "cell_type": "markdown",
      "metadata": {
        "id": "hXHzqQ_7yXjG"
      },
      "source": [
        "#Training, Validation and Test dataset definition"
      ]
    },
    {
      "cell_type": "code",
      "metadata": {
        "id": "TMgg6XmzyjC3"
      },
      "source": [
        "train_files = filenames[:int(total*0.8)]\n",
        "val_files = filenames[int(total*0.8): int(total*0.9)]\n",
        "test_files = filenames[int(total*0.9):]"
      ],
      "execution_count": 5,
      "outputs": []
    },
    {
      "cell_type": "code",
      "metadata": {
        "id": "_k9_btuKynGg"
      },
      "source": [
        "LABELS = np.array(tf.io.gfile.listdir(str(data_dir)))\n",
        "LABELS = LABELS[LABELS != 'README.md']"
      ],
      "execution_count": 6,
      "outputs": []
    },
    {
      "cell_type": "markdown",
      "metadata": {
        "id": "rg_iP45xs-bi"
      },
      "source": [
        "#Data preparation and preprocessing steps"
      ]
    },
    {
      "cell_type": "code",
      "metadata": {
        "id": "W57hi_WDtHaK"
      },
      "source": [
        "class SignalGenerator:\n",
        "    def __init__(self, labels, sampling_rate, frame_length, frame_step,\n",
        "            num_mel_bins=None, lower_frequency=None, upper_frequency=None,\n",
        "            num_coefficients=None, mfcc=False):\n",
        "        self.labels = labels\n",
        "        self.sampling_rate = sampling_rate\n",
        "        self.frame_length = frame_length\n",
        "        self.frame_step = frame_step\n",
        "        self.num_mel_bins = num_mel_bins\n",
        "        self.lower_frequency = lower_frequency\n",
        "        self.upper_frequency = upper_frequency\n",
        "        self.num_coefficients = num_coefficients\n",
        "        num_spectrogram_bins = (frame_length) // 2 + 1\n",
        "\n",
        "        if mfcc is True:\n",
        "            self.linear_to_mel_weight_matrix = tf.signal.linear_to_mel_weight_matrix(\n",
        "                    self.num_mel_bins, num_spectrogram_bins, self.sampling_rate,\n",
        "                    self.lower_frequency, self.upper_frequency)\n",
        "            self.preprocess = self.preprocess_with_mfcc\n",
        "        else:\n",
        "            self.preprocess = self.preprocess_with_stft\n",
        "\n",
        "    def read(self, file_path):\n",
        "        parts = tf.strings.split(file_path, os.path.sep)\n",
        "        label = parts[-2]\n",
        "        label_id = tf.argmax(label == self.labels)\n",
        "        audio_binary = tf.io.read_file(file_path)\n",
        "        audio, _ = tf.audio.decode_wav(audio_binary)\n",
        "        audio = tf.squeeze(audio, axis=1)\n",
        "\n",
        "        return audio, label_id\n",
        "\n",
        "    def pad(self, audio):\n",
        "        zero_padding = tf.zeros([self.sampling_rate] - tf.shape(audio), dtype=tf.float32)\n",
        "        audio = tf.concat([audio, zero_padding], 0)\n",
        "        audio.set_shape([self.sampling_rate])\n",
        "\n",
        "        return audio\n",
        "\n",
        "    def get_spectrogram(self, audio):\n",
        "        stft = tf.signal.stft(audio, frame_length=self.frame_length,\n",
        "                frame_step=self.frame_step, fft_length=self.frame_length)\n",
        "        spectrogram = tf.abs(stft)\n",
        "\n",
        "        return spectrogram\n",
        "\n",
        "    def get_mfccs(self, spectrogram):\n",
        "        mel_spectrogram = tf.tensordot(spectrogram,\n",
        "                self.linear_to_mel_weight_matrix, 1)\n",
        "        log_mel_spectrogram = tf.math.log(mel_spectrogram + 1.e-6)\n",
        "        mfccs = tf.signal.mfccs_from_log_mel_spectrograms(log_mel_spectrogram)\n",
        "        mfccs = mfccs[..., :self.num_coefficients]\n",
        "\n",
        "        return mfccs\n",
        "\n",
        "    def preprocess_with_stft(self, file_path):\n",
        "        audio, label = self.read(file_path)\n",
        "        audio = self.pad(audio)\n",
        "        spectrogram = self.get_spectrogram(audio)\n",
        "        spectrogram = tf.expand_dims(spectrogram, -1)\n",
        "        spectrogram = tf.image.resize(spectrogram, [32, 32])\n",
        "\n",
        "        return spectrogram, label\n",
        "\n",
        "    def preprocess_with_mfcc(self, file_path):\n",
        "        audio, label = self.read(file_path)\n",
        "        audio = self.pad(audio)\n",
        "        spectrogram = self.get_spectrogram(audio)\n",
        "        mfccs = self.get_mfccs(spectrogram)\n",
        "        mfccs = tf.expand_dims(mfccs, -1)\n",
        "\n",
        "        return mfccs, label\n",
        "\n",
        "    def make_dataset(self, files, train):\n",
        "        ds = tf.data.Dataset.from_tensor_slices(files)\n",
        "        ds = ds.map(self.preprocess, num_parallel_calls=4)\n",
        "        ds = ds.batch(32)\n",
        "        ds = ds.cache()\n",
        "        if train is True:\n",
        "            ds = ds.shuffle(100, reshuffle_each_iteration=True)\n",
        "\n",
        "        return ds"
      ],
      "execution_count": 7,
      "outputs": []
    },
    {
      "cell_type": "code",
      "metadata": {
        "id": "AsVi-mJtytv8"
      },
      "source": [
        "STFT_OPTIONS = {'frame_length': 256, 'frame_step': 8, 'mfcc': False}\n",
        "MFCC_OPTIONS = {'frame_length': 640, 'frame_step': 320, 'mfcc': True,\n",
        "        'lower_frequency': 20, 'upper_frequency': 4000, 'num_mel_bins': 40,\n",
        "        'num_coefficients': 10}"
      ],
      "execution_count": 8,
      "outputs": []
    },
    {
      "cell_type": "code",
      "metadata": {
        "id": "j4NFUEWjy3-L"
      },
      "source": [
        "#if args.mfcc is True:\n",
        "if mfcc is True:\n",
        "    options = MFCC_OPTIONS\n",
        "    strides = [2, 1]\n",
        "else:\n",
        "    options = STFT_OPTIONS\n",
        "    strides = [2, 2]\n"
      ],
      "execution_count": 9,
      "outputs": []
    },
    {
      "cell_type": "code",
      "metadata": {
        "id": "SxA94-IXy48F"
      },
      "source": [
        "generator = SignalGenerator(LABELS, 16000, **options)\n",
        "train_ds = generator.make_dataset(train_files, True)\n",
        "val_ds = generator.make_dataset(val_files, False)\n",
        "test_ds = generator.make_dataset(test_files, False)\n",
        "\n",
        "#if args.silence is True:\n",
        "if silence is True:\n",
        "    units = 9\n",
        "else:\n",
        "    units = 8"
      ],
      "execution_count": 10,
      "outputs": []
    },
    {
      "cell_type": "markdown",
      "metadata": {
        "id": "18WKTI390-nk"
      },
      "source": [
        "#Model application"
      ]
    },
    {
      "cell_type": "markdown",
      "metadata": {
        "id": "XQcj7oo4ZnoA"
      },
      "source": [
        "###Callback definition"
      ]
    },
    {
      "cell_type": "code",
      "metadata": {
        "id": "bfFtfBqBZ2lS"
      },
      "source": [
        "cp_callback = keras.callbacks.ModelCheckpoint(\n",
        "    './callback_test_chkp/chkp_{epoch:02d}',\n",
        "    # './callback_test_chkp/chkp_best',\n",
        "    monitor='val_loss',\n",
        "    verbose=0, \n",
        "    save_best_only=True,\n",
        "    # save_best_only=True,\n",
        "    save_weights_only=False,\n",
        "    mode='auto',\n",
        "    save_freq='epoch'\n",
        ")"
      ],
      "execution_count": 11,
      "outputs": []
    },
    {
      "cell_type": "markdown",
      "metadata": {
        "id": "HfcFBc8d1WpS"
      },
      "source": [
        "###MPL"
      ]
    },
    {
      "cell_type": "code",
      "metadata": {
        "id": "qCFKcDWf0-T3"
      },
      "source": [
        "#MLP Model definition\n",
        "mlp_model = keras.Sequential([\n",
        "    keras.layers.Flatten(),\n",
        "    keras.layers.Dense(units=256, activation='relu'),\n",
        "    keras.layers.Dense(units=256, activation='relu'),\n",
        "    keras.layers.Dense(units=256, activation='relu'),\n",
        "    keras.layers.Dense(units=8) \n",
        "])"
      ],
      "execution_count": 12,
      "outputs": []
    },
    {
      "cell_type": "code",
      "metadata": {
        "id": "3MYuCQH2seee",
        "colab": {
          "base_uri": "https://localhost:8080/"
        },
        "outputId": "ee45eb7f-6f64-46ae-8d69-3b68890ab47b"
      },
      "source": [
        "#Training, evaluation and testing with mlp model\n",
        "\n",
        "\n",
        "mlp_model.compile(loss=tf.keras.losses.SparseCategoricalCrossentropy(from_logits=True) ,optimizer='adam', metrics=['accuracy'])\n",
        "mlp_model.fit(train_ds, epochs=20,callbacks=[cp_callback])"
      ],
      "execution_count": 14,
      "outputs": [
        {
          "output_type": "stream",
          "text": [
            "Epoch 1/20\n",
            "200/200 [==============================] - ETA: 0s - loss: 1.7112 - accuracy: 0.4489WARNING:tensorflow:Can save best model only with val_loss available, skipping.\n",
            "200/200 [==============================] - 105s 527ms/step - loss: 1.7112 - accuracy: 0.4489\n",
            "Epoch 2/20\n",
            "190/200 [===========================>..] - ETA: 0s - loss: 0.9288 - accuracy: 0.6645WARNING:tensorflow:Can save best model only with val_loss available, skipping.\n",
            "200/200 [==============================] - 1s 3ms/step - loss: 0.9281 - accuracy: 0.6667\n",
            "Epoch 3/20\n",
            "186/200 [==========================>...] - ETA: 0s - loss: 0.7299 - accuracy: 0.7372WARNING:tensorflow:Can save best model only with val_loss available, skipping.\n",
            "200/200 [==============================] - 1s 3ms/step - loss: 0.7310 - accuracy: 0.7378\n",
            "Epoch 4/20\n",
            "187/200 [===========================>..] - ETA: 0s - loss: 0.5754 - accuracy: 0.7948WARNING:tensorflow:Can save best model only with val_loss available, skipping.\n",
            "200/200 [==============================] - 1s 3ms/step - loss: 0.5718 - accuracy: 0.7969\n",
            "Epoch 5/20\n",
            "190/200 [===========================>..] - ETA: 0s - loss: 0.4632 - accuracy: 0.8382WARNING:tensorflow:Can save best model only with val_loss available, skipping.\n",
            "200/200 [==============================] - 1s 3ms/step - loss: 0.4671 - accuracy: 0.8367\n",
            "Epoch 6/20\n",
            "197/200 [============================>.] - ETA: 0s - loss: 0.4053 - accuracy: 0.8549WARNING:tensorflow:Can save best model only with val_loss available, skipping.\n",
            "200/200 [==============================] - 1s 3ms/step - loss: 0.4056 - accuracy: 0.8550\n",
            "Epoch 7/20\n",
            "196/200 [============================>.] - ETA: 0s - loss: 0.3420 - accuracy: 0.8779WARNING:tensorflow:Can save best model only with val_loss available, skipping.\n",
            "200/200 [==============================] - 1s 3ms/step - loss: 0.3443 - accuracy: 0.8772\n",
            "Epoch 8/20\n",
            "188/200 [===========================>..] - ETA: 0s - loss: 0.2890 - accuracy: 0.8984WARNING:tensorflow:Can save best model only with val_loss available, skipping.\n",
            "200/200 [==============================] - 1s 3ms/step - loss: 0.3003 - accuracy: 0.8934\n",
            "Epoch 9/20\n",
            "198/200 [============================>.] - ETA: 0s - loss: 0.2866 - accuracy: 0.9034WARNING:tensorflow:Can save best model only with val_loss available, skipping.\n",
            "200/200 [==============================] - 1s 3ms/step - loss: 0.2867 - accuracy: 0.9031\n",
            "Epoch 10/20\n",
            "196/200 [============================>.] - ETA: 0s - loss: 0.2805 - accuracy: 0.9037WARNING:tensorflow:Can save best model only with val_loss available, skipping.\n",
            "200/200 [==============================] - 1s 3ms/step - loss: 0.2815 - accuracy: 0.9031\n",
            "Epoch 11/20\n",
            "199/200 [============================>.] - ETA: 0s - loss: 0.2214 - accuracy: 0.9224WARNING:tensorflow:Can save best model only with val_loss available, skipping.\n",
            "200/200 [==============================] - 1s 3ms/step - loss: 0.2215 - accuracy: 0.9223\n",
            "Epoch 12/20\n",
            "193/200 [===========================>..] - ETA: 0s - loss: 0.2202 - accuracy: 0.9250WARNING:tensorflow:Can save best model only with val_loss available, skipping.\n",
            "200/200 [==============================] - 1s 3ms/step - loss: 0.2195 - accuracy: 0.9255\n",
            "Epoch 13/20\n",
            "197/200 [============================>.] - ETA: 0s - loss: 0.2109 - accuracy: 0.9267WARNING:tensorflow:Can save best model only with val_loss available, skipping.\n",
            "200/200 [==============================] - 1s 3ms/step - loss: 0.2124 - accuracy: 0.9258\n",
            "Epoch 14/20\n",
            "185/200 [==========================>...] - ETA: 0s - loss: 0.1985 - accuracy: 0.9340WARNING:tensorflow:Can save best model only with val_loss available, skipping.\n",
            "200/200 [==============================] - 1s 3ms/step - loss: 0.2037 - accuracy: 0.9322\n",
            "Epoch 15/20\n",
            "188/200 [===========================>..] - ETA: 0s - loss: 0.2047 - accuracy: 0.9289WARNING:tensorflow:Can save best model only with val_loss available, skipping.\n",
            "200/200 [==============================] - 1s 3ms/step - loss: 0.2059 - accuracy: 0.9284\n",
            "Epoch 16/20\n",
            "190/200 [===========================>..] - ETA: 0s - loss: 0.1642 - accuracy: 0.9442WARNING:tensorflow:Can save best model only with val_loss available, skipping.\n",
            "200/200 [==============================] - 1s 3ms/step - loss: 0.1650 - accuracy: 0.9436\n",
            "Epoch 17/20\n",
            "188/200 [===========================>..] - ETA: 0s - loss: 0.1635 - accuracy: 0.9461WARNING:tensorflow:Can save best model only with val_loss available, skipping.\n",
            "200/200 [==============================] - 1s 3ms/step - loss: 0.1650 - accuracy: 0.9455\n",
            "Epoch 18/20\n",
            "200/200 [==============================] - ETA: 0s - loss: 0.1544 - accuracy: 0.9456WARNING:tensorflow:Can save best model only with val_loss available, skipping.\n",
            "200/200 [==============================] - 1s 3ms/step - loss: 0.1544 - accuracy: 0.9456\n",
            "Epoch 19/20\n",
            "192/200 [===========================>..] - ETA: 0s - loss: 0.1541 - accuracy: 0.9491WARNING:tensorflow:Can save best model only with val_loss available, skipping.\n",
            "200/200 [==============================] - 1s 3ms/step - loss: 0.1524 - accuracy: 0.9497\n",
            "Epoch 20/20\n",
            "194/200 [============================>.] - ETA: 0s - loss: 0.1259 - accuracy: 0.9580WARNING:tensorflow:Can save best model only with val_loss available, skipping.\n",
            "200/200 [==============================] - 1s 3ms/step - loss: 0.1260 - accuracy: 0.9578\n"
          ],
          "name": "stdout"
        },
        {
          "output_type": "execute_result",
          "data": {
            "text/plain": [
              "<tensorflow.python.keras.callbacks.History at 0x7ff6b5053470>"
            ]
          },
          "metadata": {
            "tags": []
          },
          "execution_count": 14
        }
      ]
    },
    {
      "cell_type": "code",
      "metadata": {
        "id": "plSqfUSDxKJc",
        "colab": {
          "base_uri": "https://localhost:8080/"
        },
        "outputId": "eecfc2a1-9b7e-4963-e5f6-717c4fcd4bad"
      },
      "source": [
        "#model evaluation on validation set\n",
        "mlp_model.compile(loss=tf.keras.losses.SparseCategoricalCrossentropy(), optimizer='adam')\n",
        "val_loss= mlp_model.evaluate(val_ds)"
      ],
      "execution_count": 15,
      "outputs": [
        {
          "output_type": "stream",
          "text": [
            "25/25 [==============================] - 23s 940ms/step - loss: 1.7222\n"
          ],
          "name": "stdout"
        }
      ]
    },
    {
      "cell_type": "code",
      "metadata": {
        "id": "u75Wnow5xeHP",
        "outputId": "056d6727-5dc2-4bba-dbaa-35866f32c660",
        "colab": {
          "base_uri": "https://localhost:8080/"
        }
      },
      "source": [
        "test_loss= mlp_model.evaluate(test_ds)"
      ],
      "execution_count": 16,
      "outputs": [
        {
          "output_type": "stream",
          "text": [
            "25/25 [==============================] - 24s 948ms/step - loss: 1.5237\n"
          ],
          "name": "stdout"
        }
      ]
    },
    {
      "cell_type": "markdown",
      "metadata": {
        "id": "jkHNcNcx1aDB"
      },
      "source": [
        "###CNN"
      ]
    },
    {
      "cell_type": "code",
      "metadata": {
        "id": "suQKxBuD1j0v"
      },
      "source": [
        "#CNN_2D Model definition\n",
        "\n",
        "cnn_2d_model = keras.Sequential([\n",
        "    keras.layers.Conv2D(filters=128,kernel_size=[3,3],strides=strides, use_bias=False),\n",
        "    keras.layers.BatchNormalization(momentum=0.1),\n",
        "    keras.layers.ReLU(),\n",
        "    keras.layers.Conv2D(filters=128,kernel_size=[3,3],strides=[1, 1], use_bias=False),\n",
        "    keras.layers.BatchNormalization(momentum=0.1),\n",
        "    keras.layers.ReLU(),\n",
        "    keras.layers.Conv2D(filters=128,kernel_size=[3,3],strides=[1,1], use_bias=False),\n",
        "    keras.layers.BatchNormalization(momentum=0.1),\n",
        "    keras.layers.ReLU(),\n",
        "    keras.layers.GlobalAveragePooling2D(),\n",
        "    keras.layers.Dense(units=8)\n",
        "])"
      ],
      "execution_count": 17,
      "outputs": []
    },
    {
      "cell_type": "code",
      "metadata": {
        "id": "ufA9mxR7yJKs",
        "colab": {
          "base_uri": "https://localhost:8080/"
        },
        "outputId": "e58c906a-1b95-49e9-ef12-d1331b6c6708"
      },
      "source": [
        "#Training, evaluation and testing with mlp model\n",
        "cnn_2d_model.compile(loss=tf.keras.losses.SparseCategoricalCrossentropy(from_logits=True) ,optimizer='adam', metrics=['accuracy'])\n",
        "cnn_2d_model.fit(train_ds, epochs=20, callbacks=[cp_callback])"
      ],
      "execution_count": 19,
      "outputs": [
        {
          "output_type": "stream",
          "text": [
            "Epoch 1/20\n",
            "200/200 [==============================] - ETA: 0s - loss: 1.2155 - accuracy: 0.6336WARNING:tensorflow:Can save best model only with val_loss available, skipping.\n",
            "200/200 [==============================] - 30s 150ms/step - loss: 1.2155 - accuracy: 0.6336\n",
            "Epoch 2/20\n",
            "200/200 [==============================] - ETA: 0s - loss: 0.6260 - accuracy: 0.8400WARNING:tensorflow:Can save best model only with val_loss available, skipping.\n",
            "200/200 [==============================] - 30s 149ms/step - loss: 0.6260 - accuracy: 0.8400\n",
            "Epoch 3/20\n",
            "200/200 [==============================] - ETA: 0s - loss: 0.4398 - accuracy: 0.8852WARNING:tensorflow:Can save best model only with val_loss available, skipping.\n",
            "200/200 [==============================] - 30s 148ms/step - loss: 0.4398 - accuracy: 0.8852\n",
            "Epoch 4/20\n",
            "200/200 [==============================] - ETA: 0s - loss: 0.3530 - accuracy: 0.9045WARNING:tensorflow:Can save best model only with val_loss available, skipping.\n",
            "200/200 [==============================] - 30s 149ms/step - loss: 0.3530 - accuracy: 0.9045\n",
            "Epoch 5/20\n",
            "200/200 [==============================] - ETA: 0s - loss: 0.2886 - accuracy: 0.9228WARNING:tensorflow:Can save best model only with val_loss available, skipping.\n",
            "200/200 [==============================] - 30s 148ms/step - loss: 0.2886 - accuracy: 0.9228\n",
            "Epoch 6/20\n",
            "200/200 [==============================] - ETA: 0s - loss: 0.2477 - accuracy: 0.9330WARNING:tensorflow:Can save best model only with val_loss available, skipping.\n",
            "200/200 [==============================] - 30s 148ms/step - loss: 0.2477 - accuracy: 0.9330\n",
            "Epoch 7/20\n",
            "200/200 [==============================] - ETA: 0s - loss: 0.2093 - accuracy: 0.9431WARNING:tensorflow:Can save best model only with val_loss available, skipping.\n",
            "200/200 [==============================] - 30s 149ms/step - loss: 0.2093 - accuracy: 0.9431\n",
            "Epoch 8/20\n",
            "200/200 [==============================] - ETA: 0s - loss: 0.1855 - accuracy: 0.9492WARNING:tensorflow:Can save best model only with val_loss available, skipping.\n",
            "200/200 [==============================] - 30s 148ms/step - loss: 0.1855 - accuracy: 0.9492\n",
            "Epoch 9/20\n",
            "200/200 [==============================] - ETA: 0s - loss: 0.1591 - accuracy: 0.9569WARNING:tensorflow:Can save best model only with val_loss available, skipping.\n",
            "200/200 [==============================] - 30s 152ms/step - loss: 0.1591 - accuracy: 0.9569\n",
            "Epoch 10/20\n",
            "200/200 [==============================] - ETA: 0s - loss: 0.1378 - accuracy: 0.9639WARNING:tensorflow:Can save best model only with val_loss available, skipping.\n",
            "200/200 [==============================] - 30s 148ms/step - loss: 0.1378 - accuracy: 0.9639\n",
            "Epoch 11/20\n",
            "200/200 [==============================] - ETA: 0s - loss: 0.1269 - accuracy: 0.9656WARNING:tensorflow:Can save best model only with val_loss available, skipping.\n",
            "200/200 [==============================] - 30s 149ms/step - loss: 0.1269 - accuracy: 0.9656\n",
            "Epoch 12/20\n",
            "200/200 [==============================] - ETA: 0s - loss: 0.1047 - accuracy: 0.9748WARNING:tensorflow:Can save best model only with val_loss available, skipping.\n",
            "200/200 [==============================] - 30s 150ms/step - loss: 0.1047 - accuracy: 0.9748\n",
            "Epoch 13/20\n",
            "200/200 [==============================] - ETA: 0s - loss: 0.0858 - accuracy: 0.9811WARNING:tensorflow:Can save best model only with val_loss available, skipping.\n",
            "200/200 [==============================] - 30s 149ms/step - loss: 0.0858 - accuracy: 0.9811\n",
            "Epoch 14/20\n",
            "200/200 [==============================] - ETA: 0s - loss: 0.0710 - accuracy: 0.9848WARNING:tensorflow:Can save best model only with val_loss available, skipping.\n",
            "200/200 [==============================] - 30s 148ms/step - loss: 0.0710 - accuracy: 0.9848\n",
            "Epoch 15/20\n",
            "200/200 [==============================] - ETA: 0s - loss: 0.0690 - accuracy: 0.9858WARNING:tensorflow:Can save best model only with val_loss available, skipping.\n",
            "200/200 [==============================] - 30s 150ms/step - loss: 0.0690 - accuracy: 0.9858\n",
            "Epoch 16/20\n",
            "200/200 [==============================] - ETA: 0s - loss: 0.0628 - accuracy: 0.9872WARNING:tensorflow:Can save best model only with val_loss available, skipping.\n",
            "200/200 [==============================] - 30s 149ms/step - loss: 0.0628 - accuracy: 0.9872\n",
            "Epoch 17/20\n",
            "200/200 [==============================] - ETA: 0s - loss: 0.0505 - accuracy: 0.9902WARNING:tensorflow:Can save best model only with val_loss available, skipping.\n",
            "200/200 [==============================] - 30s 150ms/step - loss: 0.0505 - accuracy: 0.9902\n",
            "Epoch 18/20\n",
            "200/200 [==============================] - ETA: 0s - loss: 0.0498 - accuracy: 0.9898WARNING:tensorflow:Can save best model only with val_loss available, skipping.\n",
            "200/200 [==============================] - 30s 150ms/step - loss: 0.0498 - accuracy: 0.9898\n",
            "Epoch 19/20\n",
            "200/200 [==============================] - ETA: 0s - loss: 0.0396 - accuracy: 0.9917WARNING:tensorflow:Can save best model only with val_loss available, skipping.\n",
            "200/200 [==============================] - 30s 152ms/step - loss: 0.0396 - accuracy: 0.9917\n",
            "Epoch 20/20\n",
            "200/200 [==============================] - ETA: 0s - loss: 0.0383 - accuracy: 0.9928WARNING:tensorflow:Can save best model only with val_loss available, skipping.\n",
            "200/200 [==============================] - 30s 148ms/step - loss: 0.0383 - accuracy: 0.9928\n"
          ],
          "name": "stdout"
        },
        {
          "output_type": "execute_result",
          "data": {
            "text/plain": [
              "<tensorflow.python.keras.callbacks.History at 0x7ff6aea28588>"
            ]
          },
          "metadata": {
            "tags": []
          },
          "execution_count": 19
        }
      ]
    },
    {
      "cell_type": "code",
      "metadata": {
        "id": "Vm5lUb1wyV0V",
        "colab": {
          "base_uri": "https://localhost:8080/"
        },
        "outputId": "ef2b543a-2583-48f9-cc62-b7f4aeca14fa"
      },
      "source": [
        "#model evaluation on validation set\n",
        "cnn_2d_model.compile(loss=tf.keras.losses.SparseCategoricalCrossentropy(), optimizer='adam')\n",
        "val_loss= cnn_2d_model.evaluate(val_ds)"
      ],
      "execution_count": 20,
      "outputs": [
        {
          "output_type": "stream",
          "text": [
            "25/25 [==============================] - 1s 36ms/step - loss: 0.7952\n"
          ],
          "name": "stdout"
        }
      ]
    },
    {
      "cell_type": "code",
      "metadata": {
        "id": "Hc7ebmYryZiA",
        "colab": {
          "base_uri": "https://localhost:8080/"
        },
        "outputId": "da639590-d990-4a8e-eae7-c271bd2fc401"
      },
      "source": [
        "#model test on the test set\n",
        "test_loss= cnn_2d_model.evaluate(test_ds)"
      ],
      "execution_count": 21,
      "outputs": [
        {
          "output_type": "stream",
          "text": [
            "25/25 [==============================] - 1s 36ms/step - loss: 0.8806\n"
          ],
          "name": "stdout"
        }
      ]
    },
    {
      "cell_type": "markdown",
      "metadata": {
        "id": "W0cBDG_W1gCZ"
      },
      "source": [
        "###DS-CNN"
      ]
    },
    {
      "cell_type": "code",
      "metadata": {
        "id": "7ZS5R5pk1kb0"
      },
      "source": [
        "ds_cnn_model = keras.Sequential([\n",
        "    keras.layers.Conv2D(filters=256,kernel_size=[3,3],strides=strides, use_bias=False),\n",
        "    keras.layers.BatchNormalization(momentum=0.1),\n",
        "    keras.layers.ReLU(),\n",
        "    keras.layers.DepthwiseConv2D(kernel_size=[3,3],strides=[1, 1], use_bias=False),\n",
        "    keras.layers.Conv2D(filters=256,kernel_size=[1,1],strides=[1,1], use_bias=False),\n",
        "    keras.layers.BatchNormalization(momentum=0.1),\n",
        "    keras.layers.ReLU(),\n",
        "    keras.layers.DepthwiseConv2D(kernel_size=[3,3],strides=[1, 1], use_bias=False),\n",
        "    keras.layers.Conv2D(filters=256,kernel_size=[1,1],strides=[1,1], use_bias=False),\n",
        "    keras.layers.BatchNormalization(momentum=0.1),\n",
        "    keras.layers.ReLU(),\n",
        "    keras.layers.GlobalAveragePooling2D(),\n",
        "    keras.layers.Dense(units=8)\n",
        "])"
      ],
      "execution_count": 22,
      "outputs": []
    },
    {
      "cell_type": "code",
      "metadata": {
        "id": "Jrk7FmQQ0UtN",
        "colab": {
          "base_uri": "https://localhost:8080/"
        },
        "outputId": "3618a97d-2387-46b4-afc5-37927d02bafe"
      },
      "source": [
        "#Training, evaluation and testing with mlp model\n",
        "ds_cnn_model.compile(loss=tf.keras.losses.SparseCategoricalCrossentropy(from_logits=True) ,optimizer='adam', metrics=['accuracy'])\n",
        "ds_cnn_model.fit(train_ds, epochs=20,callbacks=[cp_callback])"
      ],
      "execution_count": 23,
      "outputs": [
        {
          "output_type": "stream",
          "text": [
            "Epoch 1/20\n",
            "200/200 [==============================] - ETA: 0s - loss: 1.2386 - accuracy: 0.6083WARNING:tensorflow:Can save best model only with val_loss available, skipping.\n",
            "200/200 [==============================] - 22s 112ms/step - loss: 1.2386 - accuracy: 0.6083\n",
            "Epoch 2/20\n",
            "200/200 [==============================] - ETA: 0s - loss: 0.6136 - accuracy: 0.8327WARNING:tensorflow:Can save best model only with val_loss available, skipping.\n",
            "200/200 [==============================] - 22s 112ms/step - loss: 0.6136 - accuracy: 0.8327\n",
            "Epoch 3/20\n",
            "200/200 [==============================] - ETA: 0s - loss: 0.4223 - accuracy: 0.8858WARNING:tensorflow:Can save best model only with val_loss available, skipping.\n",
            "200/200 [==============================] - 22s 112ms/step - loss: 0.4223 - accuracy: 0.8858\n",
            "Epoch 4/20\n",
            "200/200 [==============================] - ETA: 0s - loss: 0.3319 - accuracy: 0.9081WARNING:tensorflow:Can save best model only with val_loss available, skipping.\n",
            "200/200 [==============================] - 22s 110ms/step - loss: 0.3319 - accuracy: 0.9081\n",
            "Epoch 5/20\n",
            "200/200 [==============================] - ETA: 0s - loss: 0.2846 - accuracy: 0.9148WARNING:tensorflow:Can save best model only with val_loss available, skipping.\n",
            "200/200 [==============================] - 22s 112ms/step - loss: 0.2846 - accuracy: 0.9148\n",
            "Epoch 6/20\n",
            "200/200 [==============================] - ETA: 0s - loss: 0.2454 - accuracy: 0.9292WARNING:tensorflow:Can save best model only with val_loss available, skipping.\n",
            "200/200 [==============================] - 22s 111ms/step - loss: 0.2454 - accuracy: 0.9292\n",
            "Epoch 7/20\n",
            "200/200 [==============================] - ETA: 0s - loss: 0.2074 - accuracy: 0.9419WARNING:tensorflow:Can save best model only with val_loss available, skipping.\n",
            "200/200 [==============================] - 22s 112ms/step - loss: 0.2074 - accuracy: 0.9419\n",
            "Epoch 8/20\n",
            "200/200 [==============================] - ETA: 0s - loss: 0.1818 - accuracy: 0.9477WARNING:tensorflow:Can save best model only with val_loss available, skipping.\n",
            "200/200 [==============================] - 23s 113ms/step - loss: 0.1818 - accuracy: 0.9477\n",
            "Epoch 9/20\n",
            "200/200 [==============================] - ETA: 0s - loss: 0.1600 - accuracy: 0.9555WARNING:tensorflow:Can save best model only with val_loss available, skipping.\n",
            "200/200 [==============================] - 22s 111ms/step - loss: 0.1600 - accuracy: 0.9555\n",
            "Epoch 10/20\n",
            "200/200 [==============================] - ETA: 0s - loss: 0.1370 - accuracy: 0.9605WARNING:tensorflow:Can save best model only with val_loss available, skipping.\n",
            "200/200 [==============================] - 22s 110ms/step - loss: 0.1370 - accuracy: 0.9605\n",
            "Epoch 11/20\n",
            "200/200 [==============================] - ETA: 0s - loss: 0.1231 - accuracy: 0.9670WARNING:tensorflow:Can save best model only with val_loss available, skipping.\n",
            "200/200 [==============================] - 22s 112ms/step - loss: 0.1231 - accuracy: 0.9670\n",
            "Epoch 12/20\n",
            "200/200 [==============================] - ETA: 0s - loss: 0.1085 - accuracy: 0.9708WARNING:tensorflow:Can save best model only with val_loss available, skipping.\n",
            "200/200 [==============================] - 22s 111ms/step - loss: 0.1085 - accuracy: 0.9708\n",
            "Epoch 13/20\n",
            "200/200 [==============================] - ETA: 0s - loss: 0.0954 - accuracy: 0.9733WARNING:tensorflow:Can save best model only with val_loss available, skipping.\n",
            "200/200 [==============================] - 23s 114ms/step - loss: 0.0954 - accuracy: 0.9733\n",
            "Epoch 14/20\n",
            "200/200 [==============================] - ETA: 0s - loss: 0.0811 - accuracy: 0.9800WARNING:tensorflow:Can save best model only with val_loss available, skipping.\n",
            "200/200 [==============================] - 22s 112ms/step - loss: 0.0811 - accuracy: 0.9800\n",
            "Epoch 15/20\n",
            "200/200 [==============================] - ETA: 0s - loss: 0.0675 - accuracy: 0.9841WARNING:tensorflow:Can save best model only with val_loss available, skipping.\n",
            "200/200 [==============================] - 22s 112ms/step - loss: 0.0675 - accuracy: 0.9841\n",
            "Epoch 16/20\n",
            "200/200 [==============================] - ETA: 0s - loss: 0.0716 - accuracy: 0.9817WARNING:tensorflow:Can save best model only with val_loss available, skipping.\n",
            "200/200 [==============================] - 22s 111ms/step - loss: 0.0716 - accuracy: 0.9817\n",
            "Epoch 17/20\n",
            "200/200 [==============================] - ETA: 0s - loss: 0.0652 - accuracy: 0.9859WARNING:tensorflow:Can save best model only with val_loss available, skipping.\n",
            "200/200 [==============================] - 22s 111ms/step - loss: 0.0652 - accuracy: 0.9859\n",
            "Epoch 18/20\n",
            "200/200 [==============================] - ETA: 0s - loss: 0.0518 - accuracy: 0.9873WARNING:tensorflow:Can save best model only with val_loss available, skipping.\n",
            "200/200 [==============================] - 22s 111ms/step - loss: 0.0518 - accuracy: 0.9873\n",
            "Epoch 19/20\n",
            "200/200 [==============================] - ETA: 0s - loss: 0.0410 - accuracy: 0.9914WARNING:tensorflow:Can save best model only with val_loss available, skipping.\n",
            "200/200 [==============================] - 22s 112ms/step - loss: 0.0410 - accuracy: 0.9914\n",
            "Epoch 20/20\n",
            "200/200 [==============================] - ETA: 0s - loss: 0.0455 - accuracy: 0.9889WARNING:tensorflow:Can save best model only with val_loss available, skipping.\n",
            "200/200 [==============================] - 22s 112ms/step - loss: 0.0455 - accuracy: 0.9889\n"
          ],
          "name": "stdout"
        },
        {
          "output_type": "execute_result",
          "data": {
            "text/plain": [
              "<tensorflow.python.keras.callbacks.History at 0x7ff6ae05aa58>"
            ]
          },
          "metadata": {
            "tags": []
          },
          "execution_count": 23
        }
      ]
    },
    {
      "cell_type": "code",
      "metadata": {
        "id": "awDK6mWX0bM_",
        "colab": {
          "base_uri": "https://localhost:8080/"
        },
        "outputId": "cd469292-3e01-407d-9e0c-8a39434e4c34"
      },
      "source": [
        "#model evaluation on validation set\n",
        "ds_cnn_model.compile(loss=tf.keras.losses.SparseCategoricalCrossentropy(), optimizer='adam')\n",
        "val_loss= ds_cnn_model.evaluate(val_ds)"
      ],
      "execution_count": 24,
      "outputs": [
        {
          "output_type": "stream",
          "text": [
            "25/25 [==============================] - 1s 31ms/step - loss: 0.7021\n"
          ],
          "name": "stdout"
        }
      ]
    },
    {
      "cell_type": "code",
      "metadata": {
        "id": "oix_VKz70ynC",
        "colab": {
          "base_uri": "https://localhost:8080/"
        },
        "outputId": "77e4626b-b84b-4b2f-d624-6312741e1120"
      },
      "source": [
        "#model test on the test set\n",
        "test_loss= ds_cnn_model.evaluate(test_ds)"
      ],
      "execution_count": 25,
      "outputs": [
        {
          "output_type": "stream",
          "text": [
            "25/25 [==============================] - 1s 30ms/step - loss: 0.6723\n"
          ],
          "name": "stdout"
        }
      ]
    },
    {
      "cell_type": "code",
      "metadata": {
        "id": "ca23yP_pWP1E"
      },
      "source": [
        ""
      ],
      "execution_count": 25,
      "outputs": []
    }
  ]
}